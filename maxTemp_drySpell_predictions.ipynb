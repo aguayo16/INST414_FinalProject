{
 "cells": [
  {
   "cell_type": "markdown",
   "metadata": {},
   "source": [
    "# Predicting Max Temperature and Dry Spell for the Next Month of Each City"
   ]
  },
  {
   "cell_type": "code",
   "execution_count": 32,
   "metadata": {},
   "outputs": [],
   "source": [
    "import pandas as pd\n",
    "import matplotlib.pyplot as plt\n",
    "import datetime\n",
    "from sklearn.linear_model import Ridge\n",
    "from sklearn.metrics import mean_absolute_error, mean_squared_error, r2_score"
   ]
  },
  {
   "cell_type": "code",
   "execution_count": 114,
   "metadata": {},
   "outputs": [],
   "source": [
    "# Reading the dataframes\n",
    "adelphi_df = pd.read_csv('adelphi_df').set_index('Date')\n",
    "ack_df = pd.read_csv('ack_df').set_index('Date')\n",
    "albany_df = pd.read_csv('albany_df').set_index('Date')\n",
    "alachua_df = pd.read_csv('alachua_df').set_index('Date')\n",
    "\n",
    "# Setting index as Date and making it into a datetime object\n",
    "adelphi_df.index = pd.to_datetime(adelphi_df.index)\n",
    "ack_df.index = pd.to_datetime(ack_df.index)\n",
    "albany_df.index = pd.to_datetime(albany_df.index)\n",
    "alachua_df.index = pd.to_datetime(alachua_df.index)"
   ]
  },
  {
   "cell_type": "markdown",
   "metadata": {},
   "source": [
    "## Creating function for making predictions"
   ]
  },
  {
   "cell_type": "code",
   "execution_count": 34,
   "metadata": {},
   "outputs": [],
   "source": [
    "## Setting the model \n",
    "reg = Ridge(alpha=.1)\n",
    "## Identifying our predictors\n",
    "predictors = ['AVG_Dry_Spell', 'AVG_Frost_Days', 'AVG_Max_High_Temp','AVG_Min_Low_Temp', 'AVG_Precip_Percentile']\n",
    "## Creating a function for training and prediction\n",
    "def predict(predictors, df, reg):\n",
    "    train = df.loc[:'2019-10-01']\n",
    "    test = df.loc['2019-11-01':]\n",
    "    reg.fit(train[predictors],  train['Target']) \n",
    "    predictions = reg.predict(test[predictors])\n",
    "    error = print('Error: ', mean_absolute_error(test['Target'], predictions))\n",
    "    r_square = print('r^2: ', r2_score(test['Target'], predictions))\n",
    "    combined = pd.concat([test['Target'], pd.Series(predictions, index=test.index)], axis=1)\n",
    "    combined.columns = ['Actual', 'Prediction']\n",
    "    return error, r_square, combined"
   ]
  },
  {
   "cell_type": "markdown",
   "metadata": {},
   "source": [
    "## Max Temperature Prediction in Adelphi"
   ]
  },
  {
   "cell_type": "code",
   "execution_count": 74,
   "metadata": {},
   "outputs": [
    {
     "data": {
      "text/html": [
       "<div>\n",
       "<style scoped>\n",
       "    .dataframe tbody tr th:only-of-type {\n",
       "        vertical-align: middle;\n",
       "    }\n",
       "\n",
       "    .dataframe tbody tr th {\n",
       "        vertical-align: top;\n",
       "    }\n",
       "\n",
       "    .dataframe thead th {\n",
       "        text-align: right;\n",
       "    }\n",
       "</style>\n",
       "<table border=\"1\" class=\"dataframe\">\n",
       "  <thead>\n",
       "    <tr style=\"text-align: right;\">\n",
       "      <th></th>\n",
       "      <th>AVG_Dry_Spell</th>\n",
       "      <th>AVG_Frost_Days</th>\n",
       "      <th>AVG_Max_High_Temp</th>\n",
       "      <th>AVG_Min_Low_Temp</th>\n",
       "      <th>AVG_Precip_Percentile</th>\n",
       "      <th>Target</th>\n",
       "    </tr>\n",
       "    <tr>\n",
       "      <th>Date</th>\n",
       "      <th></th>\n",
       "      <th></th>\n",
       "      <th></th>\n",
       "      <th></th>\n",
       "      <th></th>\n",
       "      <th></th>\n",
       "    </tr>\n",
       "  </thead>\n",
       "  <tbody>\n",
       "    <tr>\n",
       "      <th>2006-01-01</th>\n",
       "      <td>0.666667</td>\n",
       "      <td>23.333333</td>\n",
       "      <td>58.380462</td>\n",
       "      <td>6.651906</td>\n",
       "      <td>0.008978</td>\n",
       "      <td>64.210977</td>\n",
       "    </tr>\n",
       "    <tr>\n",
       "      <th>2006-02-01</th>\n",
       "      <td>0.523810</td>\n",
       "      <td>16.000000</td>\n",
       "      <td>64.210977</td>\n",
       "      <td>12.375184</td>\n",
       "      <td>0.011565</td>\n",
       "      <td>71.779725</td>\n",
       "    </tr>\n",
       "    <tr>\n",
       "      <th>2006-03-01</th>\n",
       "      <td>0.619048</td>\n",
       "      <td>12.809524</td>\n",
       "      <td>71.779725</td>\n",
       "      <td>18.881910</td>\n",
       "      <td>0.010393</td>\n",
       "      <td>81.003826</td>\n",
       "    </tr>\n",
       "    <tr>\n",
       "      <th>2006-04-01</th>\n",
       "      <td>0.428571</td>\n",
       "      <td>2.619048</td>\n",
       "      <td>81.003826</td>\n",
       "      <td>29.565725</td>\n",
       "      <td>0.019990</td>\n",
       "      <td>88.391318</td>\n",
       "    </tr>\n",
       "    <tr>\n",
       "      <th>2006-05-01</th>\n",
       "      <td>0.380952</td>\n",
       "      <td>0.095238</td>\n",
       "      <td>88.391318</td>\n",
       "      <td>39.327334</td>\n",
       "      <td>0.044866</td>\n",
       "      <td>93.546919</td>\n",
       "    </tr>\n",
       "    <tr>\n",
       "      <th>...</th>\n",
       "      <td>...</td>\n",
       "      <td>...</td>\n",
       "      <td>...</td>\n",
       "      <td>...</td>\n",
       "      <td>...</td>\n",
       "      <td>...</td>\n",
       "    </tr>\n",
       "    <tr>\n",
       "      <th>2022-11-01</th>\n",
       "      <td>0.380952</td>\n",
       "      <td>5.809524</td>\n",
       "      <td>72.442504</td>\n",
       "      <td>25.883503</td>\n",
       "      <td>0.016771</td>\n",
       "      <td>66.392951</td>\n",
       "    </tr>\n",
       "    <tr>\n",
       "      <th>2022-12-01</th>\n",
       "      <td>0.476190</td>\n",
       "      <td>16.952381</td>\n",
       "      <td>66.392951</td>\n",
       "      <td>17.665203</td>\n",
       "      <td>0.020295</td>\n",
       "      <td>62.688411</td>\n",
       "    </tr>\n",
       "    <tr>\n",
       "      <th>2023-01-01</th>\n",
       "      <td>0.714286</td>\n",
       "      <td>21.761905</td>\n",
       "      <td>62.688411</td>\n",
       "      <td>8.430347</td>\n",
       "      <td>0.011336</td>\n",
       "      <td>64.619907</td>\n",
       "    </tr>\n",
       "    <tr>\n",
       "      <th>2023-02-01</th>\n",
       "      <td>0.904762</td>\n",
       "      <td>17.571429</td>\n",
       "      <td>64.619907</td>\n",
       "      <td>11.754573</td>\n",
       "      <td>0.009181</td>\n",
       "      <td>70.848644</td>\n",
       "    </tr>\n",
       "    <tr>\n",
       "      <th>2023-03-01</th>\n",
       "      <td>0.619048</td>\n",
       "      <td>10.476190</td>\n",
       "      <td>70.848644</td>\n",
       "      <td>21.150477</td>\n",
       "      <td>0.018177</td>\n",
       "      <td>83.160816</td>\n",
       "    </tr>\n",
       "  </tbody>\n",
       "</table>\n",
       "<p>207 rows × 6 columns</p>\n",
       "</div>"
      ],
      "text/plain": [
       "            AVG_Dry_Spell  AVG_Frost_Days  AVG_Max_High_Temp  \\\n",
       "Date                                                           \n",
       "2006-01-01       0.666667       23.333333          58.380462   \n",
       "2006-02-01       0.523810       16.000000          64.210977   \n",
       "2006-03-01       0.619048       12.809524          71.779725   \n",
       "2006-04-01       0.428571        2.619048          81.003826   \n",
       "2006-05-01       0.380952        0.095238          88.391318   \n",
       "...                   ...             ...                ...   \n",
       "2022-11-01       0.380952        5.809524          72.442504   \n",
       "2022-12-01       0.476190       16.952381          66.392951   \n",
       "2023-01-01       0.714286       21.761905          62.688411   \n",
       "2023-02-01       0.904762       17.571429          64.619907   \n",
       "2023-03-01       0.619048       10.476190          70.848644   \n",
       "\n",
       "            AVG_Min_Low_Temp  AVG_Precip_Percentile     Target  \n",
       "Date                                                            \n",
       "2006-01-01          6.651906               0.008978  64.210977  \n",
       "2006-02-01         12.375184               0.011565  71.779725  \n",
       "2006-03-01         18.881910               0.010393  81.003826  \n",
       "2006-04-01         29.565725               0.019990  88.391318  \n",
       "2006-05-01         39.327334               0.044866  93.546919  \n",
       "...                      ...                    ...        ...  \n",
       "2022-11-01         25.883503               0.016771  66.392951  \n",
       "2022-12-01         17.665203               0.020295  62.688411  \n",
       "2023-01-01          8.430347               0.011336  64.619907  \n",
       "2023-02-01         11.754573               0.009181  70.848644  \n",
       "2023-03-01         21.150477               0.018177  83.160816  \n",
       "\n",
       "[207 rows x 6 columns]"
      ]
     },
     "execution_count": 74,
     "metadata": {},
     "output_type": "execute_result"
    }
   ],
   "source": [
    "adelphi_df['Target'] = adelphi_df.shift(-1)['AVG_Max_High_Temp']\n",
    "adelphi_df = adelphi_df.iloc[:-3,:].copy()\n",
    "adelphi_df"
   ]
  },
  {
   "cell_type": "code",
   "execution_count": 75,
   "metadata": {},
   "outputs": [
    {
     "name": "stdout",
     "output_type": "stream",
     "text": [
      "Error:  5.669593189077593\n",
      "r^2:  0.7696229858182531\n"
     ]
    }
   ],
   "source": [
    "error, r_square, adelphi_combined = predict(predictors, adelphi_df, reg)"
   ]
  },
  {
   "cell_type": "code",
   "execution_count": 40,
   "metadata": {},
   "outputs": [
    {
     "name": "stdout",
     "output_type": "stream",
     "text": [
      "Intercepts:  [-12.58346539   0.75896094   2.96800484  -1.47714837  13.01520007]\n",
      "               Actual  Prediction\n",
      "Date                             \n",
      "2019-11-01  66.084295   68.479265\n",
      "2019-12-01  61.934662   71.151295\n",
      "2020-01-01  64.173576   70.225233\n",
      "2020-02-01  69.990751   59.852586\n",
      "2020-03-01  82.304724   70.467034\n"
     ]
    },
    {
     "data": {
      "text/plain": [
       "<AxesSubplot:xlabel='Date'>"
      ]
     },
     "execution_count": 40,
     "metadata": {},
     "output_type": "execute_result"
    },
    {
     "data": {
      "image/png": "[encoded data removed]",
      "text/plain": [
       "<Figure size 432x288 with 1 Axes>"
      ]
     },
     "metadata": {
      "needs_background": "light"
     },
     "output_type": "display_data"
    }
   ],
   "source": [
    "print('Intercepts: ', reg.coef_)\n",
    "print(adelphi_combined.head())\n",
    "adelphi_combined.plot()"
   ]
  },
  {
   "cell_type": "markdown",
   "metadata": {},
   "source": [
    "## Dry Spell Prediction in Adelphi"
   ]
  },
  {
   "cell_type": "code",
   "execution_count": 78,
   "metadata": {},
   "outputs": [
    {
     "data": {
      "text/html": [
       "<div>\n",
       "<style scoped>\n",
       "    .dataframe tbody tr th:only-of-type {\n",
       "        vertical-align: middle;\n",
       "    }\n",
       "\n",
       "    .dataframe tbody tr th {\n",
       "        vertical-align: top;\n",
       "    }\n",
       "\n",
       "    .dataframe thead th {\n",
       "        text-align: right;\n",
       "    }\n",
       "</style>\n",
       "<table border=\"1\" class=\"dataframe\">\n",
       "  <thead>\n",
       "    <tr style=\"text-align: right;\">\n",
       "      <th></th>\n",
       "      <th>AVG_Dry_Spell</th>\n",
       "      <th>AVG_Frost_Days</th>\n",
       "      <th>AVG_Max_High_Temp</th>\n",
       "      <th>AVG_Min_Low_Temp</th>\n",
       "      <th>AVG_Precip_Percentile</th>\n",
       "      <th>Target</th>\n",
       "    </tr>\n",
       "    <tr>\n",
       "      <th>Date</th>\n",
       "      <th></th>\n",
       "      <th></th>\n",
       "      <th></th>\n",
       "      <th></th>\n",
       "      <th></th>\n",
       "      <th></th>\n",
       "    </tr>\n",
       "  </thead>\n",
       "  <tbody>\n",
       "    <tr>\n",
       "      <th>2006-01-01</th>\n",
       "      <td>0.666667</td>\n",
       "      <td>23.333333</td>\n",
       "      <td>58.380462</td>\n",
       "      <td>6.651906</td>\n",
       "      <td>0.008978</td>\n",
       "      <td>0.523810</td>\n",
       "    </tr>\n",
       "    <tr>\n",
       "      <th>2006-02-01</th>\n",
       "      <td>0.523810</td>\n",
       "      <td>16.000000</td>\n",
       "      <td>64.210977</td>\n",
       "      <td>12.375184</td>\n",
       "      <td>0.011565</td>\n",
       "      <td>0.619048</td>\n",
       "    </tr>\n",
       "    <tr>\n",
       "      <th>2006-03-01</th>\n",
       "      <td>0.619048</td>\n",
       "      <td>12.809524</td>\n",
       "      <td>71.779725</td>\n",
       "      <td>18.881910</td>\n",
       "      <td>0.010393</td>\n",
       "      <td>0.428571</td>\n",
       "    </tr>\n",
       "    <tr>\n",
       "      <th>2006-04-01</th>\n",
       "      <td>0.428571</td>\n",
       "      <td>2.619048</td>\n",
       "      <td>81.003826</td>\n",
       "      <td>29.565725</td>\n",
       "      <td>0.019990</td>\n",
       "      <td>0.380952</td>\n",
       "    </tr>\n",
       "    <tr>\n",
       "      <th>2006-05-01</th>\n",
       "      <td>0.380952</td>\n",
       "      <td>0.095238</td>\n",
       "      <td>88.391318</td>\n",
       "      <td>39.327334</td>\n",
       "      <td>0.044866</td>\n",
       "      <td>0.095238</td>\n",
       "    </tr>\n",
       "    <tr>\n",
       "      <th>...</th>\n",
       "      <td>...</td>\n",
       "      <td>...</td>\n",
       "      <td>...</td>\n",
       "      <td>...</td>\n",
       "      <td>...</td>\n",
       "      <td>...</td>\n",
       "    </tr>\n",
       "    <tr>\n",
       "      <th>2022-11-01</th>\n",
       "      <td>0.380952</td>\n",
       "      <td>5.809524</td>\n",
       "      <td>72.442504</td>\n",
       "      <td>25.883503</td>\n",
       "      <td>0.016771</td>\n",
       "      <td>0.476190</td>\n",
       "    </tr>\n",
       "    <tr>\n",
       "      <th>2022-12-01</th>\n",
       "      <td>0.476190</td>\n",
       "      <td>16.952381</td>\n",
       "      <td>66.392951</td>\n",
       "      <td>17.665203</td>\n",
       "      <td>0.020295</td>\n",
       "      <td>0.714286</td>\n",
       "    </tr>\n",
       "    <tr>\n",
       "      <th>2023-01-01</th>\n",
       "      <td>0.714286</td>\n",
       "      <td>21.761905</td>\n",
       "      <td>62.688411</td>\n",
       "      <td>8.430347</td>\n",
       "      <td>0.011336</td>\n",
       "      <td>0.904762</td>\n",
       "    </tr>\n",
       "    <tr>\n",
       "      <th>2023-02-01</th>\n",
       "      <td>0.904762</td>\n",
       "      <td>17.571429</td>\n",
       "      <td>64.619907</td>\n",
       "      <td>11.754573</td>\n",
       "      <td>0.009181</td>\n",
       "      <td>0.619048</td>\n",
       "    </tr>\n",
       "    <tr>\n",
       "      <th>2023-03-01</th>\n",
       "      <td>0.619048</td>\n",
       "      <td>10.476190</td>\n",
       "      <td>70.848644</td>\n",
       "      <td>21.150477</td>\n",
       "      <td>0.018177</td>\n",
       "      <td>0.238095</td>\n",
       "    </tr>\n",
       "  </tbody>\n",
       "</table>\n",
       "<p>207 rows × 6 columns</p>\n",
       "</div>"
      ],
      "text/plain": [
       "            AVG_Dry_Spell  AVG_Frost_Days  AVG_Max_High_Temp  \\\n",
       "Date                                                           \n",
       "2006-01-01       0.666667       23.333333          58.380462   \n",
       "2006-02-01       0.523810       16.000000          64.210977   \n",
       "2006-03-01       0.619048       12.809524          71.779725   \n",
       "2006-04-01       0.428571        2.619048          81.003826   \n",
       "2006-05-01       0.380952        0.095238          88.391318   \n",
       "...                   ...             ...                ...   \n",
       "2022-11-01       0.380952        5.809524          72.442504   \n",
       "2022-12-01       0.476190       16.952381          66.392951   \n",
       "2023-01-01       0.714286       21.761905          62.688411   \n",
       "2023-02-01       0.904762       17.571429          64.619907   \n",
       "2023-03-01       0.619048       10.476190          70.848644   \n",
       "\n",
       "            AVG_Min_Low_Temp  AVG_Precip_Percentile    Target  \n",
       "Date                                                           \n",
       "2006-01-01          6.651906               0.008978  0.523810  \n",
       "2006-02-01         12.375184               0.011565  0.619048  \n",
       "2006-03-01         18.881910               0.010393  0.428571  \n",
       "2006-04-01         29.565725               0.019990  0.380952  \n",
       "2006-05-01         39.327334               0.044866  0.095238  \n",
       "...                      ...                    ...       ...  \n",
       "2022-11-01         25.883503               0.016771  0.476190  \n",
       "2022-12-01         17.665203               0.020295  0.714286  \n",
       "2023-01-01          8.430347               0.011336  0.904762  \n",
       "2023-02-01         11.754573               0.009181  0.619048  \n",
       "2023-03-01         21.150477               0.018177  0.238095  \n",
       "\n",
       "[207 rows x 6 columns]"
      ]
     },
     "execution_count": 78,
     "metadata": {},
     "output_type": "execute_result"
    }
   ],
   "source": [
    "adelphi_df['Target'] = adelphi_df.shift(-1)['AVG_Dry_Spell']\n",
    "adelphi_df = adelphi_df.iloc[:-3,:].copy()\n",
    "adelphi_df"
   ]
  },
  {
   "cell_type": "code",
   "execution_count": 79,
   "metadata": {},
   "outputs": [
    {
     "name": "stdout",
     "output_type": "stream",
     "text": [
      "Error:  0.12957297359552353\n",
      "r^2:  0.36539442384334797\n"
     ]
    }
   ],
   "source": [
    "error, r_square, adelphi_combined = predict(predictors, adelphi_df, reg)"
   ]
  },
  {
   "cell_type": "code",
   "execution_count": 50,
   "metadata": {},
   "outputs": [
    {
     "name": "stdout",
     "output_type": "stream",
     "text": [
      "Intercepts:  [ 0.2929304   0.01180836 -0.02757361  0.02599238 -0.37592283]\n",
      "              Actual  Prediction\n",
      "Date                            \n",
      "2019-11-01  0.380952    0.523843\n",
      "2019-12-01  0.619048    0.573262\n",
      "2020-01-01  0.952381    0.586119\n",
      "2020-02-01  0.476190    0.735799\n",
      "2020-03-01  0.285714    0.534275\n"
     ]
    },
    {
     "data": {
      "text/plain": [
       "<AxesSubplot:xlabel='Date'>"
      ]
     },
     "execution_count": 50,
     "metadata": {},
     "output_type": "execute_result"
    },
    {
     "data": {
      "image/png": "[encoded data removed]",
      "text/plain": [
       "<Figure size 432x288 with 1 Axes>"
      ]
     },
     "metadata": {
      "needs_background": "light"
     },
     "output_type": "display_data"
    }
   ],
   "source": [
    "print('Intercepts: ', reg.coef_)\n",
    "print(adelphi_combined.head())\n",
    "adelphi_combined.plot()"
   ]
  },
  {
   "cell_type": "markdown",
   "metadata": {},
   "source": [
    "## Max Temperature Prediction in Akerman"
   ]
  },
  {
   "cell_type": "code",
   "execution_count": 84,
   "metadata": {
    "scrolled": true
   },
   "outputs": [
    {
     "data": {
      "text/html": [
       "<div>\n",
       "<style scoped>\n",
       "    .dataframe tbody tr th:only-of-type {\n",
       "        vertical-align: middle;\n",
       "    }\n",
       "\n",
       "    .dataframe tbody tr th {\n",
       "        vertical-align: top;\n",
       "    }\n",
       "\n",
       "    .dataframe thead th {\n",
       "        text-align: right;\n",
       "    }\n",
       "</style>\n",
       "<table border=\"1\" class=\"dataframe\">\n",
       "  <thead>\n",
       "    <tr style=\"text-align: right;\">\n",
       "      <th></th>\n",
       "      <th>AVG_Dry_Spell</th>\n",
       "      <th>AVG_Frost_Days</th>\n",
       "      <th>AVG_Max_High_Temp</th>\n",
       "      <th>AVG_Min_Low_Temp</th>\n",
       "      <th>AVG_Precip_Percentile</th>\n",
       "      <th>Target</th>\n",
       "    </tr>\n",
       "    <tr>\n",
       "      <th>Date</th>\n",
       "      <th></th>\n",
       "      <th></th>\n",
       "      <th></th>\n",
       "      <th></th>\n",
       "      <th></th>\n",
       "      <th></th>\n",
       "    </tr>\n",
       "  </thead>\n",
       "  <tbody>\n",
       "    <tr>\n",
       "      <th>2006-01-01</th>\n",
       "      <td>0.761905</td>\n",
       "      <td>15.761905</td>\n",
       "      <td>68.284760</td>\n",
       "      <td>16.643736</td>\n",
       "      <td>0.020218</td>\n",
       "      <td>71.710266</td>\n",
       "    </tr>\n",
       "    <tr>\n",
       "      <th>2006-02-01</th>\n",
       "      <td>0.285714</td>\n",
       "      <td>8.619048</td>\n",
       "      <td>71.710266</td>\n",
       "      <td>18.613628</td>\n",
       "      <td>0.035508</td>\n",
       "      <td>77.423640</td>\n",
       "    </tr>\n",
       "    <tr>\n",
       "      <th>2006-03-01</th>\n",
       "      <td>0.571429</td>\n",
       "      <td>4.238095</td>\n",
       "      <td>77.423640</td>\n",
       "      <td>25.492232</td>\n",
       "      <td>0.025910</td>\n",
       "      <td>83.610128</td>\n",
       "    </tr>\n",
       "    <tr>\n",
       "      <th>2006-04-01</th>\n",
       "      <td>0.714286</td>\n",
       "      <td>0.190476</td>\n",
       "      <td>83.610128</td>\n",
       "      <td>36.425706</td>\n",
       "      <td>0.050267</td>\n",
       "      <td>89.570718</td>\n",
       "    </tr>\n",
       "    <tr>\n",
       "      <th>2006-05-01</th>\n",
       "      <td>0.619048</td>\n",
       "      <td>0.000000</td>\n",
       "      <td>89.570718</td>\n",
       "      <td>48.237222</td>\n",
       "      <td>0.068791</td>\n",
       "      <td>94.846018</td>\n",
       "    </tr>\n",
       "    <tr>\n",
       "      <th>...</th>\n",
       "      <td>...</td>\n",
       "      <td>...</td>\n",
       "      <td>...</td>\n",
       "      <td>...</td>\n",
       "      <td>...</td>\n",
       "      <td>...</td>\n",
       "    </tr>\n",
       "    <tr>\n",
       "      <th>2022-11-01</th>\n",
       "      <td>0.761905</td>\n",
       "      <td>3.142857</td>\n",
       "      <td>79.125849</td>\n",
       "      <td>25.516478</td>\n",
       "      <td>0.020426</td>\n",
       "      <td>72.749863</td>\n",
       "    </tr>\n",
       "    <tr>\n",
       "      <th>2022-12-01</th>\n",
       "      <td>0.714286</td>\n",
       "      <td>9.380952</td>\n",
       "      <td>72.749863</td>\n",
       "      <td>20.284564</td>\n",
       "      <td>0.017431</td>\n",
       "      <td>70.633234</td>\n",
       "    </tr>\n",
       "    <tr>\n",
       "      <th>2023-01-01</th>\n",
       "      <td>0.619048</td>\n",
       "      <td>13.904762</td>\n",
       "      <td>70.633234</td>\n",
       "      <td>17.770612</td>\n",
       "      <td>0.024915</td>\n",
       "      <td>72.482806</td>\n",
       "    </tr>\n",
       "    <tr>\n",
       "      <th>2023-02-01</th>\n",
       "      <td>0.380952</td>\n",
       "      <td>9.571429</td>\n",
       "      <td>72.482806</td>\n",
       "      <td>20.911195</td>\n",
       "      <td>0.024384</td>\n",
       "      <td>78.052354</td>\n",
       "    </tr>\n",
       "    <tr>\n",
       "      <th>2023-03-01</th>\n",
       "      <td>0.523810</td>\n",
       "      <td>3.523810</td>\n",
       "      <td>78.052354</td>\n",
       "      <td>26.843988</td>\n",
       "      <td>0.041880</td>\n",
       "      <td>85.743364</td>\n",
       "    </tr>\n",
       "  </tbody>\n",
       "</table>\n",
       "<p>207 rows × 6 columns</p>\n",
       "</div>"
      ],
      "text/plain": [
       "            AVG_Dry_Spell  AVG_Frost_Days  AVG_Max_High_Temp  \\\n",
       "Date                                                           \n",
       "2006-01-01       0.761905       15.761905          68.284760   \n",
       "2006-02-01       0.285714        8.619048          71.710266   \n",
       "2006-03-01       0.571429        4.238095          77.423640   \n",
       "2006-04-01       0.714286        0.190476          83.610128   \n",
       "2006-05-01       0.619048        0.000000          89.570718   \n",
       "...                   ...             ...                ...   \n",
       "2022-11-01       0.761905        3.142857          79.125849   \n",
       "2022-12-01       0.714286        9.380952          72.749863   \n",
       "2023-01-01       0.619048       13.904762          70.633234   \n",
       "2023-02-01       0.380952        9.571429          72.482806   \n",
       "2023-03-01       0.523810        3.523810          78.052354   \n",
       "\n",
       "            AVG_Min_Low_Temp  AVG_Precip_Percentile     Target  \n",
       "Date                                                            \n",
       "2006-01-01         16.643736               0.020218  71.710266  \n",
       "2006-02-01         18.613628               0.035508  77.423640  \n",
       "2006-03-01         25.492232               0.025910  83.610128  \n",
       "2006-04-01         36.425706               0.050267  89.570718  \n",
       "2006-05-01         48.237222               0.068791  94.846018  \n",
       "...                      ...                    ...        ...  \n",
       "2022-11-01         25.516478               0.020426  72.749863  \n",
       "2022-12-01         20.284564               0.017431  70.633234  \n",
       "2023-01-01         17.770612               0.024915  72.482806  \n",
       "2023-02-01         20.911195               0.024384  78.052354  \n",
       "2023-03-01         26.843988               0.041880  85.743364  \n",
       "\n",
       "[207 rows x 6 columns]"
      ]
     },
     "execution_count": 84,
     "metadata": {},
     "output_type": "execute_result"
    }
   ],
   "source": [
    "ack_df['Target'] = ack_df.shift(-1)['AVG_Max_High_Temp']\n",
    "ack_df = ack_df.iloc[:-3,:].copy()\n",
    "ack_df"
   ]
  },
  {
   "cell_type": "code",
   "execution_count": 85,
   "metadata": {},
   "outputs": [
    {
     "name": "stdout",
     "output_type": "stream",
     "text": [
      "Error:  3.3744900450802304\n",
      "r^2:  0.8420480789867371\n"
     ]
    }
   ],
   "source": [
    "error, r_square, akerman_combined = predict(predictors, ack_df, reg)"
   ]
  },
  {
   "cell_type": "code",
   "execution_count": 38,
   "metadata": {},
   "outputs": [
    {
     "name": "stdout",
     "output_type": "stream",
     "text": [
      "Intercepts:  [-10.006617    -0.57799335  -0.19951691   0.51286329  17.09796902]\n",
      "               Actual  Prediction\n",
      "Date                             \n",
      "2019-11-01  72.083374   81.793972\n",
      "2019-12-01  68.530574   71.908591\n",
      "2020-01-01  72.942178   72.817190\n",
      "2020-02-01  77.949948   74.505246\n",
      "2020-03-01  84.357316   82.837550\n"
     ]
    },
    {
     "data": {
      "text/plain": [
       "<AxesSubplot:xlabel='Date'>"
      ]
     },
     "execution_count": 38,
     "metadata": {},
     "output_type": "execute_result"
    },
    {
     "data": {
      "image/png": "[encoded data removed]",
      "text/plain": [
       "<Figure size 432x288 with 1 Axes>"
      ]
     },
     "metadata": {
      "needs_background": "light"
     },
     "output_type": "display_data"
    }
   ],
   "source": [
    "print('Intercepts: ', reg.coef_)\n",
    "print(akerman_combined.head())\n",
    "akerman_combined.plot()"
   ]
  },
  {
   "cell_type": "markdown",
   "metadata": {},
   "source": [
    "## Dry Spell Prediction in Akerman"
   ]
  },
  {
   "cell_type": "code",
   "execution_count": 90,
   "metadata": {},
   "outputs": [
    {
     "data": {
      "text/html": [
       "<div>\n",
       "<style scoped>\n",
       "    .dataframe tbody tr th:only-of-type {\n",
       "        vertical-align: middle;\n",
       "    }\n",
       "\n",
       "    .dataframe tbody tr th {\n",
       "        vertical-align: top;\n",
       "    }\n",
       "\n",
       "    .dataframe thead th {\n",
       "        text-align: right;\n",
       "    }\n",
       "</style>\n",
       "<table border=\"1\" class=\"dataframe\">\n",
       "  <thead>\n",
       "    <tr style=\"text-align: right;\">\n",
       "      <th></th>\n",
       "      <th>AVG_Dry_Spell</th>\n",
       "      <th>AVG_Frost_Days</th>\n",
       "      <th>AVG_Max_High_Temp</th>\n",
       "      <th>AVG_Min_Low_Temp</th>\n",
       "      <th>AVG_Precip_Percentile</th>\n",
       "      <th>Target</th>\n",
       "    </tr>\n",
       "    <tr>\n",
       "      <th>Date</th>\n",
       "      <th></th>\n",
       "      <th></th>\n",
       "      <th></th>\n",
       "      <th></th>\n",
       "      <th></th>\n",
       "      <th></th>\n",
       "    </tr>\n",
       "  </thead>\n",
       "  <tbody>\n",
       "    <tr>\n",
       "      <th>2006-01-01</th>\n",
       "      <td>0.761905</td>\n",
       "      <td>15.761905</td>\n",
       "      <td>68.284760</td>\n",
       "      <td>16.643736</td>\n",
       "      <td>0.020218</td>\n",
       "      <td>0.285714</td>\n",
       "    </tr>\n",
       "    <tr>\n",
       "      <th>2006-02-01</th>\n",
       "      <td>0.285714</td>\n",
       "      <td>8.619048</td>\n",
       "      <td>71.710266</td>\n",
       "      <td>18.613628</td>\n",
       "      <td>0.035508</td>\n",
       "      <td>0.571429</td>\n",
       "    </tr>\n",
       "    <tr>\n",
       "      <th>2006-03-01</th>\n",
       "      <td>0.571429</td>\n",
       "      <td>4.238095</td>\n",
       "      <td>77.423640</td>\n",
       "      <td>25.492232</td>\n",
       "      <td>0.025910</td>\n",
       "      <td>0.714286</td>\n",
       "    </tr>\n",
       "    <tr>\n",
       "      <th>2006-04-01</th>\n",
       "      <td>0.714286</td>\n",
       "      <td>0.190476</td>\n",
       "      <td>83.610128</td>\n",
       "      <td>36.425706</td>\n",
       "      <td>0.050267</td>\n",
       "      <td>0.619048</td>\n",
       "    </tr>\n",
       "    <tr>\n",
       "      <th>2006-05-01</th>\n",
       "      <td>0.619048</td>\n",
       "      <td>0.000000</td>\n",
       "      <td>89.570718</td>\n",
       "      <td>48.237222</td>\n",
       "      <td>0.068791</td>\n",
       "      <td>0.571429</td>\n",
       "    </tr>\n",
       "    <tr>\n",
       "      <th>...</th>\n",
       "      <td>...</td>\n",
       "      <td>...</td>\n",
       "      <td>...</td>\n",
       "      <td>...</td>\n",
       "      <td>...</td>\n",
       "      <td>...</td>\n",
       "    </tr>\n",
       "    <tr>\n",
       "      <th>2022-11-01</th>\n",
       "      <td>0.761905</td>\n",
       "      <td>3.142857</td>\n",
       "      <td>79.125849</td>\n",
       "      <td>25.516478</td>\n",
       "      <td>0.020426</td>\n",
       "      <td>0.714286</td>\n",
       "    </tr>\n",
       "    <tr>\n",
       "      <th>2022-12-01</th>\n",
       "      <td>0.714286</td>\n",
       "      <td>9.380952</td>\n",
       "      <td>72.749863</td>\n",
       "      <td>20.284564</td>\n",
       "      <td>0.017431</td>\n",
       "      <td>0.619048</td>\n",
       "    </tr>\n",
       "    <tr>\n",
       "      <th>2023-01-01</th>\n",
       "      <td>0.619048</td>\n",
       "      <td>13.904762</td>\n",
       "      <td>70.633234</td>\n",
       "      <td>17.770612</td>\n",
       "      <td>0.024915</td>\n",
       "      <td>0.380952</td>\n",
       "    </tr>\n",
       "    <tr>\n",
       "      <th>2023-02-01</th>\n",
       "      <td>0.380952</td>\n",
       "      <td>9.571429</td>\n",
       "      <td>72.482806</td>\n",
       "      <td>20.911195</td>\n",
       "      <td>0.024384</td>\n",
       "      <td>0.523810</td>\n",
       "    </tr>\n",
       "    <tr>\n",
       "      <th>2023-03-01</th>\n",
       "      <td>0.523810</td>\n",
       "      <td>3.523810</td>\n",
       "      <td>78.052354</td>\n",
       "      <td>26.843988</td>\n",
       "      <td>0.041880</td>\n",
       "      <td>0.380952</td>\n",
       "    </tr>\n",
       "  </tbody>\n",
       "</table>\n",
       "<p>207 rows × 6 columns</p>\n",
       "</div>"
      ],
      "text/plain": [
       "            AVG_Dry_Spell  AVG_Frost_Days  AVG_Max_High_Temp  \\\n",
       "Date                                                           \n",
       "2006-01-01       0.761905       15.761905          68.284760   \n",
       "2006-02-01       0.285714        8.619048          71.710266   \n",
       "2006-03-01       0.571429        4.238095          77.423640   \n",
       "2006-04-01       0.714286        0.190476          83.610128   \n",
       "2006-05-01       0.619048        0.000000          89.570718   \n",
       "...                   ...             ...                ...   \n",
       "2022-11-01       0.761905        3.142857          79.125849   \n",
       "2022-12-01       0.714286        9.380952          72.749863   \n",
       "2023-01-01       0.619048       13.904762          70.633234   \n",
       "2023-02-01       0.380952        9.571429          72.482806   \n",
       "2023-03-01       0.523810        3.523810          78.052354   \n",
       "\n",
       "            AVG_Min_Low_Temp  AVG_Precip_Percentile    Target  \n",
       "Date                                                           \n",
       "2006-01-01         16.643736               0.020218  0.285714  \n",
       "2006-02-01         18.613628               0.035508  0.571429  \n",
       "2006-03-01         25.492232               0.025910  0.714286  \n",
       "2006-04-01         36.425706               0.050267  0.619048  \n",
       "2006-05-01         48.237222               0.068791  0.571429  \n",
       "...                      ...                    ...       ...  \n",
       "2022-11-01         25.516478               0.020426  0.714286  \n",
       "2022-12-01         20.284564               0.017431  0.619048  \n",
       "2023-01-01         17.770612               0.024915  0.380952  \n",
       "2023-02-01         20.911195               0.024384  0.523810  \n",
       "2023-03-01         26.843988               0.041880  0.380952  \n",
       "\n",
       "[207 rows x 6 columns]"
      ]
     },
     "execution_count": 90,
     "metadata": {},
     "output_type": "execute_result"
    }
   ],
   "source": [
    "ack_df['Target'] = ack_df.shift(-1)['AVG_Dry_Spell']\n",
    "ack_df = ack_df.iloc[:-3,:].copy()\n",
    "ack_df"
   ]
  },
  {
   "cell_type": "code",
   "execution_count": 91,
   "metadata": {},
   "outputs": [
    {
     "name": "stdout",
     "output_type": "stream",
     "text": [
      "Error:  0.16298067719730625\n",
      "r^2:  0.15282583868240174\n"
     ]
    }
   ],
   "source": [
    "error, r_square, akerman_combined = predict(predictors, ack_df, reg)"
   ]
  },
  {
   "cell_type": "code",
   "execution_count": 53,
   "metadata": {},
   "outputs": [
    {
     "name": "stdout",
     "output_type": "stream",
     "text": [
      "Intercepts:  [ 0.13801979  0.01269558  0.0518075  -0.02591311 -0.67765414]\n",
      "              Actual  Prediction\n",
      "Date                            \n",
      "2019-11-01  0.809524    0.604873\n",
      "2019-12-01  0.476190    0.609363\n",
      "2020-01-01  0.809524    0.485508\n",
      "2020-02-01  0.523810    0.571908\n",
      "2020-03-01  0.619048    0.555410\n"
     ]
    },
    {
     "data": {
      "text/plain": [
       "<AxesSubplot:xlabel='Date'>"
      ]
     },
     "execution_count": 53,
     "metadata": {},
     "output_type": "execute_result"
    },
    {
     "data": {
      "image/png": "[encoded data removed]",
      "text/plain": [
       "<Figure size 432x288 with 1 Axes>"
      ]
     },
     "metadata": {
      "needs_background": "light"
     },
     "output_type": "display_data"
    }
   ],
   "source": [
    "print('Intercepts: ', reg.coef_)\n",
    "print(akerman_combined.head())\n",
    "akerman_combined.plot()"
   ]
  },
  {
   "cell_type": "markdown",
   "metadata": {},
   "source": [
    "## Max Temperature Prediction in Albany"
   ]
  },
  {
   "cell_type": "code",
   "execution_count": 93,
   "metadata": {},
   "outputs": [
    {
     "data": {
      "text/html": [
       "<div>\n",
       "<style scoped>\n",
       "    .dataframe tbody tr th:only-of-type {\n",
       "        vertical-align: middle;\n",
       "    }\n",
       "\n",
       "    .dataframe tbody tr th {\n",
       "        vertical-align: top;\n",
       "    }\n",
       "\n",
       "    .dataframe thead th {\n",
       "        text-align: right;\n",
       "    }\n",
       "</style>\n",
       "<table border=\"1\" class=\"dataframe\">\n",
       "  <thead>\n",
       "    <tr style=\"text-align: right;\">\n",
       "      <th></th>\n",
       "      <th>AVG_Dry_Spell</th>\n",
       "      <th>AVG_Frost_Days</th>\n",
       "      <th>AVG_Max_High_Temp</th>\n",
       "      <th>AVG_Min_Low_Temp</th>\n",
       "      <th>AVG_Precip_Percentile</th>\n",
       "      <th>Target</th>\n",
       "    </tr>\n",
       "    <tr>\n",
       "      <th>Date</th>\n",
       "      <th></th>\n",
       "      <th></th>\n",
       "      <th></th>\n",
       "      <th></th>\n",
       "      <th></th>\n",
       "      <th></th>\n",
       "    </tr>\n",
       "  </thead>\n",
       "  <tbody>\n",
       "    <tr>\n",
       "      <th>2006-01-01</th>\n",
       "      <td>1.000000</td>\n",
       "      <td>0.476190</td>\n",
       "      <td>65.503689</td>\n",
       "      <td>36.699087</td>\n",
       "      <td>0.024288</td>\n",
       "      <td>68.575741</td>\n",
       "    </tr>\n",
       "    <tr>\n",
       "      <th>2006-02-01</th>\n",
       "      <td>0.380952</td>\n",
       "      <td>0.619048</td>\n",
       "      <td>68.575741</td>\n",
       "      <td>37.137335</td>\n",
       "      <td>0.054996</td>\n",
       "      <td>72.179500</td>\n",
       "    </tr>\n",
       "    <tr>\n",
       "      <th>2006-03-01</th>\n",
       "      <td>0.761905</td>\n",
       "      <td>0.000000</td>\n",
       "      <td>72.179500</td>\n",
       "      <td>42.088860</td>\n",
       "      <td>0.016353</td>\n",
       "      <td>74.968146</td>\n",
       "    </tr>\n",
       "    <tr>\n",
       "      <th>2006-04-01</th>\n",
       "      <td>1.190476</td>\n",
       "      <td>0.000000</td>\n",
       "      <td>74.968146</td>\n",
       "      <td>43.077417</td>\n",
       "      <td>0.008492</td>\n",
       "      <td>77.666171</td>\n",
       "    </tr>\n",
       "    <tr>\n",
       "      <th>2006-05-01</th>\n",
       "      <td>1.714286</td>\n",
       "      <td>0.000000</td>\n",
       "      <td>77.666171</td>\n",
       "      <td>45.992517</td>\n",
       "      <td>0.000690</td>\n",
       "      <td>81.295165</td>\n",
       "    </tr>\n",
       "    <tr>\n",
       "      <th>...</th>\n",
       "      <td>...</td>\n",
       "      <td>...</td>\n",
       "      <td>...</td>\n",
       "      <td>...</td>\n",
       "      <td>...</td>\n",
       "      <td>...</td>\n",
       "    </tr>\n",
       "    <tr>\n",
       "      <th>2022-11-01</th>\n",
       "      <td>1.047619</td>\n",
       "      <td>0.190476</td>\n",
       "      <td>75.137506</td>\n",
       "      <td>40.119746</td>\n",
       "      <td>0.016749</td>\n",
       "      <td>66.630203</td>\n",
       "    </tr>\n",
       "    <tr>\n",
       "      <th>2022-12-01</th>\n",
       "      <td>0.761905</td>\n",
       "      <td>0.333333</td>\n",
       "      <td>66.630203</td>\n",
       "      <td>36.781461</td>\n",
       "      <td>0.049533</td>\n",
       "      <td>66.625767</td>\n",
       "    </tr>\n",
       "    <tr>\n",
       "      <th>2023-01-01</th>\n",
       "      <td>0.809524</td>\n",
       "      <td>0.095238</td>\n",
       "      <td>66.625767</td>\n",
       "      <td>38.080262</td>\n",
       "      <td>0.078666</td>\n",
       "      <td>70.169875</td>\n",
       "    </tr>\n",
       "    <tr>\n",
       "      <th>2023-02-01</th>\n",
       "      <td>0.857143</td>\n",
       "      <td>0.095238</td>\n",
       "      <td>70.169875</td>\n",
       "      <td>40.199439</td>\n",
       "      <td>0.030323</td>\n",
       "      <td>72.034770</td>\n",
       "    </tr>\n",
       "    <tr>\n",
       "      <th>2023-03-01</th>\n",
       "      <td>1.047619</td>\n",
       "      <td>0.000000</td>\n",
       "      <td>72.034770</td>\n",
       "      <td>41.586994</td>\n",
       "      <td>0.011267</td>\n",
       "      <td>75.328351</td>\n",
       "    </tr>\n",
       "  </tbody>\n",
       "</table>\n",
       "<p>207 rows × 6 columns</p>\n",
       "</div>"
      ],
      "text/plain": [
       "            AVG_Dry_Spell  AVG_Frost_Days  AVG_Max_High_Temp  \\\n",
       "Date                                                           \n",
       "2006-01-01       1.000000        0.476190          65.503689   \n",
       "2006-02-01       0.380952        0.619048          68.575741   \n",
       "2006-03-01       0.761905        0.000000          72.179500   \n",
       "2006-04-01       1.190476        0.000000          74.968146   \n",
       "2006-05-01       1.714286        0.000000          77.666171   \n",
       "...                   ...             ...                ...   \n",
       "2022-11-01       1.047619        0.190476          75.137506   \n",
       "2022-12-01       0.761905        0.333333          66.630203   \n",
       "2023-01-01       0.809524        0.095238          66.625767   \n",
       "2023-02-01       0.857143        0.095238          70.169875   \n",
       "2023-03-01       1.047619        0.000000          72.034770   \n",
       "\n",
       "            AVG_Min_Low_Temp  AVG_Precip_Percentile     Target  \n",
       "Date                                                            \n",
       "2006-01-01         36.699087               0.024288  68.575741  \n",
       "2006-02-01         37.137335               0.054996  72.179500  \n",
       "2006-03-01         42.088860               0.016353  74.968146  \n",
       "2006-04-01         43.077417               0.008492  77.666171  \n",
       "2006-05-01         45.992517               0.000690  81.295165  \n",
       "...                      ...                    ...        ...  \n",
       "2022-11-01         40.119746               0.016749  66.630203  \n",
       "2022-12-01         36.781461               0.049533  66.625767  \n",
       "2023-01-01         38.080262               0.078666  70.169875  \n",
       "2023-02-01         40.199439               0.030323  72.034770  \n",
       "2023-03-01         41.586994               0.011267  75.328351  \n",
       "\n",
       "[207 rows x 6 columns]"
      ]
     },
     "execution_count": 93,
     "metadata": {},
     "output_type": "execute_result"
    }
   ],
   "source": [
    "albany_df['Target'] = albany_df.shift(-1)['AVG_Max_High_Temp']\n",
    "albany_df = albany_df.iloc[:-3,:].copy()\n",
    "albany_df"
   ]
  },
  {
   "cell_type": "code",
   "execution_count": 94,
   "metadata": {},
   "outputs": [
    {
     "name": "stdout",
     "output_type": "stream",
     "text": [
      "Error:  2.34907173789717\n",
      "r^2:  0.7896604246732819\n"
     ]
    }
   ],
   "source": [
    "error, r_square, albany_combined = predict(predictors, albany_df, reg)"
   ]
  },
  {
   "cell_type": "code",
   "execution_count": 43,
   "metadata": {},
   "outputs": [
    {
     "name": "stdout",
     "output_type": "stream",
     "text": [
      "Intercepts:  [ 2.17094888 -2.89660225 -0.44698367  1.20548582 -2.84359133]\n",
      "               Actual  Prediction\n",
      "Date                             \n",
      "2019-11-01  66.207057   70.691994\n",
      "2019-12-01  66.095828   70.487782\n",
      "2020-01-01  70.635219   69.747272\n",
      "2020-02-01  73.472303   71.500059\n",
      "2020-03-01  75.966633   72.217292\n"
     ]
    },
    {
     "data": {
      "text/plain": [
       "<AxesSubplot:xlabel='Date'>"
      ]
     },
     "execution_count": 43,
     "metadata": {},
     "output_type": "execute_result"
    },
    {
     "data": {
      "image/png": "[encoded data removed]",
      "text/plain": [
       "<Figure size 432x288 with 1 Axes>"
      ]
     },
     "metadata": {
      "needs_background": "light"
     },
     "output_type": "display_data"
    }
   ],
   "source": [
    "print('Intercepts: ', reg.coef_)\n",
    "print(albany_combined.head())\n",
    "albany_combined.plot()"
   ]
  },
  {
   "cell_type": "markdown",
   "metadata": {},
   "source": [
    "## Dry Spell Prediction in Albany"
   ]
  },
  {
   "cell_type": "code",
   "execution_count": 97,
   "metadata": {},
   "outputs": [
    {
     "data": {
      "text/html": [
       "<div>\n",
       "<style scoped>\n",
       "    .dataframe tbody tr th:only-of-type {\n",
       "        vertical-align: middle;\n",
       "    }\n",
       "\n",
       "    .dataframe tbody tr th {\n",
       "        vertical-align: top;\n",
       "    }\n",
       "\n",
       "    .dataframe thead th {\n",
       "        text-align: right;\n",
       "    }\n",
       "</style>\n",
       "<table border=\"1\" class=\"dataframe\">\n",
       "  <thead>\n",
       "    <tr style=\"text-align: right;\">\n",
       "      <th></th>\n",
       "      <th>AVG_Dry_Spell</th>\n",
       "      <th>AVG_Frost_Days</th>\n",
       "      <th>AVG_Max_High_Temp</th>\n",
       "      <th>AVG_Min_Low_Temp</th>\n",
       "      <th>AVG_Precip_Percentile</th>\n",
       "      <th>Target</th>\n",
       "    </tr>\n",
       "    <tr>\n",
       "      <th>Date</th>\n",
       "      <th></th>\n",
       "      <th></th>\n",
       "      <th></th>\n",
       "      <th></th>\n",
       "      <th></th>\n",
       "      <th></th>\n",
       "    </tr>\n",
       "  </thead>\n",
       "  <tbody>\n",
       "    <tr>\n",
       "      <th>2006-01-01</th>\n",
       "      <td>1.000000</td>\n",
       "      <td>0.476190</td>\n",
       "      <td>65.503689</td>\n",
       "      <td>36.699087</td>\n",
       "      <td>0.024288</td>\n",
       "      <td>0.380952</td>\n",
       "    </tr>\n",
       "    <tr>\n",
       "      <th>2006-02-01</th>\n",
       "      <td>0.380952</td>\n",
       "      <td>0.619048</td>\n",
       "      <td>68.575741</td>\n",
       "      <td>37.137335</td>\n",
       "      <td>0.054996</td>\n",
       "      <td>0.761905</td>\n",
       "    </tr>\n",
       "    <tr>\n",
       "      <th>2006-03-01</th>\n",
       "      <td>0.761905</td>\n",
       "      <td>0.000000</td>\n",
       "      <td>72.179500</td>\n",
       "      <td>42.088860</td>\n",
       "      <td>0.016353</td>\n",
       "      <td>1.190476</td>\n",
       "    </tr>\n",
       "    <tr>\n",
       "      <th>2006-04-01</th>\n",
       "      <td>1.190476</td>\n",
       "      <td>0.000000</td>\n",
       "      <td>74.968146</td>\n",
       "      <td>43.077417</td>\n",
       "      <td>0.008492</td>\n",
       "      <td>1.714286</td>\n",
       "    </tr>\n",
       "    <tr>\n",
       "      <th>2006-05-01</th>\n",
       "      <td>1.714286</td>\n",
       "      <td>0.000000</td>\n",
       "      <td>77.666171</td>\n",
       "      <td>45.992517</td>\n",
       "      <td>0.000690</td>\n",
       "      <td>1.857143</td>\n",
       "    </tr>\n",
       "    <tr>\n",
       "      <th>...</th>\n",
       "      <td>...</td>\n",
       "      <td>...</td>\n",
       "      <td>...</td>\n",
       "      <td>...</td>\n",
       "      <td>...</td>\n",
       "      <td>...</td>\n",
       "    </tr>\n",
       "    <tr>\n",
       "      <th>2022-11-01</th>\n",
       "      <td>1.047619</td>\n",
       "      <td>0.190476</td>\n",
       "      <td>75.137506</td>\n",
       "      <td>40.119746</td>\n",
       "      <td>0.016749</td>\n",
       "      <td>0.761905</td>\n",
       "    </tr>\n",
       "    <tr>\n",
       "      <th>2022-12-01</th>\n",
       "      <td>0.761905</td>\n",
       "      <td>0.333333</td>\n",
       "      <td>66.630203</td>\n",
       "      <td>36.781461</td>\n",
       "      <td>0.049533</td>\n",
       "      <td>0.809524</td>\n",
       "    </tr>\n",
       "    <tr>\n",
       "      <th>2023-01-01</th>\n",
       "      <td>0.809524</td>\n",
       "      <td>0.095238</td>\n",
       "      <td>66.625767</td>\n",
       "      <td>38.080262</td>\n",
       "      <td>0.078666</td>\n",
       "      <td>0.857143</td>\n",
       "    </tr>\n",
       "    <tr>\n",
       "      <th>2023-02-01</th>\n",
       "      <td>0.857143</td>\n",
       "      <td>0.095238</td>\n",
       "      <td>70.169875</td>\n",
       "      <td>40.199439</td>\n",
       "      <td>0.030323</td>\n",
       "      <td>1.047619</td>\n",
       "    </tr>\n",
       "    <tr>\n",
       "      <th>2023-03-01</th>\n",
       "      <td>1.047619</td>\n",
       "      <td>0.000000</td>\n",
       "      <td>72.034770</td>\n",
       "      <td>41.586994</td>\n",
       "      <td>0.011267</td>\n",
       "      <td>1.428571</td>\n",
       "    </tr>\n",
       "  </tbody>\n",
       "</table>\n",
       "<p>207 rows × 6 columns</p>\n",
       "</div>"
      ],
      "text/plain": [
       "            AVG_Dry_Spell  AVG_Frost_Days  AVG_Max_High_Temp  \\\n",
       "Date                                                           \n",
       "2006-01-01       1.000000        0.476190          65.503689   \n",
       "2006-02-01       0.380952        0.619048          68.575741   \n",
       "2006-03-01       0.761905        0.000000          72.179500   \n",
       "2006-04-01       1.190476        0.000000          74.968146   \n",
       "2006-05-01       1.714286        0.000000          77.666171   \n",
       "...                   ...             ...                ...   \n",
       "2022-11-01       1.047619        0.190476          75.137506   \n",
       "2022-12-01       0.761905        0.333333          66.630203   \n",
       "2023-01-01       0.809524        0.095238          66.625767   \n",
       "2023-02-01       0.857143        0.095238          70.169875   \n",
       "2023-03-01       1.047619        0.000000          72.034770   \n",
       "\n",
       "            AVG_Min_Low_Temp  AVG_Precip_Percentile    Target  \n",
       "Date                                                           \n",
       "2006-01-01         36.699087               0.024288  0.380952  \n",
       "2006-02-01         37.137335               0.054996  0.761905  \n",
       "2006-03-01         42.088860               0.016353  1.190476  \n",
       "2006-04-01         43.077417               0.008492  1.714286  \n",
       "2006-05-01         45.992517               0.000690  1.857143  \n",
       "...                      ...                    ...       ...  \n",
       "2022-11-01         40.119746               0.016749  0.761905  \n",
       "2022-12-01         36.781461               0.049533  0.809524  \n",
       "2023-01-01         38.080262               0.078666  0.857143  \n",
       "2023-02-01         40.199439               0.030323  1.047619  \n",
       "2023-03-01         41.586994               0.011267  1.428571  \n",
       "\n",
       "[207 rows x 6 columns]"
      ]
     },
     "execution_count": 97,
     "metadata": {},
     "output_type": "execute_result"
    }
   ],
   "source": [
    "albany_df['Target'] = albany_df.shift(-1)['AVG_Dry_Spell']\n",
    "albany_df = albany_df.iloc[:-3,:].copy()\n",
    "albany_df"
   ]
  },
  {
   "cell_type": "code",
   "execution_count": 98,
   "metadata": {},
   "outputs": [
    {
     "name": "stdout",
     "output_type": "stream",
     "text": [
      "Error:  0.26081583887831583\n",
      "r^2:  0.29634248555097653\n"
     ]
    }
   ],
   "source": [
    "error, r_square, albany_combined = predict(predictors, albany_df, reg)"
   ]
  },
  {
   "cell_type": "code",
   "execution_count": 56,
   "metadata": {},
   "outputs": [
    {
     "name": "stdout",
     "output_type": "stream",
     "text": [
      "Intercepts:  [ 0.06701811 -0.53269091  0.00418164  0.0154757  -1.18508033]\n",
      "              Actual  Prediction\n",
      "Date                            \n",
      "2019-11-01  0.857143    1.018992\n",
      "2019-12-01  0.619048    0.952252\n",
      "2020-01-01  0.619048    0.901269\n",
      "2020-02-01  1.190476    0.954425\n",
      "2020-03-01  1.333333    0.986778\n"
     ]
    },
    {
     "data": {
      "text/plain": [
       "<AxesSubplot:xlabel='Date'>"
      ]
     },
     "execution_count": 56,
     "metadata": {},
     "output_type": "execute_result"
    },
    {
     "data": {
      "image/png": "[encoded data removed]",
      "text/plain": [
       "<Figure size 432x288 with 1 Axes>"
      ]
     },
     "metadata": {
      "needs_background": "light"
     },
     "output_type": "display_data"
    }
   ],
   "source": [
    "print('Intercepts: ', reg.coef_)\n",
    "print(albany_combined.head())\n",
    "albany_combined.plot()"
   ]
  },
  {
   "cell_type": "markdown",
   "metadata": {},
   "source": [
    "## Max Temperature Prediction in Alachua"
   ]
  },
  {
   "cell_type": "code",
   "execution_count": 101,
   "metadata": {},
   "outputs": [
    {
     "data": {
      "text/html": [
       "<div>\n",
       "<style scoped>\n",
       "    .dataframe tbody tr th:only-of-type {\n",
       "        vertical-align: middle;\n",
       "    }\n",
       "\n",
       "    .dataframe tbody tr th {\n",
       "        vertical-align: top;\n",
       "    }\n",
       "\n",
       "    .dataframe thead th {\n",
       "        text-align: right;\n",
       "    }\n",
       "</style>\n",
       "<table border=\"1\" class=\"dataframe\">\n",
       "  <thead>\n",
       "    <tr style=\"text-align: right;\">\n",
       "      <th></th>\n",
       "      <th>AVG_Dry_Spell</th>\n",
       "      <th>AVG_Frost_Days</th>\n",
       "      <th>AVG_Max_High_Temp</th>\n",
       "      <th>AVG_Min_Low_Temp</th>\n",
       "      <th>AVG_Precip_Percentile</th>\n",
       "      <th>Target</th>\n",
       "    </tr>\n",
       "    <tr>\n",
       "      <th>Date</th>\n",
       "      <th></th>\n",
       "      <th></th>\n",
       "      <th></th>\n",
       "      <th></th>\n",
       "      <th></th>\n",
       "      <th></th>\n",
       "    </tr>\n",
       "  </thead>\n",
       "  <tbody>\n",
       "    <tr>\n",
       "      <th>2006-01-01</th>\n",
       "      <td>0.714286</td>\n",
       "      <td>2.714286</td>\n",
       "      <td>78.249658</td>\n",
       "      <td>27.608118</td>\n",
       "      <td>0.025237</td>\n",
       "      <td>81.318539</td>\n",
       "    </tr>\n",
       "    <tr>\n",
       "      <th>2006-02-01</th>\n",
       "      <td>0.428571</td>\n",
       "      <td>0.952381</td>\n",
       "      <td>81.318539</td>\n",
       "      <td>32.829384</td>\n",
       "      <td>0.029095</td>\n",
       "      <td>84.662147</td>\n",
       "    </tr>\n",
       "    <tr>\n",
       "      <th>2006-03-01</th>\n",
       "      <td>0.952381</td>\n",
       "      <td>0.476190</td>\n",
       "      <td>84.662147</td>\n",
       "      <td>35.377309</td>\n",
       "      <td>0.008301</td>\n",
       "      <td>90.444171</td>\n",
       "    </tr>\n",
       "    <tr>\n",
       "      <th>2006-04-01</th>\n",
       "      <td>0.857143</td>\n",
       "      <td>0.000000</td>\n",
       "      <td>90.444171</td>\n",
       "      <td>45.618184</td>\n",
       "      <td>0.016765</td>\n",
       "      <td>95.701762</td>\n",
       "    </tr>\n",
       "    <tr>\n",
       "      <th>2006-05-01</th>\n",
       "      <td>0.761905</td>\n",
       "      <td>0.000000</td>\n",
       "      <td>95.701762</td>\n",
       "      <td>55.105053</td>\n",
       "      <td>0.040942</td>\n",
       "      <td>99.066503</td>\n",
       "    </tr>\n",
       "    <tr>\n",
       "      <th>...</th>\n",
       "      <td>...</td>\n",
       "      <td>...</td>\n",
       "      <td>...</td>\n",
       "      <td>...</td>\n",
       "      <td>...</td>\n",
       "      <td>...</td>\n",
       "    </tr>\n",
       "    <tr>\n",
       "      <th>2022-11-01</th>\n",
       "      <td>0.952381</td>\n",
       "      <td>0.142857</td>\n",
       "      <td>86.245411</td>\n",
       "      <td>39.871050</td>\n",
       "      <td>0.006682</td>\n",
       "      <td>81.418748</td>\n",
       "    </tr>\n",
       "    <tr>\n",
       "      <th>2022-12-01</th>\n",
       "      <td>1.095238</td>\n",
       "      <td>1.238095</td>\n",
       "      <td>81.418748</td>\n",
       "      <td>31.882749</td>\n",
       "      <td>0.013194</td>\n",
       "      <td>79.538338</td>\n",
       "    </tr>\n",
       "    <tr>\n",
       "      <th>2023-01-01</th>\n",
       "      <td>0.809524</td>\n",
       "      <td>1.285714</td>\n",
       "      <td>79.538338</td>\n",
       "      <td>29.248816</td>\n",
       "      <td>0.020701</td>\n",
       "      <td>81.193504</td>\n",
       "    </tr>\n",
       "    <tr>\n",
       "      <th>2023-02-01</th>\n",
       "      <td>0.666667</td>\n",
       "      <td>0.952381</td>\n",
       "      <td>81.193504</td>\n",
       "      <td>32.853444</td>\n",
       "      <td>0.014978</td>\n",
       "      <td>85.630516</td>\n",
       "    </tr>\n",
       "    <tr>\n",
       "      <th>2023-03-01</th>\n",
       "      <td>0.809524</td>\n",
       "      <td>0.285714</td>\n",
       "      <td>85.630516</td>\n",
       "      <td>38.346064</td>\n",
       "      <td>0.015862</td>\n",
       "      <td>91.377111</td>\n",
       "    </tr>\n",
       "  </tbody>\n",
       "</table>\n",
       "<p>207 rows × 6 columns</p>\n",
       "</div>"
      ],
      "text/plain": [
       "            AVG_Dry_Spell  AVG_Frost_Days  AVG_Max_High_Temp  \\\n",
       "Date                                                           \n",
       "2006-01-01       0.714286        2.714286          78.249658   \n",
       "2006-02-01       0.428571        0.952381          81.318539   \n",
       "2006-03-01       0.952381        0.476190          84.662147   \n",
       "2006-04-01       0.857143        0.000000          90.444171   \n",
       "2006-05-01       0.761905        0.000000          95.701762   \n",
       "...                   ...             ...                ...   \n",
       "2022-11-01       0.952381        0.142857          86.245411   \n",
       "2022-12-01       1.095238        1.238095          81.418748   \n",
       "2023-01-01       0.809524        1.285714          79.538338   \n",
       "2023-02-01       0.666667        0.952381          81.193504   \n",
       "2023-03-01       0.809524        0.285714          85.630516   \n",
       "\n",
       "            AVG_Min_Low_Temp  AVG_Precip_Percentile     Target  \n",
       "Date                                                            \n",
       "2006-01-01         27.608118               0.025237  81.318539  \n",
       "2006-02-01         32.829384               0.029095  84.662147  \n",
       "2006-03-01         35.377309               0.008301  90.444171  \n",
       "2006-04-01         45.618184               0.016765  95.701762  \n",
       "2006-05-01         55.105053               0.040942  99.066503  \n",
       "...                      ...                    ...        ...  \n",
       "2022-11-01         39.871050               0.006682  81.418748  \n",
       "2022-12-01         31.882749               0.013194  79.538338  \n",
       "2023-01-01         29.248816               0.020701  81.193504  \n",
       "2023-02-01         32.853444               0.014978  85.630516  \n",
       "2023-03-01         38.346064               0.015862  91.377111  \n",
       "\n",
       "[207 rows x 6 columns]"
      ]
     },
     "execution_count": 101,
     "metadata": {},
     "output_type": "execute_result"
    }
   ],
   "source": [
    "alachua_df['Target'] = alachua_df.shift(-1)['AVG_Max_High_Temp']\n",
    "alachua_df = alachua_df.iloc[:-3,:].copy()\n",
    "alachua_df"
   ]
  },
  {
   "cell_type": "code",
   "execution_count": 102,
   "metadata": {},
   "outputs": [
    {
     "name": "stdout",
     "output_type": "stream",
     "text": [
      "Error:  2.4953463138094674\n",
      "r^2:  0.8338583103140245\n"
     ]
    }
   ],
   "source": [
    "error, r_square, alachua_combined = predict(predictors, alachua_df, reg)"
   ]
  },
  {
   "cell_type": "code",
   "execution_count": 46,
   "metadata": {},
   "outputs": [
    {
     "name": "stdout",
     "output_type": "stream",
     "text": [
      "Intercepts:  [-7.21083261  0.7398655   2.32879957 -0.86349753  6.34174184]\n",
      "               Actual  Prediction\n",
      "Date                             \n",
      "2019-11-01  81.300522   87.848038\n",
      "2019-12-01  79.120847   80.978759\n",
      "2020-01-01  81.680683   82.201905\n",
      "2020-02-01  86.187871   82.862992\n",
      "2020-03-01  91.563105   89.089198\n"
     ]
    },
    {
     "data": {
      "text/plain": [
       "<AxesSubplot:xlabel='Date'>"
      ]
     },
     "execution_count": 46,
     "metadata": {},
     "output_type": "execute_result"
    },
    {
     "data": {
      "image/png": "[encoded data removed]",
      "text/plain": [
       "<Figure size 432x288 with 1 Axes>"
      ]
     },
     "metadata": {
      "needs_background": "light"
     },
     "output_type": "display_data"
    }
   ],
   "source": [
    "print('Intercepts: ', reg.coef_)\n",
    "print(alachua_combined.head())\n",
    "alachua_combined.plot()"
   ]
  },
  {
   "cell_type": "markdown",
   "metadata": {},
   "source": [
    "## Dry Spell Prediction in Alachua"
   ]
  },
  {
   "cell_type": "code",
   "execution_count": 105,
   "metadata": {},
   "outputs": [
    {
     "data": {
      "text/html": [
       "<div>\n",
       "<style scoped>\n",
       "    .dataframe tbody tr th:only-of-type {\n",
       "        vertical-align: middle;\n",
       "    }\n",
       "\n",
       "    .dataframe tbody tr th {\n",
       "        vertical-align: top;\n",
       "    }\n",
       "\n",
       "    .dataframe thead th {\n",
       "        text-align: right;\n",
       "    }\n",
       "</style>\n",
       "<table border=\"1\" class=\"dataframe\">\n",
       "  <thead>\n",
       "    <tr style=\"text-align: right;\">\n",
       "      <th></th>\n",
       "      <th>AVG_Dry_Spell</th>\n",
       "      <th>AVG_Frost_Days</th>\n",
       "      <th>AVG_Max_High_Temp</th>\n",
       "      <th>AVG_Min_Low_Temp</th>\n",
       "      <th>AVG_Precip_Percentile</th>\n",
       "      <th>Target</th>\n",
       "    </tr>\n",
       "    <tr>\n",
       "      <th>Date</th>\n",
       "      <th></th>\n",
       "      <th></th>\n",
       "      <th></th>\n",
       "      <th></th>\n",
       "      <th></th>\n",
       "      <th></th>\n",
       "    </tr>\n",
       "  </thead>\n",
       "  <tbody>\n",
       "    <tr>\n",
       "      <th>2006-01-01</th>\n",
       "      <td>0.714286</td>\n",
       "      <td>2.714286</td>\n",
       "      <td>78.249658</td>\n",
       "      <td>27.608118</td>\n",
       "      <td>0.025237</td>\n",
       "      <td>0.428571</td>\n",
       "    </tr>\n",
       "    <tr>\n",
       "      <th>2006-02-01</th>\n",
       "      <td>0.428571</td>\n",
       "      <td>0.952381</td>\n",
       "      <td>81.318539</td>\n",
       "      <td>32.829384</td>\n",
       "      <td>0.029095</td>\n",
       "      <td>0.952381</td>\n",
       "    </tr>\n",
       "    <tr>\n",
       "      <th>2006-03-01</th>\n",
       "      <td>0.952381</td>\n",
       "      <td>0.476190</td>\n",
       "      <td>84.662147</td>\n",
       "      <td>35.377309</td>\n",
       "      <td>0.008301</td>\n",
       "      <td>0.857143</td>\n",
       "    </tr>\n",
       "    <tr>\n",
       "      <th>2006-04-01</th>\n",
       "      <td>0.857143</td>\n",
       "      <td>0.000000</td>\n",
       "      <td>90.444171</td>\n",
       "      <td>45.618184</td>\n",
       "      <td>0.016765</td>\n",
       "      <td>0.761905</td>\n",
       "    </tr>\n",
       "    <tr>\n",
       "      <th>2006-05-01</th>\n",
       "      <td>0.761905</td>\n",
       "      <td>0.000000</td>\n",
       "      <td>95.701762</td>\n",
       "      <td>55.105053</td>\n",
       "      <td>0.040942</td>\n",
       "      <td>0.476190</td>\n",
       "    </tr>\n",
       "    <tr>\n",
       "      <th>...</th>\n",
       "      <td>...</td>\n",
       "      <td>...</td>\n",
       "      <td>...</td>\n",
       "      <td>...</td>\n",
       "      <td>...</td>\n",
       "      <td>...</td>\n",
       "    </tr>\n",
       "    <tr>\n",
       "      <th>2022-11-01</th>\n",
       "      <td>0.952381</td>\n",
       "      <td>0.142857</td>\n",
       "      <td>86.245411</td>\n",
       "      <td>39.871050</td>\n",
       "      <td>0.006682</td>\n",
       "      <td>1.095238</td>\n",
       "    </tr>\n",
       "    <tr>\n",
       "      <th>2022-12-01</th>\n",
       "      <td>1.095238</td>\n",
       "      <td>1.238095</td>\n",
       "      <td>81.418748</td>\n",
       "      <td>31.882749</td>\n",
       "      <td>0.013194</td>\n",
       "      <td>0.809524</td>\n",
       "    </tr>\n",
       "    <tr>\n",
       "      <th>2023-01-01</th>\n",
       "      <td>0.809524</td>\n",
       "      <td>1.285714</td>\n",
       "      <td>79.538338</td>\n",
       "      <td>29.248816</td>\n",
       "      <td>0.020701</td>\n",
       "      <td>0.666667</td>\n",
       "    </tr>\n",
       "    <tr>\n",
       "      <th>2023-02-01</th>\n",
       "      <td>0.666667</td>\n",
       "      <td>0.952381</td>\n",
       "      <td>81.193504</td>\n",
       "      <td>32.853444</td>\n",
       "      <td>0.014978</td>\n",
       "      <td>0.809524</td>\n",
       "    </tr>\n",
       "    <tr>\n",
       "      <th>2023-03-01</th>\n",
       "      <td>0.809524</td>\n",
       "      <td>0.285714</td>\n",
       "      <td>85.630516</td>\n",
       "      <td>38.346064</td>\n",
       "      <td>0.015862</td>\n",
       "      <td>0.666667</td>\n",
       "    </tr>\n",
       "  </tbody>\n",
       "</table>\n",
       "<p>207 rows × 6 columns</p>\n",
       "</div>"
      ],
      "text/plain": [
       "            AVG_Dry_Spell  AVG_Frost_Days  AVG_Max_High_Temp  \\\n",
       "Date                                                           \n",
       "2006-01-01       0.714286        2.714286          78.249658   \n",
       "2006-02-01       0.428571        0.952381          81.318539   \n",
       "2006-03-01       0.952381        0.476190          84.662147   \n",
       "2006-04-01       0.857143        0.000000          90.444171   \n",
       "2006-05-01       0.761905        0.000000          95.701762   \n",
       "...                   ...             ...                ...   \n",
       "2022-11-01       0.952381        0.142857          86.245411   \n",
       "2022-12-01       1.095238        1.238095          81.418748   \n",
       "2023-01-01       0.809524        1.285714          79.538338   \n",
       "2023-02-01       0.666667        0.952381          81.193504   \n",
       "2023-03-01       0.809524        0.285714          85.630516   \n",
       "\n",
       "            AVG_Min_Low_Temp  AVG_Precip_Percentile    Target  \n",
       "Date                                                           \n",
       "2006-01-01         27.608118               0.025237  0.428571  \n",
       "2006-02-01         32.829384               0.029095  0.952381  \n",
       "2006-03-01         35.377309               0.008301  0.857143  \n",
       "2006-04-01         45.618184               0.016765  0.761905  \n",
       "2006-05-01         55.105053               0.040942  0.476190  \n",
       "...                      ...                    ...       ...  \n",
       "2022-11-01         39.871050               0.006682  1.095238  \n",
       "2022-12-01         31.882749               0.013194  0.809524  \n",
       "2023-01-01         29.248816               0.020701  0.666667  \n",
       "2023-02-01         32.853444               0.014978  0.809524  \n",
       "2023-03-01         38.346064               0.015862  0.666667  \n",
       "\n",
       "[207 rows x 6 columns]"
      ]
     },
     "execution_count": 105,
     "metadata": {},
     "output_type": "execute_result"
    }
   ],
   "source": [
    "alachua_df['Target'] = alachua_df.shift(-1)['AVG_Dry_Spell']\n",
    "alachua_df = alachua_df.iloc[:-3,:].copy()\n",
    "alachua_df"
   ]
  },
  {
   "cell_type": "code",
   "execution_count": 106,
   "metadata": {},
   "outputs": [
    {
     "name": "stdout",
     "output_type": "stream",
     "text": [
      "Error:  0.1633040471189546\n",
      "r^2:  0.5279199539894532\n"
     ]
    }
   ],
   "source": [
    "error, r_square, alachua_combined = predict(predictors, alachua_df, reg)"
   ]
  },
  {
   "cell_type": "code",
   "execution_count": 59,
   "metadata": {},
   "outputs": [
    {
     "name": "stdout",
     "output_type": "stream",
     "text": [
      "Intercepts:  [ 0.27852156 -0.17375888 -0.0833244   0.03147091 -1.03055418]\n",
      "              Actual  Prediction\n",
      "Date                            \n",
      "2019-11-01  0.714286    0.735044\n",
      "2019-12-01  0.714286    0.889332\n",
      "2020-01-01  0.809524    0.654996\n",
      "2020-02-01  0.809524    0.768663\n",
      "2020-03-01  0.571429    0.671514\n"
     ]
    },
    {
     "data": {
      "text/plain": [
       "<AxesSubplot:xlabel='Date'>"
      ]
     },
     "execution_count": 59,
     "metadata": {},
     "output_type": "execute_result"
    },
    {
     "data": {
      "image/png": "[encoded data removed]",
      "text/plain": [
       "<Figure size 432x288 with 1 Axes>"
      ]
     },
     "metadata": {
      "needs_background": "light"
     },
     "output_type": "display_data"
    }
   ],
   "source": [
    "print('Intercepts: ', reg.coef_)\n",
    "print(alachua_combined.head())\n",
    "alachua_combined.plot()"
   ]
  },
  {
   "cell_type": "markdown",
   "metadata": {},
   "source": [
    "# Predictions"
   ]
  },
  {
   "cell_type": "code",
   "execution_count": 87,
   "metadata": {},
   "outputs": [],
   "source": [
    "#Getting this months data for each city\n",
    "adelphi_april = adelphi_df.iloc[207:208][predictors]\n",
    "ack_april = ack_df.iloc[207:208][predictors]\n",
    "albany_april = albany_df.iloc[207:208][predictors]\n",
    "alachua_april = alachua_df.iloc[207:208][predictors]"
   ]
  },
  {
   "cell_type": "code",
   "execution_count": 76,
   "metadata": {},
   "outputs": [
    {
     "name": "stdout",
     "output_type": "stream",
     "text": [
      "Max Temperature for May in Adelphi:  [89.9920877]\n"
     ]
    }
   ],
   "source": [
    "print(\"Max Temperature for May in Adelphi: \", reg.predict(adelphi_april))"
   ]
  },
  {
   "cell_type": "code",
   "execution_count": 83,
   "metadata": {},
   "outputs": [
    {
     "name": "stdout",
     "output_type": "stream",
     "text": [
      "AVG Dry Spell for May in Adelphi:  [0.24367177]\n"
     ]
    }
   ],
   "source": [
    "print(\"AVG Dry Spell for May in Adelphi: \", reg.predict(adelphi_april))"
   ]
  },
  {
   "cell_type": "code",
   "execution_count": 88,
   "metadata": {},
   "outputs": [
    {
     "name": "stdout",
     "output_type": "stream",
     "text": [
      "Max Temperature for May in Akerman:  [88.76700714]\n"
     ]
    }
   ],
   "source": [
    "print(\"Max Temperature for May in Akerman: \", reg.predict(ack_april))"
   ]
  },
  {
   "cell_type": "code",
   "execution_count": 92,
   "metadata": {},
   "outputs": [
    {
     "name": "stdout",
     "output_type": "stream",
     "text": [
      "AVG Dry Spell for May in Akerman:  [0.6796896]\n"
     ]
    }
   ],
   "source": [
    "print(\"AVG Dry Spell for May in Akerman: \", reg.predict(ack_april))"
   ]
  },
  {
   "cell_type": "code",
   "execution_count": 95,
   "metadata": {},
   "outputs": [
    {
     "name": "stdout",
     "output_type": "stream",
     "text": [
      "Max Temperature for May in Albany:  [74.45862305]\n"
     ]
    }
   ],
   "source": [
    "print(\"Max Temperature for May in Albany: \", reg.predict(albany_april))"
   ]
  },
  {
   "cell_type": "code",
   "execution_count": 99,
   "metadata": {},
   "outputs": [
    {
     "name": "stdout",
     "output_type": "stream",
     "text": [
      "AVG Dry Spell for May in Albany:  [1.15148806]\n"
     ]
    }
   ],
   "source": [
    "print(\"AVG Dry Spell for May in Albany: \", reg.predict(albany_april))"
   ]
  },
  {
   "cell_type": "code",
   "execution_count": 103,
   "metadata": {},
   "outputs": [
    {
     "name": "stdout",
     "output_type": "stream",
     "text": [
      "Max Temperature for May in Alachua:  [94.36096007]\n"
     ]
    }
   ],
   "source": [
    "print(\"Max Temperature for May in Alachua: \", reg.predict(alachua_april))"
   ]
  },
  {
   "cell_type": "code",
   "execution_count": 107,
   "metadata": {
    "scrolled": true
   },
   "outputs": [
    {
     "name": "stdout",
     "output_type": "stream",
     "text": [
      "AVG Dry Spell for May in Alachua:  [0.51772296]\n"
     ]
    }
   ],
   "source": [
    "print(\"AVG Dry Spell for May in Alachua: \", reg.predict(alachua_april))"
   ]
  },
  {
   "cell_type": "code",
   "execution_count": null,
   "metadata": {},
   "outputs": [],
   "source": []
  }
 ],
 "metadata": {
  "kernelspec": {
   "display_name": "Python 3 (ipykernel)",
   "language": "python",
   "name": "python3"
  },
  "language_info": {
   "codemirror_mode": {
    "name": "ipython",
    "version": 3
   },
   "file_extension": ".py",
   "mimetype": "text/x-python",
   "name": "python",
   "nbconvert_exporter": "python",
   "pygments_lexer": "ipython3",
   "version": "3.9.12"
  }
 },
 "nbformat": 4,
 "nbformat_minor": 2
}
