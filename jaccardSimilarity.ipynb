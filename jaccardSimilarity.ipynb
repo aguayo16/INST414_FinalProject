{
 "cells": [
  {
   "cell_type": "code",
   "execution_count": 5,
   "id": "f3744ed5-51c0-4cb1-a398-ef98bf246620",
   "metadata": {},
   "outputs": [],
   "source": [
    "import pandas as pd\n",
    "import numpy as np\n",
    "from sklearn.metrics import jaccard_score"
   ]
  },
  {
   "cell_type": "code",
   "execution_count": 6,
   "id": "a5f3af69-f007-4add-84d1-0e0ee9e4da80",
   "metadata": {},
   "outputs": [],
   "source": [
    "dry_spells_df = pd.read_csv('/Users/bricetikum/Downloads/Project/drySpells.csv')\n",
    "frost_days_df = pd.read_csv('/Users/bricetikum/Downloads/Project/frostDays.csv')\n",
    "precipitation_df = pd.read_csv('/Users/bricetikum/Downloads/Project/precipitation.csv')\n",
    "max_temp_df = pd.read_csv('/Users/bricetikum/Downloads/Project/maxHighTemp.csv')\n",
    "min_temp_df = pd.read_csv('/Users/bricetikum/Downloads/Project/minLowTemp.csv')"
   ]
  },
  {
   "attachments": {},
   "cell_type": "markdown",
   "id": "5c4b75b6-dff0-4cc2-b84f-1f4156fb193b",
   "metadata": {},
   "source": [
    "# DRY SPELLS"
   ]
  },
  {
   "cell_type": "code",
   "execution_count": 7,
   "id": "ac605b9e-f9ec-4c61-80ca-60c94c6975da",
   "metadata": {},
   "outputs": [
    {
     "data": {
      "text/html": [
       "<div>\n",
       "<style scoped>\n",
       "    .dataframe tbody tr th:only-of-type {\n",
       "        vertical-align: middle;\n",
       "    }\n",
       "\n",
       "    .dataframe tbody tr th {\n",
       "        vertical-align: top;\n",
       "    }\n",
       "\n",
       "    .dataframe thead th {\n",
       "        text-align: right;\n",
       "    }\n",
       "</style>\n",
       "<table border=\"1\" class=\"dataframe\">\n",
       "  <thead>\n",
       "    <tr style=\"text-align: right;\">\n",
       "      <th></th>\n",
       "      <th>Year</th>\n",
       "      <th>Month</th>\n",
       "      <th>State</th>\n",
       "      <th>City</th>\n",
       "      <th>AVG_Dry_Spell</th>\n",
       "    </tr>\n",
       "  </thead>\n",
       "  <tbody>\n",
       "    <tr>\n",
       "      <th>0</th>\n",
       "      <td>2006</td>\n",
       "      <td>January</td>\n",
       "      <td>MD</td>\n",
       "      <td>Adelphi</td>\n",
       "      <td>0.666667</td>\n",
       "    </tr>\n",
       "    <tr>\n",
       "      <th>1</th>\n",
       "      <td>2006</td>\n",
       "      <td>February</td>\n",
       "      <td>MD</td>\n",
       "      <td>Adelphi</td>\n",
       "      <td>0.523810</td>\n",
       "    </tr>\n",
       "    <tr>\n",
       "      <th>2</th>\n",
       "      <td>2006</td>\n",
       "      <td>March</td>\n",
       "      <td>MD</td>\n",
       "      <td>Adelphi</td>\n",
       "      <td>0.619048</td>\n",
       "    </tr>\n",
       "    <tr>\n",
       "      <th>3</th>\n",
       "      <td>2006</td>\n",
       "      <td>April</td>\n",
       "      <td>MD</td>\n",
       "      <td>Adelphi</td>\n",
       "      <td>0.428571</td>\n",
       "    </tr>\n",
       "    <tr>\n",
       "      <th>4</th>\n",
       "      <td>2006</td>\n",
       "      <td>May</td>\n",
       "      <td>MD</td>\n",
       "      <td>Adelphi</td>\n",
       "      <td>0.380952</td>\n",
       "    </tr>\n",
       "  </tbody>\n",
       "</table>\n",
       "</div>"
      ],
      "text/plain": [
       "   Year     Month State     City  AVG_Dry_Spell\n",
       "0  2006   January    MD  Adelphi       0.666667\n",
       "1  2006  February    MD  Adelphi       0.523810\n",
       "2  2006     March    MD  Adelphi       0.619048\n",
       "3  2006     April    MD  Adelphi       0.428571\n",
       "4  2006       May    MD  Adelphi       0.380952"
      ]
     },
     "execution_count": 7,
     "metadata": {},
     "output_type": "execute_result"
    }
   ],
   "source": [
    "dry_spells_df.head()"
   ]
  },
  {
   "attachments": {},
   "cell_type": "markdown",
   "id": "f80dd96a-ecb6-4f86-a056-3691f0f7da78",
   "metadata": {},
   "source": [
    "# FROST DAYS"
   ]
  },
  {
   "cell_type": "code",
   "execution_count": 8,
   "id": "852c34d4-ea7d-4acb-8ce5-a052aff85b78",
   "metadata": {},
   "outputs": [
    {
     "data": {
      "text/html": [
       "<div>\n",
       "<style scoped>\n",
       "    .dataframe tbody tr th:only-of-type {\n",
       "        vertical-align: middle;\n",
       "    }\n",
       "\n",
       "    .dataframe tbody tr th {\n",
       "        vertical-align: top;\n",
       "    }\n",
       "\n",
       "    .dataframe thead th {\n",
       "        text-align: right;\n",
       "    }\n",
       "</style>\n",
       "<table border=\"1\" class=\"dataframe\">\n",
       "  <thead>\n",
       "    <tr style=\"text-align: right;\">\n",
       "      <th></th>\n",
       "      <th>Year</th>\n",
       "      <th>Month</th>\n",
       "      <th>State</th>\n",
       "      <th>City</th>\n",
       "      <th>AVG_Frost_Days</th>\n",
       "    </tr>\n",
       "  </thead>\n",
       "  <tbody>\n",
       "    <tr>\n",
       "      <th>0</th>\n",
       "      <td>2006</td>\n",
       "      <td>January</td>\n",
       "      <td>MD</td>\n",
       "      <td>Adelphi</td>\n",
       "      <td>23.333333</td>\n",
       "    </tr>\n",
       "    <tr>\n",
       "      <th>1</th>\n",
       "      <td>2006</td>\n",
       "      <td>February</td>\n",
       "      <td>MD</td>\n",
       "      <td>Adelphi</td>\n",
       "      <td>16.000000</td>\n",
       "    </tr>\n",
       "    <tr>\n",
       "      <th>2</th>\n",
       "      <td>2006</td>\n",
       "      <td>March</td>\n",
       "      <td>MD</td>\n",
       "      <td>Adelphi</td>\n",
       "      <td>12.809524</td>\n",
       "    </tr>\n",
       "    <tr>\n",
       "      <th>3</th>\n",
       "      <td>2006</td>\n",
       "      <td>April</td>\n",
       "      <td>MD</td>\n",
       "      <td>Adelphi</td>\n",
       "      <td>2.619048</td>\n",
       "    </tr>\n",
       "    <tr>\n",
       "      <th>4</th>\n",
       "      <td>2006</td>\n",
       "      <td>May</td>\n",
       "      <td>MD</td>\n",
       "      <td>Adelphi</td>\n",
       "      <td>0.095238</td>\n",
       "    </tr>\n",
       "  </tbody>\n",
       "</table>\n",
       "</div>"
      ],
      "text/plain": [
       "   Year     Month State     City  AVG_Frost_Days\n",
       "0  2006   January    MD  Adelphi       23.333333\n",
       "1  2006  February    MD  Adelphi       16.000000\n",
       "2  2006     March    MD  Adelphi       12.809524\n",
       "3  2006     April    MD  Adelphi        2.619048\n",
       "4  2006       May    MD  Adelphi        0.095238"
      ]
     },
     "execution_count": 8,
     "metadata": {},
     "output_type": "execute_result"
    }
   ],
   "source": [
    "frost_days_df.head()"
   ]
  },
  {
   "attachments": {},
   "cell_type": "markdown",
   "id": "5f7d1bd7-d4cf-43f2-a926-dbc4cf9b0bf8",
   "metadata": {},
   "source": [
    "# PRECIPITATION"
   ]
  },
  {
   "cell_type": "code",
   "execution_count": 9,
   "id": "4ab3271e-47d5-4314-96e9-d54643ee8e0f",
   "metadata": {},
   "outputs": [
    {
     "data": {
      "text/html": [
       "<div>\n",
       "<style scoped>\n",
       "    .dataframe tbody tr th:only-of-type {\n",
       "        vertical-align: middle;\n",
       "    }\n",
       "\n",
       "    .dataframe tbody tr th {\n",
       "        vertical-align: top;\n",
       "    }\n",
       "\n",
       "    .dataframe thead th {\n",
       "        text-align: right;\n",
       "    }\n",
       "</style>\n",
       "<table border=\"1\" class=\"dataframe\">\n",
       "  <thead>\n",
       "    <tr style=\"text-align: right;\">\n",
       "      <th></th>\n",
       "      <th>Year</th>\n",
       "      <th>Month</th>\n",
       "      <th>State</th>\n",
       "      <th>City</th>\n",
       "      <th>AVG_Precip_Percentile</th>\n",
       "    </tr>\n",
       "  </thead>\n",
       "  <tbody>\n",
       "    <tr>\n",
       "      <th>0</th>\n",
       "      <td>2006</td>\n",
       "      <td>January</td>\n",
       "      <td>MD</td>\n",
       "      <td>Adelphi</td>\n",
       "      <td>0.008978</td>\n",
       "    </tr>\n",
       "    <tr>\n",
       "      <th>1</th>\n",
       "      <td>2006</td>\n",
       "      <td>February</td>\n",
       "      <td>MD</td>\n",
       "      <td>Adelphi</td>\n",
       "      <td>0.011565</td>\n",
       "    </tr>\n",
       "    <tr>\n",
       "      <th>2</th>\n",
       "      <td>2006</td>\n",
       "      <td>March</td>\n",
       "      <td>MD</td>\n",
       "      <td>Adelphi</td>\n",
       "      <td>0.010393</td>\n",
       "    </tr>\n",
       "    <tr>\n",
       "      <th>3</th>\n",
       "      <td>2006</td>\n",
       "      <td>April</td>\n",
       "      <td>MD</td>\n",
       "      <td>Adelphi</td>\n",
       "      <td>0.019990</td>\n",
       "    </tr>\n",
       "    <tr>\n",
       "      <th>4</th>\n",
       "      <td>2006</td>\n",
       "      <td>May</td>\n",
       "      <td>MD</td>\n",
       "      <td>Adelphi</td>\n",
       "      <td>0.044866</td>\n",
       "    </tr>\n",
       "  </tbody>\n",
       "</table>\n",
       "</div>"
      ],
      "text/plain": [
       "   Year     Month State     City  AVG_Precip_Percentile\n",
       "0  2006   January    MD  Adelphi               0.008978\n",
       "1  2006  February    MD  Adelphi               0.011565\n",
       "2  2006     March    MD  Adelphi               0.010393\n",
       "3  2006     April    MD  Adelphi               0.019990\n",
       "4  2006       May    MD  Adelphi               0.044866"
      ]
     },
     "execution_count": 9,
     "metadata": {},
     "output_type": "execute_result"
    }
   ],
   "source": [
    "precipitation_df.head()"
   ]
  },
  {
   "attachments": {},
   "cell_type": "markdown",
   "id": "ee46b6f2-a01c-4218-80f8-1892b7ec8ed2",
   "metadata": {},
   "source": [
    "# MAX HIGH TEMPERATURE"
   ]
  },
  {
   "cell_type": "code",
   "execution_count": 10,
   "id": "a48ecd1f-619f-44a9-b508-dbf24f13c1b9",
   "metadata": {},
   "outputs": [
    {
     "data": {
      "text/html": [
       "<div>\n",
       "<style scoped>\n",
       "    .dataframe tbody tr th:only-of-type {\n",
       "        vertical-align: middle;\n",
       "    }\n",
       "\n",
       "    .dataframe tbody tr th {\n",
       "        vertical-align: top;\n",
       "    }\n",
       "\n",
       "    .dataframe thead th {\n",
       "        text-align: right;\n",
       "    }\n",
       "</style>\n",
       "<table border=\"1\" class=\"dataframe\">\n",
       "  <thead>\n",
       "    <tr style=\"text-align: right;\">\n",
       "      <th></th>\n",
       "      <th>Year</th>\n",
       "      <th>Month</th>\n",
       "      <th>State</th>\n",
       "      <th>City</th>\n",
       "      <th>AVG_Max_High_Temp</th>\n",
       "    </tr>\n",
       "  </thead>\n",
       "  <tbody>\n",
       "    <tr>\n",
       "      <th>0</th>\n",
       "      <td>2006</td>\n",
       "      <td>January</td>\n",
       "      <td>MD</td>\n",
       "      <td>Adelphi</td>\n",
       "      <td>58.380462</td>\n",
       "    </tr>\n",
       "    <tr>\n",
       "      <th>1</th>\n",
       "      <td>2006</td>\n",
       "      <td>February</td>\n",
       "      <td>MD</td>\n",
       "      <td>Adelphi</td>\n",
       "      <td>64.210977</td>\n",
       "    </tr>\n",
       "    <tr>\n",
       "      <th>2</th>\n",
       "      <td>2006</td>\n",
       "      <td>March</td>\n",
       "      <td>MD</td>\n",
       "      <td>Adelphi</td>\n",
       "      <td>71.779725</td>\n",
       "    </tr>\n",
       "    <tr>\n",
       "      <th>3</th>\n",
       "      <td>2006</td>\n",
       "      <td>April</td>\n",
       "      <td>MD</td>\n",
       "      <td>Adelphi</td>\n",
       "      <td>81.003826</td>\n",
       "    </tr>\n",
       "    <tr>\n",
       "      <th>4</th>\n",
       "      <td>2006</td>\n",
       "      <td>May</td>\n",
       "      <td>MD</td>\n",
       "      <td>Adelphi</td>\n",
       "      <td>88.391318</td>\n",
       "    </tr>\n",
       "  </tbody>\n",
       "</table>\n",
       "</div>"
      ],
      "text/plain": [
       "   Year     Month State     City  AVG_Max_High_Temp\n",
       "0  2006   January    MD  Adelphi          58.380462\n",
       "1  2006  February    MD  Adelphi          64.210977\n",
       "2  2006     March    MD  Adelphi          71.779725\n",
       "3  2006     April    MD  Adelphi          81.003826\n",
       "4  2006       May    MD  Adelphi          88.391318"
      ]
     },
     "execution_count": 10,
     "metadata": {},
     "output_type": "execute_result"
    }
   ],
   "source": [
    "max_temp_df.head()"
   ]
  },
  {
   "attachments": {},
   "cell_type": "markdown",
   "id": "55fbcb02-d33f-4cc7-b057-0550508dd0e6",
   "metadata": {},
   "source": [
    "# MIN LOW TEMPERATURE "
   ]
  },
  {
   "cell_type": "code",
   "execution_count": 11,
   "id": "58cd9568-359b-4bf6-a6ab-b33ecc411996",
   "metadata": {},
   "outputs": [
    {
     "data": {
      "text/html": [
       "<div>\n",
       "<style scoped>\n",
       "    .dataframe tbody tr th:only-of-type {\n",
       "        vertical-align: middle;\n",
       "    }\n",
       "\n",
       "    .dataframe tbody tr th {\n",
       "        vertical-align: top;\n",
       "    }\n",
       "\n",
       "    .dataframe thead th {\n",
       "        text-align: right;\n",
       "    }\n",
       "</style>\n",
       "<table border=\"1\" class=\"dataframe\">\n",
       "  <thead>\n",
       "    <tr style=\"text-align: right;\">\n",
       "      <th></th>\n",
       "      <th>Year</th>\n",
       "      <th>Month</th>\n",
       "      <th>State</th>\n",
       "      <th>City</th>\n",
       "      <th>AVG_Min_Low_Temp</th>\n",
       "    </tr>\n",
       "  </thead>\n",
       "  <tbody>\n",
       "    <tr>\n",
       "      <th>0</th>\n",
       "      <td>2006</td>\n",
       "      <td>January</td>\n",
       "      <td>MD</td>\n",
       "      <td>Adelphi</td>\n",
       "      <td>6.651906</td>\n",
       "    </tr>\n",
       "    <tr>\n",
       "      <th>1</th>\n",
       "      <td>2006</td>\n",
       "      <td>February</td>\n",
       "      <td>MD</td>\n",
       "      <td>Adelphi</td>\n",
       "      <td>12.375184</td>\n",
       "    </tr>\n",
       "    <tr>\n",
       "      <th>2</th>\n",
       "      <td>2006</td>\n",
       "      <td>March</td>\n",
       "      <td>MD</td>\n",
       "      <td>Adelphi</td>\n",
       "      <td>18.881910</td>\n",
       "    </tr>\n",
       "    <tr>\n",
       "      <th>3</th>\n",
       "      <td>2006</td>\n",
       "      <td>April</td>\n",
       "      <td>MD</td>\n",
       "      <td>Adelphi</td>\n",
       "      <td>29.565725</td>\n",
       "    </tr>\n",
       "    <tr>\n",
       "      <th>4</th>\n",
       "      <td>2006</td>\n",
       "      <td>May</td>\n",
       "      <td>MD</td>\n",
       "      <td>Adelphi</td>\n",
       "      <td>39.327334</td>\n",
       "    </tr>\n",
       "  </tbody>\n",
       "</table>\n",
       "</div>"
      ],
      "text/plain": [
       "   Year     Month State     City  AVG_Min_Low_Temp\n",
       "0  2006   January    MD  Adelphi          6.651906\n",
       "1  2006  February    MD  Adelphi         12.375184\n",
       "2  2006     March    MD  Adelphi         18.881910\n",
       "3  2006     April    MD  Adelphi         29.565725\n",
       "4  2006       May    MD  Adelphi         39.327334"
      ]
     },
     "execution_count": 11,
     "metadata": {},
     "output_type": "execute_result"
    }
   ],
   "source": [
    "min_temp_df.head()"
   ]
  },
  {
   "attachments": {},
   "cell_type": "markdown",
   "id": "46023059-318d-4a0a-8b3b-f5756c8d61a6",
   "metadata": {},
   "source": [
    "# MERGED DATA"
   ]
  },
  {
   "attachments": {},
   "cell_type": "markdown",
   "id": "4153ccea-6a0b-46c6-b4e9-ace73ed43ed3",
   "metadata": {},
   "source": [
    "Kept getting Errors when using concat so I just merged a lotta times"
   ]
  },
  {
   "cell_type": "code",
   "execution_count": 12,
   "id": "f9c0853f-dfe7-4a2b-8e64-24b67d669419",
   "metadata": {},
   "outputs": [
    {
     "data": {
      "text/html": [
       "<div>\n",
       "<style scoped>\n",
       "    .dataframe tbody tr th:only-of-type {\n",
       "        vertical-align: middle;\n",
       "    }\n",
       "\n",
       "    .dataframe tbody tr th {\n",
       "        vertical-align: top;\n",
       "    }\n",
       "\n",
       "    .dataframe thead th {\n",
       "        text-align: right;\n",
       "    }\n",
       "</style>\n",
       "<table border=\"1\" class=\"dataframe\">\n",
       "  <thead>\n",
       "    <tr style=\"text-align: right;\">\n",
       "      <th></th>\n",
       "      <th>Year</th>\n",
       "      <th>Month</th>\n",
       "      <th>State</th>\n",
       "      <th>City</th>\n",
       "      <th>AVG_Dry_Spell</th>\n",
       "      <th>AVG_Frost_Days</th>\n",
       "      <th>AVG_Precip_Percentile</th>\n",
       "      <th>AVG_Max_High_Temp</th>\n",
       "      <th>AVG_Min_Low_Temp</th>\n",
       "    </tr>\n",
       "  </thead>\n",
       "  <tbody>\n",
       "    <tr>\n",
       "      <th>0</th>\n",
       "      <td>2006</td>\n",
       "      <td>January</td>\n",
       "      <td>MD</td>\n",
       "      <td>Adelphi</td>\n",
       "      <td>0.666667</td>\n",
       "      <td>23.333333</td>\n",
       "      <td>0.008978</td>\n",
       "      <td>58.380462</td>\n",
       "      <td>6.651906</td>\n",
       "    </tr>\n",
       "    <tr>\n",
       "      <th>1</th>\n",
       "      <td>2006</td>\n",
       "      <td>February</td>\n",
       "      <td>MD</td>\n",
       "      <td>Adelphi</td>\n",
       "      <td>0.523810</td>\n",
       "      <td>16.000000</td>\n",
       "      <td>0.011565</td>\n",
       "      <td>64.210977</td>\n",
       "      <td>12.375184</td>\n",
       "    </tr>\n",
       "    <tr>\n",
       "      <th>2</th>\n",
       "      <td>2006</td>\n",
       "      <td>March</td>\n",
       "      <td>MD</td>\n",
       "      <td>Adelphi</td>\n",
       "      <td>0.619048</td>\n",
       "      <td>12.809524</td>\n",
       "      <td>0.010393</td>\n",
       "      <td>71.779725</td>\n",
       "      <td>18.881910</td>\n",
       "    </tr>\n",
       "    <tr>\n",
       "      <th>3</th>\n",
       "      <td>2006</td>\n",
       "      <td>April</td>\n",
       "      <td>MD</td>\n",
       "      <td>Adelphi</td>\n",
       "      <td>0.428571</td>\n",
       "      <td>2.619048</td>\n",
       "      <td>0.019990</td>\n",
       "      <td>81.003826</td>\n",
       "      <td>29.565725</td>\n",
       "    </tr>\n",
       "    <tr>\n",
       "      <th>4</th>\n",
       "      <td>2006</td>\n",
       "      <td>May</td>\n",
       "      <td>MD</td>\n",
       "      <td>Adelphi</td>\n",
       "      <td>0.380952</td>\n",
       "      <td>0.095238</td>\n",
       "      <td>0.044866</td>\n",
       "      <td>88.391318</td>\n",
       "      <td>39.327334</td>\n",
       "    </tr>\n",
       "  </tbody>\n",
       "</table>\n",
       "</div>"
      ],
      "text/plain": [
       "   Year     Month State     City  AVG_Dry_Spell  AVG_Frost_Days   \n",
       "0  2006   January    MD  Adelphi       0.666667       23.333333  \\\n",
       "1  2006  February    MD  Adelphi       0.523810       16.000000   \n",
       "2  2006     March    MD  Adelphi       0.619048       12.809524   \n",
       "3  2006     April    MD  Adelphi       0.428571        2.619048   \n",
       "4  2006       May    MD  Adelphi       0.380952        0.095238   \n",
       "\n",
       "   AVG_Precip_Percentile  AVG_Max_High_Temp  AVG_Min_Low_Temp  \n",
       "0               0.008978          58.380462          6.651906  \n",
       "1               0.011565          64.210977         12.375184  \n",
       "2               0.010393          71.779725         18.881910  \n",
       "3               0.019990          81.003826         29.565725  \n",
       "4               0.044866          88.391318         39.327334  "
      ]
     },
     "execution_count": 12,
     "metadata": {},
     "output_type": "execute_result"
    }
   ],
   "source": [
    "merge_df = pd.merge(dry_spells_df, frost_days_df, on= ['Year', 'Month', 'State', 'City'])\n",
    "merge_df = pd.merge(merge_df, precipitation_df, on= ['Year', 'Month', 'State', 'City'])\n",
    "merge_df = pd.merge(merge_df, max_temp_df, on= ['Year', 'Month', 'State', 'City'])\n",
    "merge_df = pd.merge(merge_df, min_temp_df, on= ['Year', 'Month', 'State', 'City'])\n",
    "merge_df.head()"
   ]
  },
  {
   "attachments": {},
   "cell_type": "markdown",
   "id": "eb3f92b3-653f-42ea-bd44-6071cfdf1dbc",
   "metadata": {
    "tags": []
   },
   "source": [
    "# Individual City DF: Adelphi "
   ]
  },
  {
   "cell_type": "code",
   "execution_count": 13,
   "id": "9ac86e71-d3ba-41d1-8450-a0186fcea950",
   "metadata": {},
   "outputs": [
    {
     "data": {
      "text/html": [
       "<div>\n",
       "<style scoped>\n",
       "    .dataframe tbody tr th:only-of-type {\n",
       "        vertical-align: middle;\n",
       "    }\n",
       "\n",
       "    .dataframe tbody tr th {\n",
       "        vertical-align: top;\n",
       "    }\n",
       "\n",
       "    .dataframe thead th {\n",
       "        text-align: right;\n",
       "    }\n",
       "</style>\n",
       "<table border=\"1\" class=\"dataframe\">\n",
       "  <thead>\n",
       "    <tr style=\"text-align: right;\">\n",
       "      <th></th>\n",
       "      <th>Year</th>\n",
       "      <th>Month</th>\n",
       "      <th>State</th>\n",
       "      <th>City</th>\n",
       "      <th>AVG_Dry_Spell</th>\n",
       "      <th>AVG_Frost_Days</th>\n",
       "      <th>AVG_Precip_Percentile</th>\n",
       "      <th>AVG_Max_High_Temp</th>\n",
       "      <th>AVG_Min_Low_Temp</th>\n",
       "    </tr>\n",
       "  </thead>\n",
       "  <tbody>\n",
       "    <tr>\n",
       "      <th>0</th>\n",
       "      <td>2006</td>\n",
       "      <td>January</td>\n",
       "      <td>MD</td>\n",
       "      <td>Adelphi</td>\n",
       "      <td>0.666667</td>\n",
       "      <td>23.333333</td>\n",
       "      <td>0.008978</td>\n",
       "      <td>58.380462</td>\n",
       "      <td>6.651906</td>\n",
       "    </tr>\n",
       "    <tr>\n",
       "      <th>1</th>\n",
       "      <td>2006</td>\n",
       "      <td>February</td>\n",
       "      <td>MD</td>\n",
       "      <td>Adelphi</td>\n",
       "      <td>0.523810</td>\n",
       "      <td>16.000000</td>\n",
       "      <td>0.011565</td>\n",
       "      <td>64.210977</td>\n",
       "      <td>12.375184</td>\n",
       "    </tr>\n",
       "    <tr>\n",
       "      <th>2</th>\n",
       "      <td>2006</td>\n",
       "      <td>March</td>\n",
       "      <td>MD</td>\n",
       "      <td>Adelphi</td>\n",
       "      <td>0.619048</td>\n",
       "      <td>12.809524</td>\n",
       "      <td>0.010393</td>\n",
       "      <td>71.779725</td>\n",
       "      <td>18.881910</td>\n",
       "    </tr>\n",
       "    <tr>\n",
       "      <th>3</th>\n",
       "      <td>2006</td>\n",
       "      <td>April</td>\n",
       "      <td>MD</td>\n",
       "      <td>Adelphi</td>\n",
       "      <td>0.428571</td>\n",
       "      <td>2.619048</td>\n",
       "      <td>0.019990</td>\n",
       "      <td>81.003826</td>\n",
       "      <td>29.565725</td>\n",
       "    </tr>\n",
       "    <tr>\n",
       "      <th>4</th>\n",
       "      <td>2006</td>\n",
       "      <td>May</td>\n",
       "      <td>MD</td>\n",
       "      <td>Adelphi</td>\n",
       "      <td>0.380952</td>\n",
       "      <td>0.095238</td>\n",
       "      <td>0.044866</td>\n",
       "      <td>88.391318</td>\n",
       "      <td>39.327334</td>\n",
       "    </tr>\n",
       "  </tbody>\n",
       "</table>\n",
       "</div>"
      ],
      "text/plain": [
       "   Year     Month State     City  AVG_Dry_Spell  AVG_Frost_Days   \n",
       "0  2006   January    MD  Adelphi       0.666667       23.333333  \\\n",
       "1  2006  February    MD  Adelphi       0.523810       16.000000   \n",
       "2  2006     March    MD  Adelphi       0.619048       12.809524   \n",
       "3  2006     April    MD  Adelphi       0.428571        2.619048   \n",
       "4  2006       May    MD  Adelphi       0.380952        0.095238   \n",
       "\n",
       "   AVG_Precip_Percentile  AVG_Max_High_Temp  AVG_Min_Low_Temp  \n",
       "0               0.008978          58.380462          6.651906  \n",
       "1               0.011565          64.210977         12.375184  \n",
       "2               0.010393          71.779725         18.881910  \n",
       "3               0.019990          81.003826         29.565725  \n",
       "4               0.044866          88.391318         39.327334  "
      ]
     },
     "execution_count": 13,
     "metadata": {},
     "output_type": "execute_result"
    }
   ],
   "source": [
    "adelphi_df = merge_df[merge_df.City == 'Adelphi']\n",
    "adelphi_df.head()"
   ]
  },
  {
   "attachments": {},
   "cell_type": "markdown",
   "id": "e9ca3a21-8b8c-49fe-afdd-3ecdc8a344ba",
   "metadata": {},
   "source": [
    "# Individual City DF: Albany"
   ]
  },
  {
   "cell_type": "code",
   "execution_count": 14,
   "id": "30cc11c5-07e6-4cf1-8f60-0accb000348f",
   "metadata": {},
   "outputs": [
    {
     "data": {
      "text/html": [
       "<div>\n",
       "<style scoped>\n",
       "    .dataframe tbody tr th:only-of-type {\n",
       "        vertical-align: middle;\n",
       "    }\n",
       "\n",
       "    .dataframe tbody tr th {\n",
       "        vertical-align: top;\n",
       "    }\n",
       "\n",
       "    .dataframe thead th {\n",
       "        text-align: right;\n",
       "    }\n",
       "</style>\n",
       "<table border=\"1\" class=\"dataframe\">\n",
       "  <thead>\n",
       "    <tr style=\"text-align: right;\">\n",
       "      <th></th>\n",
       "      <th>Year</th>\n",
       "      <th>Month</th>\n",
       "      <th>State</th>\n",
       "      <th>City</th>\n",
       "      <th>AVG_Dry_Spell</th>\n",
       "      <th>AVG_Frost_Days</th>\n",
       "      <th>AVG_Precip_Percentile</th>\n",
       "      <th>AVG_Max_High_Temp</th>\n",
       "      <th>AVG_Min_Low_Temp</th>\n",
       "    </tr>\n",
       "  </thead>\n",
       "  <tbody>\n",
       "    <tr>\n",
       "      <th>204</th>\n",
       "      <td>2006</td>\n",
       "      <td>January</td>\n",
       "      <td>CA</td>\n",
       "      <td>Albany</td>\n",
       "      <td>1.000000</td>\n",
       "      <td>0.476190</td>\n",
       "      <td>0.024288</td>\n",
       "      <td>65.503689</td>\n",
       "      <td>36.699087</td>\n",
       "    </tr>\n",
       "    <tr>\n",
       "      <th>205</th>\n",
       "      <td>2006</td>\n",
       "      <td>February</td>\n",
       "      <td>CA</td>\n",
       "      <td>Albany</td>\n",
       "      <td>0.380952</td>\n",
       "      <td>0.619048</td>\n",
       "      <td>0.054996</td>\n",
       "      <td>68.575741</td>\n",
       "      <td>37.137335</td>\n",
       "    </tr>\n",
       "    <tr>\n",
       "      <th>206</th>\n",
       "      <td>2006</td>\n",
       "      <td>March</td>\n",
       "      <td>CA</td>\n",
       "      <td>Albany</td>\n",
       "      <td>0.761905</td>\n",
       "      <td>0.000000</td>\n",
       "      <td>0.016353</td>\n",
       "      <td>72.179500</td>\n",
       "      <td>42.088860</td>\n",
       "    </tr>\n",
       "    <tr>\n",
       "      <th>207</th>\n",
       "      <td>2006</td>\n",
       "      <td>April</td>\n",
       "      <td>CA</td>\n",
       "      <td>Albany</td>\n",
       "      <td>1.190476</td>\n",
       "      <td>0.000000</td>\n",
       "      <td>0.008492</td>\n",
       "      <td>74.968146</td>\n",
       "      <td>43.077417</td>\n",
       "    </tr>\n",
       "    <tr>\n",
       "      <th>208</th>\n",
       "      <td>2006</td>\n",
       "      <td>May</td>\n",
       "      <td>CA</td>\n",
       "      <td>Albany</td>\n",
       "      <td>1.714286</td>\n",
       "      <td>0.000000</td>\n",
       "      <td>0.000690</td>\n",
       "      <td>77.666171</td>\n",
       "      <td>45.992517</td>\n",
       "    </tr>\n",
       "  </tbody>\n",
       "</table>\n",
       "</div>"
      ],
      "text/plain": [
       "     Year     Month State    City  AVG_Dry_Spell  AVG_Frost_Days   \n",
       "204  2006   January    CA  Albany       1.000000        0.476190  \\\n",
       "205  2006  February    CA  Albany       0.380952        0.619048   \n",
       "206  2006     March    CA  Albany       0.761905        0.000000   \n",
       "207  2006     April    CA  Albany       1.190476        0.000000   \n",
       "208  2006       May    CA  Albany       1.714286        0.000000   \n",
       "\n",
       "     AVG_Precip_Percentile  AVG_Max_High_Temp  AVG_Min_Low_Temp  \n",
       "204               0.024288          65.503689         36.699087  \n",
       "205               0.054996          68.575741         37.137335  \n",
       "206               0.016353          72.179500         42.088860  \n",
       "207               0.008492          74.968146         43.077417  \n",
       "208               0.000690          77.666171         45.992517  "
      ]
     },
     "execution_count": 14,
     "metadata": {},
     "output_type": "execute_result"
    }
   ],
   "source": [
    "albany_df = merge_df[merge_df.City == 'Albany']\n",
    "albany_df.head()"
   ]
  },
  {
   "attachments": {},
   "cell_type": "markdown",
   "id": "f7fd2231-5ed4-4c3a-8561-13625d94175f",
   "metadata": {},
   "source": [
    "# Individual City DF: Alachua"
   ]
  },
  {
   "cell_type": "code",
   "execution_count": 15,
   "id": "912ebcb0-a6e2-4e97-a876-a8155e350f75",
   "metadata": {},
   "outputs": [
    {
     "data": {
      "text/html": [
       "<div>\n",
       "<style scoped>\n",
       "    .dataframe tbody tr th:only-of-type {\n",
       "        vertical-align: middle;\n",
       "    }\n",
       "\n",
       "    .dataframe tbody tr th {\n",
       "        vertical-align: top;\n",
       "    }\n",
       "\n",
       "    .dataframe thead th {\n",
       "        text-align: right;\n",
       "    }\n",
       "</style>\n",
       "<table border=\"1\" class=\"dataframe\">\n",
       "  <thead>\n",
       "    <tr style=\"text-align: right;\">\n",
       "      <th></th>\n",
       "      <th>Year</th>\n",
       "      <th>Month</th>\n",
       "      <th>State</th>\n",
       "      <th>City</th>\n",
       "      <th>AVG_Dry_Spell</th>\n",
       "      <th>AVG_Frost_Days</th>\n",
       "      <th>AVG_Precip_Percentile</th>\n",
       "      <th>AVG_Max_High_Temp</th>\n",
       "      <th>AVG_Min_Low_Temp</th>\n",
       "    </tr>\n",
       "  </thead>\n",
       "  <tbody>\n",
       "    <tr>\n",
       "      <th>408</th>\n",
       "      <td>2006</td>\n",
       "      <td>January</td>\n",
       "      <td>FL</td>\n",
       "      <td>Alachua</td>\n",
       "      <td>0.714286</td>\n",
       "      <td>2.714286</td>\n",
       "      <td>0.025237</td>\n",
       "      <td>78.249658</td>\n",
       "      <td>27.608118</td>\n",
       "    </tr>\n",
       "    <tr>\n",
       "      <th>409</th>\n",
       "      <td>2006</td>\n",
       "      <td>February</td>\n",
       "      <td>FL</td>\n",
       "      <td>Alachua</td>\n",
       "      <td>0.428571</td>\n",
       "      <td>0.952381</td>\n",
       "      <td>0.029095</td>\n",
       "      <td>81.318539</td>\n",
       "      <td>32.829384</td>\n",
       "    </tr>\n",
       "    <tr>\n",
       "      <th>410</th>\n",
       "      <td>2006</td>\n",
       "      <td>March</td>\n",
       "      <td>FL</td>\n",
       "      <td>Alachua</td>\n",
       "      <td>0.952381</td>\n",
       "      <td>0.476190</td>\n",
       "      <td>0.008301</td>\n",
       "      <td>84.662147</td>\n",
       "      <td>35.377309</td>\n",
       "    </tr>\n",
       "    <tr>\n",
       "      <th>411</th>\n",
       "      <td>2006</td>\n",
       "      <td>April</td>\n",
       "      <td>FL</td>\n",
       "      <td>Alachua</td>\n",
       "      <td>0.857143</td>\n",
       "      <td>0.000000</td>\n",
       "      <td>0.016765</td>\n",
       "      <td>90.444171</td>\n",
       "      <td>45.618184</td>\n",
       "    </tr>\n",
       "    <tr>\n",
       "      <th>412</th>\n",
       "      <td>2006</td>\n",
       "      <td>May</td>\n",
       "      <td>FL</td>\n",
       "      <td>Alachua</td>\n",
       "      <td>0.761905</td>\n",
       "      <td>0.000000</td>\n",
       "      <td>0.040942</td>\n",
       "      <td>95.701762</td>\n",
       "      <td>55.105053</td>\n",
       "    </tr>\n",
       "  </tbody>\n",
       "</table>\n",
       "</div>"
      ],
      "text/plain": [
       "     Year     Month State     City  AVG_Dry_Spell  AVG_Frost_Days   \n",
       "408  2006   January    FL  Alachua       0.714286        2.714286  \\\n",
       "409  2006  February    FL  Alachua       0.428571        0.952381   \n",
       "410  2006     March    FL  Alachua       0.952381        0.476190   \n",
       "411  2006     April    FL  Alachua       0.857143        0.000000   \n",
       "412  2006       May    FL  Alachua       0.761905        0.000000   \n",
       "\n",
       "     AVG_Precip_Percentile  AVG_Max_High_Temp  AVG_Min_Low_Temp  \n",
       "408               0.025237          78.249658         27.608118  \n",
       "409               0.029095          81.318539         32.829384  \n",
       "410               0.008301          84.662147         35.377309  \n",
       "411               0.016765          90.444171         45.618184  \n",
       "412               0.040942          95.701762         55.105053  "
      ]
     },
     "execution_count": 15,
     "metadata": {},
     "output_type": "execute_result"
    }
   ],
   "source": [
    "alachua_df = merge_df[merge_df.City == 'Alachua']\n",
    "alachua_df.head()"
   ]
  },
  {
   "attachments": {},
   "cell_type": "markdown",
   "id": "14445b7b-8e1d-47c3-8ca3-b899ebdfb4ee",
   "metadata": {},
   "source": [
    "# Individual City DF: Ackerman"
   ]
  },
  {
   "cell_type": "code",
   "execution_count": 16,
   "id": "51046394-9ff8-4e81-8e2a-f9dfd31f1574",
   "metadata": {},
   "outputs": [
    {
     "data": {
      "text/html": [
       "<div>\n",
       "<style scoped>\n",
       "    .dataframe tbody tr th:only-of-type {\n",
       "        vertical-align: middle;\n",
       "    }\n",
       "\n",
       "    .dataframe tbody tr th {\n",
       "        vertical-align: top;\n",
       "    }\n",
       "\n",
       "    .dataframe thead th {\n",
       "        text-align: right;\n",
       "    }\n",
       "</style>\n",
       "<table border=\"1\" class=\"dataframe\">\n",
       "  <thead>\n",
       "    <tr style=\"text-align: right;\">\n",
       "      <th></th>\n",
       "      <th>Year</th>\n",
       "      <th>Month</th>\n",
       "      <th>State</th>\n",
       "      <th>City</th>\n",
       "      <th>AVG_Dry_Spell</th>\n",
       "      <th>AVG_Frost_Days</th>\n",
       "      <th>AVG_Precip_Percentile</th>\n",
       "      <th>AVG_Max_High_Temp</th>\n",
       "      <th>AVG_Min_Low_Temp</th>\n",
       "    </tr>\n",
       "  </thead>\n",
       "  <tbody>\n",
       "    <tr>\n",
       "      <th>612</th>\n",
       "      <td>2006</td>\n",
       "      <td>January</td>\n",
       "      <td>MS</td>\n",
       "      <td>Ackerman</td>\n",
       "      <td>0.761905</td>\n",
       "      <td>15.761905</td>\n",
       "      <td>0.020218</td>\n",
       "      <td>68.284760</td>\n",
       "      <td>16.643736</td>\n",
       "    </tr>\n",
       "    <tr>\n",
       "      <th>613</th>\n",
       "      <td>2006</td>\n",
       "      <td>February</td>\n",
       "      <td>MS</td>\n",
       "      <td>Ackerman</td>\n",
       "      <td>0.285714</td>\n",
       "      <td>8.619048</td>\n",
       "      <td>0.035508</td>\n",
       "      <td>71.710266</td>\n",
       "      <td>18.613628</td>\n",
       "    </tr>\n",
       "    <tr>\n",
       "      <th>614</th>\n",
       "      <td>2006</td>\n",
       "      <td>March</td>\n",
       "      <td>MS</td>\n",
       "      <td>Ackerman</td>\n",
       "      <td>0.571429</td>\n",
       "      <td>4.238095</td>\n",
       "      <td>0.025910</td>\n",
       "      <td>77.423640</td>\n",
       "      <td>25.492232</td>\n",
       "    </tr>\n",
       "    <tr>\n",
       "      <th>615</th>\n",
       "      <td>2006</td>\n",
       "      <td>April</td>\n",
       "      <td>MS</td>\n",
       "      <td>Ackerman</td>\n",
       "      <td>0.714286</td>\n",
       "      <td>0.190476</td>\n",
       "      <td>0.050267</td>\n",
       "      <td>83.610128</td>\n",
       "      <td>36.425706</td>\n",
       "    </tr>\n",
       "    <tr>\n",
       "      <th>616</th>\n",
       "      <td>2006</td>\n",
       "      <td>May</td>\n",
       "      <td>MS</td>\n",
       "      <td>Ackerman</td>\n",
       "      <td>0.619048</td>\n",
       "      <td>0.000000</td>\n",
       "      <td>0.068791</td>\n",
       "      <td>89.570718</td>\n",
       "      <td>48.237222</td>\n",
       "    </tr>\n",
       "  </tbody>\n",
       "</table>\n",
       "</div>"
      ],
      "text/plain": [
       "     Year     Month State      City  AVG_Dry_Spell  AVG_Frost_Days   \n",
       "612  2006   January    MS  Ackerman       0.761905       15.761905  \\\n",
       "613  2006  February    MS  Ackerman       0.285714        8.619048   \n",
       "614  2006     March    MS  Ackerman       0.571429        4.238095   \n",
       "615  2006     April    MS  Ackerman       0.714286        0.190476   \n",
       "616  2006       May    MS  Ackerman       0.619048        0.000000   \n",
       "\n",
       "     AVG_Precip_Percentile  AVG_Max_High_Temp  AVG_Min_Low_Temp  \n",
       "612               0.020218          68.284760         16.643736  \n",
       "613               0.035508          71.710266         18.613628  \n",
       "614               0.025910          77.423640         25.492232  \n",
       "615               0.050267          83.610128         36.425706  \n",
       "616               0.068791          89.570718         48.237222  "
      ]
     },
     "execution_count": 16,
     "metadata": {},
     "output_type": "execute_result"
    }
   ],
   "source": [
    "ackerman_df = merge_df[merge_df.City == 'Ackerman']\n",
    "ackerman_df.head()"
   ]
  },
  {
   "attachments": {},
   "cell_type": "markdown",
   "id": "8424c4e9-36c1-4f54-9f1e-1b8855422f76",
   "metadata": {},
   "source": [
    "# ALL JACCARD METHODS "
   ]
  },
  {
   "attachments": {},
   "cell_type": "markdown",
   "id": "8587dc4d-84bc-4a03-8854-e2a43d21d1c9",
   "metadata": {},
   "source": [
    " Simple Jaccard Function "
   ]
  },
  {
   "cell_type": "code",
   "execution_count": 17,
   "id": "08bd4c89-c059-4658-9a83-858daea38b84",
   "metadata": {},
   "outputs": [],
   "source": [
    "def jaccard(list1, list2):\n",
    "    intersection = len(list(set(list1).intersection(list2)))\n",
    "    union = len(list(set(list1).union(list2)))\n",
    "    #union = (len(list1) + len(list2)) - intersection\n",
    "    return 'Jaccard Similarty = ' + str(float(intersection) / union)"
   ]
  },
  {
   "attachments": {},
   "cell_type": "markdown",
   "id": "8213612b-a48c-477f-affc-c0aefef7e659",
   "metadata": {},
   "source": [
    "Creating Lists for each set of data for each city"
   ]
  },
  {
   "cell_type": "code",
   "execution_count": 18,
   "id": "f78537bd-8f49-4b32-995a-1d45c93afcbe",
   "metadata": {
    "tags": []
   },
   "outputs": [],
   "source": [
    "adelphi_ds = adelphi_df['AVG_Dry_Spell'].tolist()\n",
    "albany_ds = albany_df['AVG_Dry_Spell'].tolist()\n",
    "alachua_ds = alachua_df['AVG_Dry_Spell'].tolist()\n",
    "ackerman_ds = ackerman_df['AVG_Dry_Spell'].tolist()"
   ]
  },
  {
   "cell_type": "code",
   "execution_count": 19,
   "id": "120085a0-f793-4541-a45f-cf72bb7c04c6",
   "metadata": {},
   "outputs": [],
   "source": [
    "adelphi_fd = adelphi_df['AVG_Frost_Days'].tolist()\n",
    "albany_fd = albany_df['AVG_Frost_Days'].tolist()\n",
    "alachua_fd = alachua_df['AVG_Frost_Days'].tolist()\n",
    "ackerman_fd = ackerman_df['AVG_Frost_Days'].tolist()"
   ]
  },
  {
   "cell_type": "code",
   "execution_count": 20,
   "id": "f2a3d199-20dc-415d-874e-4e43ec2a90b8",
   "metadata": {},
   "outputs": [],
   "source": [
    "adelphi_pp = adelphi_df['AVG_Precip_Percentile'].tolist()\n",
    "albany_pp = albany_df['AVG_Precip_Percentile'].tolist()\n",
    "alachua_pp = alachua_df['AVG_Precip_Percentile'].tolist()\n",
    "ackerman_pp = ackerman_df['AVG_Precip_Percentile'].tolist()"
   ]
  },
  {
   "cell_type": "code",
   "execution_count": 21,
   "id": "5f776af2-c825-4917-a953-850943a60858",
   "metadata": {},
   "outputs": [],
   "source": [
    "adelphi_mht = adelphi_df['AVG_Max_High_Temp'].tolist()\n",
    "albany_mht = albany_df['AVG_Max_High_Temp'].tolist()\n",
    "alachua_mht = alachua_df['AVG_Max_High_Temp'].tolist()\n",
    "ackerman_mht = ackerman_df['AVG_Max_High_Temp'].tolist()"
   ]
  },
  {
   "cell_type": "code",
   "execution_count": 22,
   "id": "38f52e5d-cd97-4dc1-9652-228ae412b9c7",
   "metadata": {},
   "outputs": [],
   "source": [
    "adelphi_mlt = adelphi_df['AVG_Min_Low_Temp'].tolist()\n",
    "albany_mlt = albany_df['AVG_Min_Low_Temp'].tolist()\n",
    "alachua_mlt = alachua_df['AVG_Min_Low_Temp'].tolist()\n",
    "ackerman_mlt = ackerman_df['AVG_Min_Low_Temp'].tolist()"
   ]
  },
  {
   "attachments": {},
   "cell_type": "markdown",
   "id": "bc1074e7-b8bf-4474-b215-6daa1e938991",
   "metadata": {},
   "source": [
    "TEST - comparing Albany Dry Spells with Adelphi Dry Spells "
   ]
  },
  {
   "cell_type": "code",
   "execution_count": 40,
   "id": "565346d8-e846-4031-ad25-b198d89ef3d5",
   "metadata": {},
   "outputs": [
    {
     "data": {
      "text/plain": [
       "'Jaccard Similarty = 0.8076923076923077'"
      ]
     },
     "execution_count": 40,
     "metadata": {},
     "output_type": "execute_result"
    }
   ],
   "source": [
    "jaccard(adelphi_ds, alachua_ds)\n",
    "#adelhpi - albany = 0.35714285714285715\n",
    "#adelhpi - alachua = 0.8076923076923077\n",
    "#adelphi - ackerman = 0.5862068965517241"
   ]
  },
  {
   "cell_type": "code",
   "execution_count": 43,
   "id": "18bc5849",
   "metadata": {},
   "outputs": [
    {
     "data": {
      "text/plain": [
       "'Jaccard Similarty = 0.10857142857142857'"
      ]
     },
     "execution_count": 43,
     "metadata": {},
     "output_type": "execute_result"
    }
   ],
   "source": [
    "jaccard(adelphi_fd, ackerman_fd)\n",
    "#adelhpi - albany = 0.1111111111111111\n",
    "#adelhpi - alachua = 0.1746031746031746\n",
    "#adelphi - ackerman = 0.10857142857142857"
   ]
  },
  {
   "cell_type": "code",
   "execution_count": 45,
   "id": "883e07a4",
   "metadata": {},
   "outputs": [
    {
     "data": {
      "text/plain": [
       "'Jaccard Similarty = 0.0'"
      ]
     },
     "execution_count": 45,
     "metadata": {},
     "output_type": "execute_result"
    }
   ],
   "source": [
    "jaccard(adelphi_pp, alachua_pp)\n",
    "#adelhpi - albany = 0.0\n",
    "#adelhpi - alachua = 0.0\n",
    "#adelphi - ackerman = 0.0"
   ]
  },
  {
   "cell_type": "code",
   "execution_count": 46,
   "id": "ad5e489a",
   "metadata": {},
   "outputs": [
    {
     "data": {
      "text/plain": [
       "'Jaccard Similarty = 0.0'"
      ]
     },
     "execution_count": 46,
     "metadata": {},
     "output_type": "execute_result"
    }
   ],
   "source": [
    "jaccard(adelphi_mht, albany_mht)\n",
    "#adelhpi - albany = 0.0\n",
    "#adelhpi - alachua = 0.0\n",
    "#adelphi - ackerman = 0.0"
   ]
  },
  {
   "cell_type": "code",
   "execution_count": null,
   "id": "a1ec681d",
   "metadata": {},
   "outputs": [],
   "source": [
    "jaccard(adelphi_mlt, albany_mlt)\n",
    "#adelhpi - albany = 0.0\n",
    "#adelhpi - alachua = 0.0\n",
    "#adelphi - ackerman = 0.0"
   ]
  },
  {
   "attachments": {},
   "cell_type": "markdown",
   "id": "cfb8ded1-d01f-44a0-b19e-220480c07f37",
   "metadata": {},
   "source": [
    "Attempting Jaccard Similarity Method for all test features for two cities: "
   ]
  },
  {
   "cell_type": "code",
   "execution_count": 24,
   "id": "cdc3c3b5-9531-4770-9700-232234d1d8e3",
   "metadata": {},
   "outputs": [],
   "source": [
    "def jaccard2(list1, list2, list3, list4, list5, list6, list7, list8, list9, list10):\n",
    "    intersection = len(list(set(list1).intersection(list2)))\n",
    "    intersection2 = len(list(set(list3).intersection(list4)))\n",
    "    intersection3 = len(list(set(list5).intersection(list6)))\n",
    "    intersection4 = len(list(set(list7).intersection(list8)))\n",
    "    intersection5 = len(list(set(list9).intersection(list10)))\n",
    "    union = len(list(set(list1).union(list2)))\n",
    "    union2 = len(list(set(list3).union(list4)))\n",
    "    union3 = len(list(set(list5).union(list6)))\n",
    "    union4 = len(list(set(list7).union(list8)))\n",
    "    union5 = len(list(set(list9).union(list10)))\n",
    "    #union = (len(list1) + len(list2) - intersection)\n",
    "    #union2 = (len(list3) + len(list4) - intersection2)\n",
    "    #union3 = (len(list5) + len(list6) - intersection3)\n",
    "    #union4 = (len(list7) + len(list8) - intersection4)\n",
    "    #union5 = (len(list9) + len(list10) - intersection5)\n",
    "    return \"Jaccard Similarity for all Indicators are:\",\\\n",
    "           \"Dry Spells: \" + str(float(intersection)/union),\\\n",
    "           'Frost Days: ' + str(float(intersection2)/union2),\\\n",
    "           'Precipitation: ' + str(float(intersection3)/union3),\\\n",
    "           'Max Temp: ' + str(float(intersection4)/union4),\\\n",
    "            'Min Temp: ' + str(float(intersection5)/union5) \n",
    "\n",
    "    \n",
    "       \n",
    "#Try to make sure you allow lists to be in any order but still match up with one another for example ds with ds\n",
    "#Make sure theres an intersection and union line for each pair of lists \n",
    "# \n"
   ]
  },
  {
   "cell_type": "code",
   "execution_count": 25,
   "id": "47227ac6-1ba8-4556-b8bd-b1f3064db516",
   "metadata": {},
   "outputs": [
    {
     "data": {
      "text/plain": [
       "('Jaccard Similarity for all Indicators are:',\n",
       " 'Dry Spells: 0.35714285714285715',\n",
       " 'Frost Days: 0.1111111111111111',\n",
       " 'Precipitation: 0.0',\n",
       " 'Max Temp: 0.0',\n",
       " 'Min Temp: 0.0')"
      ]
     },
     "execution_count": 25,
     "metadata": {},
     "output_type": "execute_result"
    }
   ],
   "source": [
    "jaccard2(adelphi_ds, albany_ds, adelphi_fd, albany_fd, adelphi_pp, albany_pp, adelphi_mht, albany_mht, adelphi_mlt, albany_mlt)\n",
    "\n",
    "\n",
    "\n"
   ]
  },
  {
   "attachments": {},
   "cell_type": "markdown",
   "id": "0572fb36-0556-48a2-b24a-73e1b0ae7030",
   "metadata": {},
   "source": [
    "Creating lists for all cities and data instead of separating by test features as well. This way there is only 4 lists. "
   ]
  },
  {
   "cell_type": "code",
   "execution_count": 26,
   "id": "f84fba73-cd73-4468-91f7-c700cfee97ee",
   "metadata": {},
   "outputs": [],
   "source": [
    "adelphi_list = adelphi_ds + adelphi_fd + adelphi_pp + adelphi_mht + adelphi_mlt\n",
    "albany_list = albany_ds + albany_fd + albany_pp + albany_mht + albany_mlt\n",
    "alachua_list = alachua_ds + albany_fd + albany_pp + albany_mht + albany_mlt\n",
    "ackerman_list = ackerman_ds + ackerman_fd + ackerman_pp + ackerman_mht + ackerman_mlt"
   ]
  },
  {
   "cell_type": "code",
   "execution_count": 48,
   "id": "d4558614",
   "metadata": {},
   "outputs": [
    {
     "data": {
      "text/plain": [
       "'Jaccard Similarty = 0.018081761006289308'"
      ]
     },
     "execution_count": 48,
     "metadata": {},
     "output_type": "execute_result"
    }
   ],
   "source": [
    "jaccard(adelphi_list,albany_list)"
   ]
  },
  {
   "cell_type": "code",
   "execution_count": 50,
   "id": "fec0fa51",
   "metadata": {},
   "outputs": [
    {
     "data": {
      "text/plain": [
       "'Jaccard Similarty = 0.02127659574468085'"
      ]
     },
     "execution_count": 50,
     "metadata": {},
     "output_type": "execute_result"
    }
   ],
   "source": [
    "jaccard(adelphi_list,alachua_list)"
   ]
  },
  {
   "cell_type": "code",
   "execution_count": 47,
   "id": "d5874006",
   "metadata": {},
   "outputs": [
    {
     "data": {
      "text/plain": [
       "'Jaccard Similarty = 0.0234009360374415'"
      ]
     },
     "execution_count": 47,
     "metadata": {},
     "output_type": "execute_result"
    }
   ],
   "source": [
    "jaccard(adelphi_list,ackerman_list)"
   ]
  },
  {
   "cell_type": "code",
   "execution_count": 30,
   "id": "889d3097",
   "metadata": {},
   "outputs": [
    {
     "data": {
      "text/plain": [
       "'Jaccard Similarty = 0.9710884353741497'"
      ]
     },
     "execution_count": 30,
     "metadata": {},
     "output_type": "execute_result"
    }
   ],
   "source": [
    "jaccard(albany_list,alachua_list)"
   ]
  },
  {
   "cell_type": "code",
   "execution_count": 31,
   "id": "7fcba849",
   "metadata": {},
   "outputs": [
    {
     "data": {
      "text/plain": [
       "'Jaccard Similarty = 0.023547880690737835'"
      ]
     },
     "execution_count": 31,
     "metadata": {},
     "output_type": "execute_result"
    }
   ],
   "source": [
    "jaccard(albany_list,ackerman_list)"
   ]
  },
  {
   "cell_type": "code",
   "execution_count": 32,
   "id": "09d656a7",
   "metadata": {},
   "outputs": [
    {
     "data": {
      "text/plain": [
       "'Jaccard Similarty = 0.020618556701030927'"
      ]
     },
     "execution_count": 32,
     "metadata": {},
     "output_type": "execute_result"
    }
   ],
   "source": [
    "jaccard(alachua_list,ackerman_list)"
   ]
  },
  {
   "cell_type": "code",
   "execution_count": 33,
   "id": "80391dd0-7354-4443-ab76-36876565718e",
   "metadata": {
    "tags": []
   },
   "outputs": [],
   "source": [
    "#ADELPHI \n",
    "adelphi_avg_ds = adelphi_df['AVG_Dry_Spell'].mean()\n",
    "adelphi_avg_fd = adelphi_df['AVG_Frost_Days'].mean()\n",
    "adelphi_avg_pp = adelphi_df['AVG_Precip_Percentile'].mean()\n",
    "adelphi_avg_mht = adelphi_df['AVG_Max_High_Temp'].mean()\n",
    "adelphi_avg_mlt = adelphi_df['AVG_Min_Low_Temp'].mean()\n",
    "#ALBANY \n",
    "albany_avg_ds = albany_df['AVG_Dry_Spell'].mean()\n",
    "albany_avg_fd = albany_df['AVG_Frost_Days'].mean()\n",
    "albany_avg_pp = albany_df['AVG_Precip_Percentile'].mean()\n",
    "albany_avg_mht = albany_df['AVG_Max_High_Temp'].mean()\n",
    "albany_avg_mlt = albany_df['AVG_Min_Low_Temp'].mean() \n",
    "#ALACHUA\n",
    "alachua_avg_ds = alachua_df['AVG_Dry_Spell'].mean()\n",
    "alachua_avg_fd = alachua_df['AVG_Frost_Days'].mean()\n",
    "alachua_avg_pp = alachua_df['AVG_Precip_Percentile'].mean()\n",
    "alachua_avg_mht = alachua_df['AVG_Max_High_Temp'].mean()\n",
    "alachua_avg_mlt = alachua_df['AVG_Min_Low_Temp'].mean()\n",
    "#ACKERMAN\n",
    "ackerman_avg_ds = ackerman_df['AVG_Dry_Spell'].mean()\n",
    "ackerman_avg_fd = ackerman_df['AVG_Frost_Days'].mean()\n",
    "ackerman_avg_pp = ackerman_df['AVG_Precip_Percentile'].mean()\n",
    "ackerman_avg_mht = ackerman_df['AVG_Max_High_Temp'].mean()\n",
    "ackerman_avg_mlt = ackerman_df['AVG_Min_Low_Temp'].mean()"
   ]
  },
  {
   "cell_type": "code",
   "execution_count": 34,
   "id": "62e77dcf-fef4-4800-929d-3646f08601f7",
   "metadata": {},
   "outputs": [],
   "source": [
    "adelphi_values = [adelphi_avg_ds, adelphi_avg_fd,adelphi_avg_pp, adelphi_avg_mht,adelphi_avg_mlt]\n",
    "\n",
    "albany_values = [albany_avg_ds, albany_avg_fd, albany_avg_pp, albany_avg_mht, albany_avg_mlt]\n",
    "\n",
    "alachua_values = [alachua_avg_ds, alachua_avg_fd, alachua_avg_pp, alachua_avg_mht, alachua_avg_mlt]\n",
    "\n",
    "ackerman_values = [ackerman_avg_ds, ackerman_avg_fd, ackerman_avg_pp, ackerman_avg_mht, ackerman_avg_mlt]\n"
   ]
  },
  {
   "cell_type": "code",
   "execution_count": 35,
   "id": "6e13055f-cc90-49b7-91b5-3752ec2e58a2",
   "metadata": {},
   "outputs": [
    {
     "data": {
      "text/plain": [
       "'Jaccard Similarty = 0.0'"
      ]
     },
     "execution_count": 35,
     "metadata": {},
     "output_type": "execute_result"
    }
   ],
   "source": [
    "jaccard(alachua_values, ackerman_values)"
   ]
  },
  {
   "cell_type": "code",
   "execution_count": 36,
   "id": "9bb2a723-3fd0-4bd2-866d-148347e67ce4",
   "metadata": {
    "collapsed": true,
    "jupyter": {
     "outputs_hidden": true
    },
    "tags": []
   },
   "outputs": [
    {
     "name": "stderr",
     "output_type": "stream",
     "text": [
      "/var/folders/fl/fx633_s52gv6cg0dnz96pnjr0000gn/T/ipykernel_8452/2200519864.py:2: SettingWithCopyWarning: \n",
      "A value is trying to be set on a copy of a slice from a DataFrame.\n",
      "Try using .loc[row_indexer,col_indexer] = value instead\n",
      "\n",
      "See the caveats in the documentation: https://pandas.pydata.org/pandas-docs/stable/user_guide/indexing.html#returning-a-view-versus-a-copy\n",
      "  adelphi['AVG_Dry_Spell']=  adelphi['AVG_Dry_Spell'].mean()\n",
      "/var/folders/fl/fx633_s52gv6cg0dnz96pnjr0000gn/T/ipykernel_8452/2200519864.py:3: SettingWithCopyWarning: \n",
      "A value is trying to be set on a copy of a slice from a DataFrame.\n",
      "Try using .loc[row_indexer,col_indexer] = value instead\n",
      "\n",
      "See the caveats in the documentation: https://pandas.pydata.org/pandas-docs/stable/user_guide/indexing.html#returning-a-view-versus-a-copy\n",
      "  adelphi['AVG_Frost_Days'] = adelphi['AVG_Frost_Days'].mean()\n",
      "/var/folders/fl/fx633_s52gv6cg0dnz96pnjr0000gn/T/ipykernel_8452/2200519864.py:4: SettingWithCopyWarning: \n",
      "A value is trying to be set on a copy of a slice from a DataFrame.\n",
      "Try using .loc[row_indexer,col_indexer] = value instead\n",
      "\n",
      "See the caveats in the documentation: https://pandas.pydata.org/pandas-docs/stable/user_guide/indexing.html#returning-a-view-versus-a-copy\n",
      "  adelphi['AVG_Precip_Percentile'] = adelphi['AVG_Precip_Percentile'].mean()\n",
      "/var/folders/fl/fx633_s52gv6cg0dnz96pnjr0000gn/T/ipykernel_8452/2200519864.py:5: SettingWithCopyWarning: \n",
      "A value is trying to be set on a copy of a slice from a DataFrame.\n",
      "Try using .loc[row_indexer,col_indexer] = value instead\n",
      "\n",
      "See the caveats in the documentation: https://pandas.pydata.org/pandas-docs/stable/user_guide/indexing.html#returning-a-view-versus-a-copy\n",
      "  adelphi['AVG_Max_High_Temp'] = adelphi['AVG_Max_High_Temp'].mean()\n",
      "/var/folders/fl/fx633_s52gv6cg0dnz96pnjr0000gn/T/ipykernel_8452/2200519864.py:6: SettingWithCopyWarning: \n",
      "A value is trying to be set on a copy of a slice from a DataFrame.\n",
      "Try using .loc[row_indexer,col_indexer] = value instead\n",
      "\n",
      "See the caveats in the documentation: https://pandas.pydata.org/pandas-docs/stable/user_guide/indexing.html#returning-a-view-versus-a-copy\n",
      "  adelphi['AVG_Min_Low_Temp'] = adelphi['AVG_Min_Low_Temp'].mean()\n"
     ]
    },
    {
     "ename": "TypeError",
     "evalue": "Could not convert JanuaryFebruaryMarchAprilMayJuneJulyAugustSeptemberOctoberNovemberDecemberJanuaryFebruaryMarchAprilMayJuneJulyAugustSeptemberOctoberNovemberDecemberJanuaryFebruaryMarchAprilMayJuneJulyAugustSeptemberOctoberNovemberDecemberJanuaryFebruaryMarchAprilMayJuneJulyAugustSeptemberOctoberNovemberDecemberJanuaryFebruaryMarchAprilMayJuneJulyAugustSeptemberOctoberNovemberDecemberJanuaryFebruaryMarchAprilMayJuneJulyAugustSeptemberOctoberNovemberDecemberJanuaryFebruaryMarchAprilMayJuneJulyAugustSeptemberOctoberNovemberDecemberJanuaryFebruaryMarchAprilMayJuneJulyAugustSeptemberOctoberNovemberDecemberJanuaryFebruaryMarchAprilMayJuneJulyAugustSeptemberOctoberNovemberDecemberJanuaryFebruaryMarchAprilMayJuneJulyAugustSeptemberOctoberNovemberDecemberJanuaryFebruaryMarchAprilMayJuneJulyAugustSeptemberOctoberNovemberDecemberJanuaryFebruaryMarchAprilMayJuneJulyAugustSeptemberOctoberNovemberDecemberJanuaryFebruaryMarchAprilMayJuneJulyAugustSeptemberOctoberNovemberDecemberJanuaryFebruaryMarchAprilMayJuneJulyAugustSeptemberOctoberNovemberDecemberJanuaryFebruaryMarchAprilMayJuneJulyAugustSeptemberOctoberNovemberDecemberJanuaryFebruaryMarchAprilMayJuneJulyAugustSeptemberOctoberNovemberDecemberJanuaryFebruaryMarchAprilMayJuneJulyAugustSeptemberOctoberNovemberDecember to numeric",
     "output_type": "error",
     "traceback": [
      "\u001b[0;31m---------------------------------------------------------------------------\u001b[0m",
      "\u001b[0;31mNotImplementedError\u001b[0m                       Traceback (most recent call last)",
      "File \u001b[0;32m/Library/Frameworks/Python.framework/Versions/3.11/lib/python3.11/site-packages/pandas/core/groupby/groupby.py:1490\u001b[0m, in \u001b[0;36mGroupBy._cython_agg_general.<locals>.array_func\u001b[0;34m(values)\u001b[0m\n\u001b[1;32m   1489\u001b[0m \u001b[39mtry\u001b[39;00m:\n\u001b[0;32m-> 1490\u001b[0m     result \u001b[39m=\u001b[39m \u001b[39mself\u001b[39;49m\u001b[39m.\u001b[39;49mgrouper\u001b[39m.\u001b[39;49m_cython_operation(\n\u001b[1;32m   1491\u001b[0m         \u001b[39m\"\u001b[39;49m\u001b[39maggregate\u001b[39;49m\u001b[39m\"\u001b[39;49m,\n\u001b[1;32m   1492\u001b[0m         values,\n\u001b[1;32m   1493\u001b[0m         how,\n\u001b[1;32m   1494\u001b[0m         axis\u001b[39m=\u001b[39;49mdata\u001b[39m.\u001b[39;49mndim \u001b[39m-\u001b[39;49m \u001b[39m1\u001b[39;49m,\n\u001b[1;32m   1495\u001b[0m         min_count\u001b[39m=\u001b[39;49mmin_count,\n\u001b[1;32m   1496\u001b[0m         \u001b[39m*\u001b[39;49m\u001b[39m*\u001b[39;49mkwargs,\n\u001b[1;32m   1497\u001b[0m     )\n\u001b[1;32m   1498\u001b[0m \u001b[39mexcept\u001b[39;00m \u001b[39mNotImplementedError\u001b[39;00m:\n\u001b[1;32m   1499\u001b[0m     \u001b[39m# generally if we have numeric_only=False\u001b[39;00m\n\u001b[1;32m   1500\u001b[0m     \u001b[39m# and non-applicable functions\u001b[39;00m\n\u001b[1;32m   1501\u001b[0m     \u001b[39m# try to python agg\u001b[39;00m\n\u001b[1;32m   1502\u001b[0m     \u001b[39m# TODO: shouldn't min_count matter?\u001b[39;00m\n",
      "File \u001b[0;32m/Library/Frameworks/Python.framework/Versions/3.11/lib/python3.11/site-packages/pandas/core/groupby/ops.py:959\u001b[0m, in \u001b[0;36mBaseGrouper._cython_operation\u001b[0;34m(self, kind, values, how, axis, min_count, **kwargs)\u001b[0m\n\u001b[1;32m    958\u001b[0m ngroups \u001b[39m=\u001b[39m \u001b[39mself\u001b[39m\u001b[39m.\u001b[39mngroups\n\u001b[0;32m--> 959\u001b[0m \u001b[39mreturn\u001b[39;00m cy_op\u001b[39m.\u001b[39;49mcython_operation(\n\u001b[1;32m    960\u001b[0m     values\u001b[39m=\u001b[39;49mvalues,\n\u001b[1;32m    961\u001b[0m     axis\u001b[39m=\u001b[39;49maxis,\n\u001b[1;32m    962\u001b[0m     min_count\u001b[39m=\u001b[39;49mmin_count,\n\u001b[1;32m    963\u001b[0m     comp_ids\u001b[39m=\u001b[39;49mids,\n\u001b[1;32m    964\u001b[0m     ngroups\u001b[39m=\u001b[39;49mngroups,\n\u001b[1;32m    965\u001b[0m     \u001b[39m*\u001b[39;49m\u001b[39m*\u001b[39;49mkwargs,\n\u001b[1;32m    966\u001b[0m )\n",
      "File \u001b[0;32m/Library/Frameworks/Python.framework/Versions/3.11/lib/python3.11/site-packages/pandas/core/groupby/ops.py:657\u001b[0m, in \u001b[0;36mWrappedCythonOp.cython_operation\u001b[0;34m(self, values, axis, min_count, comp_ids, ngroups, **kwargs)\u001b[0m\n\u001b[1;32m    649\u001b[0m     \u001b[39mreturn\u001b[39;00m \u001b[39mself\u001b[39m\u001b[39m.\u001b[39m_ea_wrap_cython_operation(\n\u001b[1;32m    650\u001b[0m         values,\n\u001b[1;32m    651\u001b[0m         min_count\u001b[39m=\u001b[39mmin_count,\n\u001b[0;32m   (...)\u001b[0m\n\u001b[1;32m    654\u001b[0m         \u001b[39m*\u001b[39m\u001b[39m*\u001b[39mkwargs,\n\u001b[1;32m    655\u001b[0m     )\n\u001b[0;32m--> 657\u001b[0m \u001b[39mreturn\u001b[39;00m \u001b[39mself\u001b[39;49m\u001b[39m.\u001b[39;49m_cython_op_ndim_compat(\n\u001b[1;32m    658\u001b[0m     values,\n\u001b[1;32m    659\u001b[0m     min_count\u001b[39m=\u001b[39;49mmin_count,\n\u001b[1;32m    660\u001b[0m     ngroups\u001b[39m=\u001b[39;49mngroups,\n\u001b[1;32m    661\u001b[0m     comp_ids\u001b[39m=\u001b[39;49mcomp_ids,\n\u001b[1;32m    662\u001b[0m     mask\u001b[39m=\u001b[39;49m\u001b[39mNone\u001b[39;49;00m,\n\u001b[1;32m    663\u001b[0m     \u001b[39m*\u001b[39;49m\u001b[39m*\u001b[39;49mkwargs,\n\u001b[1;32m    664\u001b[0m )\n",
      "File \u001b[0;32m/Library/Frameworks/Python.framework/Versions/3.11/lib/python3.11/site-packages/pandas/core/groupby/ops.py:497\u001b[0m, in \u001b[0;36mWrappedCythonOp._cython_op_ndim_compat\u001b[0;34m(self, values, min_count, ngroups, comp_ids, mask, result_mask, **kwargs)\u001b[0m\n\u001b[1;32m    495\u001b[0m     \u001b[39mreturn\u001b[39;00m res\u001b[39m.\u001b[39mT\n\u001b[0;32m--> 497\u001b[0m \u001b[39mreturn\u001b[39;00m \u001b[39mself\u001b[39;49m\u001b[39m.\u001b[39;49m_call_cython_op(\n\u001b[1;32m    498\u001b[0m     values,\n\u001b[1;32m    499\u001b[0m     min_count\u001b[39m=\u001b[39;49mmin_count,\n\u001b[1;32m    500\u001b[0m     ngroups\u001b[39m=\u001b[39;49mngroups,\n\u001b[1;32m    501\u001b[0m     comp_ids\u001b[39m=\u001b[39;49mcomp_ids,\n\u001b[1;32m    502\u001b[0m     mask\u001b[39m=\u001b[39;49mmask,\n\u001b[1;32m    503\u001b[0m     result_mask\u001b[39m=\u001b[39;49mresult_mask,\n\u001b[1;32m    504\u001b[0m     \u001b[39m*\u001b[39;49m\u001b[39m*\u001b[39;49mkwargs,\n\u001b[1;32m    505\u001b[0m )\n",
      "File \u001b[0;32m/Library/Frameworks/Python.framework/Versions/3.11/lib/python3.11/site-packages/pandas/core/groupby/ops.py:541\u001b[0m, in \u001b[0;36mWrappedCythonOp._call_cython_op\u001b[0;34m(self, values, min_count, ngroups, comp_ids, mask, result_mask, **kwargs)\u001b[0m\n\u001b[1;32m    540\u001b[0m out_shape \u001b[39m=\u001b[39m \u001b[39mself\u001b[39m\u001b[39m.\u001b[39m_get_output_shape(ngroups, values)\n\u001b[0;32m--> 541\u001b[0m func \u001b[39m=\u001b[39m \u001b[39mself\u001b[39;49m\u001b[39m.\u001b[39;49m_get_cython_function(\u001b[39mself\u001b[39;49m\u001b[39m.\u001b[39;49mkind, \u001b[39mself\u001b[39;49m\u001b[39m.\u001b[39;49mhow, values\u001b[39m.\u001b[39;49mdtype, is_numeric)\n\u001b[1;32m    542\u001b[0m values \u001b[39m=\u001b[39m \u001b[39mself\u001b[39m\u001b[39m.\u001b[39m_get_cython_vals(values)\n",
      "File \u001b[0;32m/Library/Frameworks/Python.framework/Versions/3.11/lib/python3.11/site-packages/pandas/core/groupby/ops.py:173\u001b[0m, in \u001b[0;36mWrappedCythonOp._get_cython_function\u001b[0;34m(cls, kind, how, dtype, is_numeric)\u001b[0m\n\u001b[1;32m    171\u001b[0m \u001b[39mif\u001b[39;00m \u001b[39m\"\u001b[39m\u001b[39mobject\u001b[39m\u001b[39m\"\u001b[39m \u001b[39mnot\u001b[39;00m \u001b[39min\u001b[39;00m f\u001b[39m.\u001b[39m__signatures__:\n\u001b[1;32m    172\u001b[0m     \u001b[39m# raise NotImplementedError here rather than TypeError later\u001b[39;00m\n\u001b[0;32m--> 173\u001b[0m     \u001b[39mraise\u001b[39;00m \u001b[39mNotImplementedError\u001b[39;00m(\n\u001b[1;32m    174\u001b[0m         \u001b[39mf\u001b[39m\u001b[39m\"\u001b[39m\u001b[39mfunction is not implemented for this dtype: \u001b[39m\u001b[39m\"\u001b[39m\n\u001b[1;32m    175\u001b[0m         \u001b[39mf\u001b[39m\u001b[39m\"\u001b[39m\u001b[39m[how->\u001b[39m\u001b[39m{\u001b[39;00mhow\u001b[39m}\u001b[39;00m\u001b[39m,dtype->\u001b[39m\u001b[39m{\u001b[39;00mdtype_str\u001b[39m}\u001b[39;00m\u001b[39m]\u001b[39m\u001b[39m\"\u001b[39m\n\u001b[1;32m    176\u001b[0m     )\n\u001b[1;32m    177\u001b[0m \u001b[39mreturn\u001b[39;00m f\n",
      "\u001b[0;31mNotImplementedError\u001b[0m: function is not implemented for this dtype: [how->mean,dtype->object]",
      "\nDuring handling of the above exception, another exception occurred:\n",
      "\u001b[0;31mValueError\u001b[0m                                Traceback (most recent call last)",
      "File \u001b[0;32m/Library/Frameworks/Python.framework/Versions/3.11/lib/python3.11/site-packages/pandas/core/nanops.py:1692\u001b[0m, in \u001b[0;36m_ensure_numeric\u001b[0;34m(x)\u001b[0m\n\u001b[1;32m   1691\u001b[0m \u001b[39mtry\u001b[39;00m:\n\u001b[0;32m-> 1692\u001b[0m     x \u001b[39m=\u001b[39m \u001b[39mfloat\u001b[39m(x)\n\u001b[1;32m   1693\u001b[0m \u001b[39mexcept\u001b[39;00m (\u001b[39mTypeError\u001b[39;00m, \u001b[39mValueError\u001b[39;00m):\n\u001b[1;32m   1694\u001b[0m     \u001b[39m# e.g. \"1+1j\" or \"foo\"\u001b[39;00m\n",
      "\u001b[0;31mValueError\u001b[0m: could not convert string to float: 'JanuaryFebruaryMarchAprilMayJuneJulyAugustSeptemberOctoberNovemberDecemberJanuaryFebruaryMarchAprilMayJuneJulyAugustSeptemberOctoberNovemberDecemberJanuaryFebruaryMarchAprilMayJuneJulyAugustSeptemberOctoberNovemberDecemberJanuaryFebruaryMarchAprilMayJuneJulyAugustSeptemberOctoberNovemberDecemberJanuaryFebruaryMarchAprilMayJuneJulyAugustSeptemberOctoberNovemberDecemberJanuaryFebruaryMarchAprilMayJuneJulyAugustSeptemberOctoberNovemberDecemberJanuaryFebruaryMarchAprilMayJuneJulyAugustSeptemberOctoberNovemberDecemberJanuaryFebruaryMarchAprilMayJuneJulyAugustSeptemberOctoberNovemberDecemberJanuaryFebruaryMarchAprilMayJuneJulyAugustSeptemberOctoberNovemberDecemberJanuaryFebruaryMarchAprilMayJuneJulyAugustSeptemberOctoberNovemberDecemberJanuaryFebruaryMarchAprilMayJuneJulyAugustSeptemberOctoberNovemberDecemberJanuaryFebruaryMarchAprilMayJuneJulyAugustSeptemberOctoberNovemberDecemberJanuaryFebruaryMarchAprilMayJuneJulyAugustSeptemberOctoberNovemberDecemberJanuaryFebruaryMarchAprilMayJuneJulyAugustSeptemberOctoberNovemberDecemberJanuaryFebruaryMarchAprilMayJuneJulyAugustSeptemberOctoberNovemberDecemberJanuaryFebruaryMarchAprilMayJuneJulyAugustSeptemberOctoberNovemberDecemberJanuaryFebruaryMarchAprilMayJuneJulyAugustSeptemberOctoberNovemberDecember'",
      "\nDuring handling of the above exception, another exception occurred:\n",
      "\u001b[0;31mValueError\u001b[0m                                Traceback (most recent call last)",
      "File \u001b[0;32m/Library/Frameworks/Python.framework/Versions/3.11/lib/python3.11/site-packages/pandas/core/nanops.py:1696\u001b[0m, in \u001b[0;36m_ensure_numeric\u001b[0;34m(x)\u001b[0m\n\u001b[1;32m   1695\u001b[0m \u001b[39mtry\u001b[39;00m:\n\u001b[0;32m-> 1696\u001b[0m     x \u001b[39m=\u001b[39m \u001b[39mcomplex\u001b[39;49m(x)\n\u001b[1;32m   1697\u001b[0m \u001b[39mexcept\u001b[39;00m \u001b[39mValueError\u001b[39;00m \u001b[39mas\u001b[39;00m err:\n\u001b[1;32m   1698\u001b[0m     \u001b[39m# e.g. \"foo\"\u001b[39;00m\n",
      "\u001b[0;31mValueError\u001b[0m: complex() arg is a malformed string",
      "\nThe above exception was the direct cause of the following exception:\n",
      "\u001b[0;31mTypeError\u001b[0m                                 Traceback (most recent call last)",
      "Cell \u001b[0;32mIn[36], line 7\u001b[0m\n\u001b[1;32m      5\u001b[0m adelphi[\u001b[39m'\u001b[39m\u001b[39mAVG_Max_High_Temp\u001b[39m\u001b[39m'\u001b[39m] \u001b[39m=\u001b[39m adelphi[\u001b[39m'\u001b[39m\u001b[39mAVG_Max_High_Temp\u001b[39m\u001b[39m'\u001b[39m]\u001b[39m.\u001b[39mmean()\n\u001b[1;32m      6\u001b[0m adelphi[\u001b[39m'\u001b[39m\u001b[39mAVG_Min_Low_Temp\u001b[39m\u001b[39m'\u001b[39m] \u001b[39m=\u001b[39m adelphi[\u001b[39m'\u001b[39m\u001b[39mAVG_Min_Low_Temp\u001b[39m\u001b[39m'\u001b[39m]\u001b[39m.\u001b[39mmean()\n\u001b[0;32m----> 7\u001b[0m adelphi \u001b[39m=\u001b[39m adelphi\u001b[39m.\u001b[39;49mgroupby(\u001b[39m'\u001b[39;49m\u001b[39mCity\u001b[39;49m\u001b[39m'\u001b[39;49m)\u001b[39m.\u001b[39;49mmean()\n\u001b[1;32m      8\u001b[0m adelphi \u001b[39m=\u001b[39m adelphi\u001b[39m.\u001b[39mT\n\u001b[1;32m      9\u001b[0m adelphi \u001b[39m=\u001b[39m adelphi\u001b[39m.\u001b[39mreset_index()\n",
      "File \u001b[0;32m/Library/Frameworks/Python.framework/Versions/3.11/lib/python3.11/site-packages/pandas/core/groupby/groupby.py:1855\u001b[0m, in \u001b[0;36mGroupBy.mean\u001b[0;34m(self, numeric_only, engine, engine_kwargs)\u001b[0m\n\u001b[1;32m   1853\u001b[0m     \u001b[39mreturn\u001b[39;00m \u001b[39mself\u001b[39m\u001b[39m.\u001b[39m_numba_agg_general(sliding_mean, engine_kwargs)\n\u001b[1;32m   1854\u001b[0m \u001b[39melse\u001b[39;00m:\n\u001b[0;32m-> 1855\u001b[0m     result \u001b[39m=\u001b[39m \u001b[39mself\u001b[39;49m\u001b[39m.\u001b[39;49m_cython_agg_general(\n\u001b[1;32m   1856\u001b[0m         \u001b[39m\"\u001b[39;49m\u001b[39mmean\u001b[39;49m\u001b[39m\"\u001b[39;49m,\n\u001b[1;32m   1857\u001b[0m         alt\u001b[39m=\u001b[39;49m\u001b[39mlambda\u001b[39;49;00m x: Series(x)\u001b[39m.\u001b[39;49mmean(numeric_only\u001b[39m=\u001b[39;49mnumeric_only),\n\u001b[1;32m   1858\u001b[0m         numeric_only\u001b[39m=\u001b[39;49mnumeric_only,\n\u001b[1;32m   1859\u001b[0m     )\n\u001b[1;32m   1860\u001b[0m     \u001b[39mreturn\u001b[39;00m result\u001b[39m.\u001b[39m__finalize__(\u001b[39mself\u001b[39m\u001b[39m.\u001b[39mobj, method\u001b[39m=\u001b[39m\u001b[39m\"\u001b[39m\u001b[39mgroupby\u001b[39m\u001b[39m\"\u001b[39m)\n",
      "File \u001b[0;32m/Library/Frameworks/Python.framework/Versions/3.11/lib/python3.11/site-packages/pandas/core/groupby/groupby.py:1507\u001b[0m, in \u001b[0;36mGroupBy._cython_agg_general\u001b[0;34m(self, how, alt, numeric_only, min_count, **kwargs)\u001b[0m\n\u001b[1;32m   1503\u001b[0m         result \u001b[39m=\u001b[39m \u001b[39mself\u001b[39m\u001b[39m.\u001b[39m_agg_py_fallback(values, ndim\u001b[39m=\u001b[39mdata\u001b[39m.\u001b[39mndim, alt\u001b[39m=\u001b[39malt)\n\u001b[1;32m   1505\u001b[0m     \u001b[39mreturn\u001b[39;00m result\n\u001b[0;32m-> 1507\u001b[0m new_mgr \u001b[39m=\u001b[39m data\u001b[39m.\u001b[39;49mgrouped_reduce(array_func)\n\u001b[1;32m   1508\u001b[0m res \u001b[39m=\u001b[39m \u001b[39mself\u001b[39m\u001b[39m.\u001b[39m_wrap_agged_manager(new_mgr)\n\u001b[1;32m   1509\u001b[0m out \u001b[39m=\u001b[39m \u001b[39mself\u001b[39m\u001b[39m.\u001b[39m_wrap_aggregated_output(res)\n",
      "File \u001b[0;32m/Library/Frameworks/Python.framework/Versions/3.11/lib/python3.11/site-packages/pandas/core/internals/managers.py:1503\u001b[0m, in \u001b[0;36mBlockManager.grouped_reduce\u001b[0;34m(self, func)\u001b[0m\n\u001b[1;32m   1499\u001b[0m \u001b[39mif\u001b[39;00m blk\u001b[39m.\u001b[39mis_object:\n\u001b[1;32m   1500\u001b[0m     \u001b[39m# split on object-dtype blocks bc some columns may raise\u001b[39;00m\n\u001b[1;32m   1501\u001b[0m     \u001b[39m#  while others do not.\u001b[39;00m\n\u001b[1;32m   1502\u001b[0m     \u001b[39mfor\u001b[39;00m sb \u001b[39min\u001b[39;00m blk\u001b[39m.\u001b[39m_split():\n\u001b[0;32m-> 1503\u001b[0m         applied \u001b[39m=\u001b[39m sb\u001b[39m.\u001b[39;49mapply(func)\n\u001b[1;32m   1504\u001b[0m         result_blocks \u001b[39m=\u001b[39m extend_blocks(applied, result_blocks)\n\u001b[1;32m   1505\u001b[0m \u001b[39melse\u001b[39;00m:\n",
      "File \u001b[0;32m/Library/Frameworks/Python.framework/Versions/3.11/lib/python3.11/site-packages/pandas/core/internals/blocks.py:329\u001b[0m, in \u001b[0;36mBlock.apply\u001b[0;34m(self, func, **kwargs)\u001b[0m\n\u001b[1;32m    323\u001b[0m \u001b[39m@final\u001b[39m\n\u001b[1;32m    324\u001b[0m \u001b[39mdef\u001b[39;00m \u001b[39mapply\u001b[39m(\u001b[39mself\u001b[39m, func, \u001b[39m*\u001b[39m\u001b[39m*\u001b[39mkwargs) \u001b[39m-\u001b[39m\u001b[39m>\u001b[39m \u001b[39mlist\u001b[39m[Block]:\n\u001b[1;32m    325\u001b[0m \u001b[39m    \u001b[39m\u001b[39m\"\"\"\u001b[39;00m\n\u001b[1;32m    326\u001b[0m \u001b[39m    apply the function to my values; return a block if we are not\u001b[39;00m\n\u001b[1;32m    327\u001b[0m \u001b[39m    one\u001b[39;00m\n\u001b[1;32m    328\u001b[0m \u001b[39m    \"\"\"\u001b[39;00m\n\u001b[0;32m--> 329\u001b[0m     result \u001b[39m=\u001b[39m func(\u001b[39mself\u001b[39;49m\u001b[39m.\u001b[39;49mvalues, \u001b[39m*\u001b[39;49m\u001b[39m*\u001b[39;49mkwargs)\n\u001b[1;32m    331\u001b[0m     \u001b[39mreturn\u001b[39;00m \u001b[39mself\u001b[39m\u001b[39m.\u001b[39m_split_op_result(result)\n",
      "File \u001b[0;32m/Library/Frameworks/Python.framework/Versions/3.11/lib/python3.11/site-packages/pandas/core/groupby/groupby.py:1503\u001b[0m, in \u001b[0;36mGroupBy._cython_agg_general.<locals>.array_func\u001b[0;34m(values)\u001b[0m\n\u001b[1;32m   1490\u001b[0m     result \u001b[39m=\u001b[39m \u001b[39mself\u001b[39m\u001b[39m.\u001b[39mgrouper\u001b[39m.\u001b[39m_cython_operation(\n\u001b[1;32m   1491\u001b[0m         \u001b[39m\"\u001b[39m\u001b[39maggregate\u001b[39m\u001b[39m\"\u001b[39m,\n\u001b[1;32m   1492\u001b[0m         values,\n\u001b[0;32m   (...)\u001b[0m\n\u001b[1;32m   1496\u001b[0m         \u001b[39m*\u001b[39m\u001b[39m*\u001b[39mkwargs,\n\u001b[1;32m   1497\u001b[0m     )\n\u001b[1;32m   1498\u001b[0m \u001b[39mexcept\u001b[39;00m \u001b[39mNotImplementedError\u001b[39;00m:\n\u001b[1;32m   1499\u001b[0m     \u001b[39m# generally if we have numeric_only=False\u001b[39;00m\n\u001b[1;32m   1500\u001b[0m     \u001b[39m# and non-applicable functions\u001b[39;00m\n\u001b[1;32m   1501\u001b[0m     \u001b[39m# try to python agg\u001b[39;00m\n\u001b[1;32m   1502\u001b[0m     \u001b[39m# TODO: shouldn't min_count matter?\u001b[39;00m\n\u001b[0;32m-> 1503\u001b[0m     result \u001b[39m=\u001b[39m \u001b[39mself\u001b[39;49m\u001b[39m.\u001b[39;49m_agg_py_fallback(values, ndim\u001b[39m=\u001b[39;49mdata\u001b[39m.\u001b[39;49mndim, alt\u001b[39m=\u001b[39;49malt)\n\u001b[1;32m   1505\u001b[0m \u001b[39mreturn\u001b[39;00m result\n",
      "File \u001b[0;32m/Library/Frameworks/Python.framework/Versions/3.11/lib/python3.11/site-packages/pandas/core/groupby/groupby.py:1457\u001b[0m, in \u001b[0;36mGroupBy._agg_py_fallback\u001b[0;34m(self, values, ndim, alt)\u001b[0m\n\u001b[1;32m   1452\u001b[0m     ser \u001b[39m=\u001b[39m df\u001b[39m.\u001b[39miloc[:, \u001b[39m0\u001b[39m]\n\u001b[1;32m   1454\u001b[0m \u001b[39m# We do not get here with UDFs, so we know that our dtype\u001b[39;00m\n\u001b[1;32m   1455\u001b[0m \u001b[39m#  should always be preserved by the implemented aggregations\u001b[39;00m\n\u001b[1;32m   1456\u001b[0m \u001b[39m# TODO: Is this exactly right; see WrappedCythonOp get_result_dtype?\u001b[39;00m\n\u001b[0;32m-> 1457\u001b[0m res_values \u001b[39m=\u001b[39m \u001b[39mself\u001b[39;49m\u001b[39m.\u001b[39;49mgrouper\u001b[39m.\u001b[39;49magg_series(ser, alt, preserve_dtype\u001b[39m=\u001b[39;49m\u001b[39mTrue\u001b[39;49;00m)\n\u001b[1;32m   1459\u001b[0m \u001b[39mif\u001b[39;00m \u001b[39misinstance\u001b[39m(values, Categorical):\n\u001b[1;32m   1460\u001b[0m     \u001b[39m# Because we only get here with known dtype-preserving\u001b[39;00m\n\u001b[1;32m   1461\u001b[0m     \u001b[39m#  reductions, we cast back to Categorical.\u001b[39;00m\n\u001b[1;32m   1462\u001b[0m     \u001b[39m# TODO: if we ever get \"rank\" working, exclude it here.\u001b[39;00m\n\u001b[1;32m   1463\u001b[0m     res_values \u001b[39m=\u001b[39m \u001b[39mtype\u001b[39m(values)\u001b[39m.\u001b[39m_from_sequence(res_values, dtype\u001b[39m=\u001b[39mvalues\u001b[39m.\u001b[39mdtype)\n",
      "File \u001b[0;32m/Library/Frameworks/Python.framework/Versions/3.11/lib/python3.11/site-packages/pandas/core/groupby/ops.py:994\u001b[0m, in \u001b[0;36mBaseGrouper.agg_series\u001b[0;34m(self, obj, func, preserve_dtype)\u001b[0m\n\u001b[1;32m    987\u001b[0m \u001b[39mif\u001b[39;00m \u001b[39mlen\u001b[39m(obj) \u001b[39m>\u001b[39m \u001b[39m0\u001b[39m \u001b[39mand\u001b[39;00m \u001b[39mnot\u001b[39;00m \u001b[39misinstance\u001b[39m(obj\u001b[39m.\u001b[39m_values, np\u001b[39m.\u001b[39mndarray):\n\u001b[1;32m    988\u001b[0m     \u001b[39m# we can preserve a little bit more aggressively with EA dtype\u001b[39;00m\n\u001b[1;32m    989\u001b[0m     \u001b[39m#  because maybe_cast_pointwise_result will do a try/except\u001b[39;00m\n\u001b[1;32m    990\u001b[0m     \u001b[39m#  with _from_sequence.  NB we are assuming here that _from_sequence\u001b[39;00m\n\u001b[1;32m    991\u001b[0m     \u001b[39m#  is sufficiently strict that it casts appropriately.\u001b[39;00m\n\u001b[1;32m    992\u001b[0m     preserve_dtype \u001b[39m=\u001b[39m \u001b[39mTrue\u001b[39;00m\n\u001b[0;32m--> 994\u001b[0m result \u001b[39m=\u001b[39m \u001b[39mself\u001b[39;49m\u001b[39m.\u001b[39;49m_aggregate_series_pure_python(obj, func)\n\u001b[1;32m    996\u001b[0m npvalues \u001b[39m=\u001b[39m lib\u001b[39m.\u001b[39mmaybe_convert_objects(result, try_float\u001b[39m=\u001b[39m\u001b[39mFalse\u001b[39;00m)\n\u001b[1;32m    997\u001b[0m \u001b[39mif\u001b[39;00m preserve_dtype:\n",
      "File \u001b[0;32m/Library/Frameworks/Python.framework/Versions/3.11/lib/python3.11/site-packages/pandas/core/groupby/ops.py:1015\u001b[0m, in \u001b[0;36mBaseGrouper._aggregate_series_pure_python\u001b[0;34m(self, obj, func)\u001b[0m\n\u001b[1;32m   1012\u001b[0m splitter \u001b[39m=\u001b[39m \u001b[39mself\u001b[39m\u001b[39m.\u001b[39m_get_splitter(obj, axis\u001b[39m=\u001b[39m\u001b[39m0\u001b[39m)\n\u001b[1;32m   1014\u001b[0m \u001b[39mfor\u001b[39;00m i, group \u001b[39min\u001b[39;00m \u001b[39menumerate\u001b[39m(splitter):\n\u001b[0;32m-> 1015\u001b[0m     res \u001b[39m=\u001b[39m func(group)\n\u001b[1;32m   1016\u001b[0m     res \u001b[39m=\u001b[39m libreduction\u001b[39m.\u001b[39mextract_result(res)\n\u001b[1;32m   1018\u001b[0m     \u001b[39mif\u001b[39;00m \u001b[39mnot\u001b[39;00m initialized:\n\u001b[1;32m   1019\u001b[0m         \u001b[39m# We only do this validation on the first iteration\u001b[39;00m\n",
      "File \u001b[0;32m/Library/Frameworks/Python.framework/Versions/3.11/lib/python3.11/site-packages/pandas/core/groupby/groupby.py:1857\u001b[0m, in \u001b[0;36mGroupBy.mean.<locals>.<lambda>\u001b[0;34m(x)\u001b[0m\n\u001b[1;32m   1853\u001b[0m     \u001b[39mreturn\u001b[39;00m \u001b[39mself\u001b[39m\u001b[39m.\u001b[39m_numba_agg_general(sliding_mean, engine_kwargs)\n\u001b[1;32m   1854\u001b[0m \u001b[39melse\u001b[39;00m:\n\u001b[1;32m   1855\u001b[0m     result \u001b[39m=\u001b[39m \u001b[39mself\u001b[39m\u001b[39m.\u001b[39m_cython_agg_general(\n\u001b[1;32m   1856\u001b[0m         \u001b[39m\"\u001b[39m\u001b[39mmean\u001b[39m\u001b[39m\"\u001b[39m,\n\u001b[0;32m-> 1857\u001b[0m         alt\u001b[39m=\u001b[39m\u001b[39mlambda\u001b[39;00m x: Series(x)\u001b[39m.\u001b[39;49mmean(numeric_only\u001b[39m=\u001b[39;49mnumeric_only),\n\u001b[1;32m   1858\u001b[0m         numeric_only\u001b[39m=\u001b[39mnumeric_only,\n\u001b[1;32m   1859\u001b[0m     )\n\u001b[1;32m   1860\u001b[0m     \u001b[39mreturn\u001b[39;00m result\u001b[39m.\u001b[39m__finalize__(\u001b[39mself\u001b[39m\u001b[39m.\u001b[39mobj, method\u001b[39m=\u001b[39m\u001b[39m\"\u001b[39m\u001b[39mgroupby\u001b[39m\u001b[39m\"\u001b[39m)\n",
      "File \u001b[0;32m/Library/Frameworks/Python.framework/Versions/3.11/lib/python3.11/site-packages/pandas/core/generic.py:11556\u001b[0m, in \u001b[0;36mNDFrame._add_numeric_operations.<locals>.mean\u001b[0;34m(self, axis, skipna, numeric_only, **kwargs)\u001b[0m\n\u001b[1;32m  11539\u001b[0m \u001b[39m@doc\u001b[39m(\n\u001b[1;32m  11540\u001b[0m     _num_doc,\n\u001b[1;32m  11541\u001b[0m     desc\u001b[39m=\u001b[39m\u001b[39m\"\u001b[39m\u001b[39mReturn the mean of the values over the requested axis.\u001b[39m\u001b[39m\"\u001b[39m,\n\u001b[0;32m   (...)\u001b[0m\n\u001b[1;32m  11554\u001b[0m     \u001b[39m*\u001b[39m\u001b[39m*\u001b[39mkwargs,\n\u001b[1;32m  11555\u001b[0m ):\n\u001b[0;32m> 11556\u001b[0m     \u001b[39mreturn\u001b[39;00m NDFrame\u001b[39m.\u001b[39;49mmean(\u001b[39mself\u001b[39;49m, axis, skipna, numeric_only, \u001b[39m*\u001b[39;49m\u001b[39m*\u001b[39;49mkwargs)\n",
      "File \u001b[0;32m/Library/Frameworks/Python.framework/Versions/3.11/lib/python3.11/site-packages/pandas/core/generic.py:11201\u001b[0m, in \u001b[0;36mNDFrame.mean\u001b[0;34m(self, axis, skipna, numeric_only, **kwargs)\u001b[0m\n\u001b[1;32m  11194\u001b[0m \u001b[39mdef\u001b[39;00m \u001b[39mmean\u001b[39m(\n\u001b[1;32m  11195\u001b[0m     \u001b[39mself\u001b[39m,\n\u001b[1;32m  11196\u001b[0m     axis: Axis \u001b[39m|\u001b[39m \u001b[39mNone\u001b[39;00m \u001b[39m=\u001b[39m \u001b[39m0\u001b[39m,\n\u001b[0;32m   (...)\u001b[0m\n\u001b[1;32m  11199\u001b[0m     \u001b[39m*\u001b[39m\u001b[39m*\u001b[39mkwargs,\n\u001b[1;32m  11200\u001b[0m ) \u001b[39m-\u001b[39m\u001b[39m>\u001b[39m Series \u001b[39m|\u001b[39m \u001b[39mfloat\u001b[39m:\n\u001b[0;32m> 11201\u001b[0m     \u001b[39mreturn\u001b[39;00m \u001b[39mself\u001b[39;49m\u001b[39m.\u001b[39;49m_stat_function(\n\u001b[1;32m  11202\u001b[0m         \u001b[39m\"\u001b[39;49m\u001b[39mmean\u001b[39;49m\u001b[39m\"\u001b[39;49m, nanops\u001b[39m.\u001b[39;49mnanmean, axis, skipna, numeric_only, \u001b[39m*\u001b[39;49m\u001b[39m*\u001b[39;49mkwargs\n\u001b[1;32m  11203\u001b[0m     )\n",
      "File \u001b[0;32m/Library/Frameworks/Python.framework/Versions/3.11/lib/python3.11/site-packages/pandas/core/generic.py:11158\u001b[0m, in \u001b[0;36mNDFrame._stat_function\u001b[0;34m(self, name, func, axis, skipna, numeric_only, **kwargs)\u001b[0m\n\u001b[1;32m  11154\u001b[0m     nv\u001b[39m.\u001b[39mvalidate_stat_func((), kwargs, fname\u001b[39m=\u001b[39mname)\n\u001b[1;32m  11156\u001b[0m validate_bool_kwarg(skipna, \u001b[39m\"\u001b[39m\u001b[39mskipna\u001b[39m\u001b[39m\"\u001b[39m, none_allowed\u001b[39m=\u001b[39m\u001b[39mFalse\u001b[39;00m)\n\u001b[0;32m> 11158\u001b[0m \u001b[39mreturn\u001b[39;00m \u001b[39mself\u001b[39;49m\u001b[39m.\u001b[39;49m_reduce(\n\u001b[1;32m  11159\u001b[0m     func, name\u001b[39m=\u001b[39;49mname, axis\u001b[39m=\u001b[39;49maxis, skipna\u001b[39m=\u001b[39;49mskipna, numeric_only\u001b[39m=\u001b[39;49mnumeric_only\n\u001b[1;32m  11160\u001b[0m )\n",
      "File \u001b[0;32m/Library/Frameworks/Python.framework/Versions/3.11/lib/python3.11/site-packages/pandas/core/series.py:4666\u001b[0m, in \u001b[0;36mSeries._reduce\u001b[0;34m(self, op, name, axis, skipna, numeric_only, filter_type, **kwds)\u001b[0m\n\u001b[1;32m   4661\u001b[0m     \u001b[39mraise\u001b[39;00m \u001b[39mTypeError\u001b[39;00m(\n\u001b[1;32m   4662\u001b[0m         \u001b[39mf\u001b[39m\u001b[39m\"\u001b[39m\u001b[39mSeries.\u001b[39m\u001b[39m{\u001b[39;00mname\u001b[39m}\u001b[39;00m\u001b[39m does not allow \u001b[39m\u001b[39m{\u001b[39;00mkwd_name\u001b[39m}\u001b[39;00m\u001b[39m=\u001b[39m\u001b[39m{\u001b[39;00mnumeric_only\u001b[39m}\u001b[39;00m\u001b[39m \u001b[39m\u001b[39m\"\u001b[39m\n\u001b[1;32m   4663\u001b[0m         \u001b[39m\"\u001b[39m\u001b[39mwith non-numeric dtypes.\u001b[39m\u001b[39m\"\u001b[39m\n\u001b[1;32m   4664\u001b[0m     )\n\u001b[1;32m   4665\u001b[0m \u001b[39mwith\u001b[39;00m np\u001b[39m.\u001b[39merrstate(\u001b[39mall\u001b[39m\u001b[39m=\u001b[39m\u001b[39m\"\u001b[39m\u001b[39mignore\u001b[39m\u001b[39m\"\u001b[39m):\n\u001b[0;32m-> 4666\u001b[0m     \u001b[39mreturn\u001b[39;00m op(delegate, skipna\u001b[39m=\u001b[39;49mskipna, \u001b[39m*\u001b[39;49m\u001b[39m*\u001b[39;49mkwds)\n",
      "File \u001b[0;32m/Library/Frameworks/Python.framework/Versions/3.11/lib/python3.11/site-packages/pandas/core/nanops.py:96\u001b[0m, in \u001b[0;36mdisallow.__call__.<locals>._f\u001b[0;34m(*args, **kwargs)\u001b[0m\n\u001b[1;32m     94\u001b[0m \u001b[39mtry\u001b[39;00m:\n\u001b[1;32m     95\u001b[0m     \u001b[39mwith\u001b[39;00m np\u001b[39m.\u001b[39merrstate(invalid\u001b[39m=\u001b[39m\u001b[39m\"\u001b[39m\u001b[39mignore\u001b[39m\u001b[39m\"\u001b[39m):\n\u001b[0;32m---> 96\u001b[0m         \u001b[39mreturn\u001b[39;00m f(\u001b[39m*\u001b[39;49margs, \u001b[39m*\u001b[39;49m\u001b[39m*\u001b[39;49mkwargs)\n\u001b[1;32m     97\u001b[0m \u001b[39mexcept\u001b[39;00m \u001b[39mValueError\u001b[39;00m \u001b[39mas\u001b[39;00m e:\n\u001b[1;32m     98\u001b[0m     \u001b[39m# we want to transform an object array\u001b[39;00m\n\u001b[1;32m     99\u001b[0m     \u001b[39m# ValueError message to the more typical TypeError\u001b[39;00m\n\u001b[1;32m    100\u001b[0m     \u001b[39m# e.g. this is normally a disallowed function on\u001b[39;00m\n\u001b[1;32m    101\u001b[0m     \u001b[39m# object arrays that contain strings\u001b[39;00m\n\u001b[1;32m    102\u001b[0m     \u001b[39mif\u001b[39;00m is_object_dtype(args[\u001b[39m0\u001b[39m]):\n",
      "File \u001b[0;32m/Library/Frameworks/Python.framework/Versions/3.11/lib/python3.11/site-packages/pandas/core/nanops.py:158\u001b[0m, in \u001b[0;36mbottleneck_switch.__call__.<locals>.f\u001b[0;34m(values, axis, skipna, **kwds)\u001b[0m\n\u001b[1;32m    156\u001b[0m         result \u001b[39m=\u001b[39m alt(values, axis\u001b[39m=\u001b[39maxis, skipna\u001b[39m=\u001b[39mskipna, \u001b[39m*\u001b[39m\u001b[39m*\u001b[39mkwds)\n\u001b[1;32m    157\u001b[0m \u001b[39melse\u001b[39;00m:\n\u001b[0;32m--> 158\u001b[0m     result \u001b[39m=\u001b[39m alt(values, axis\u001b[39m=\u001b[39;49maxis, skipna\u001b[39m=\u001b[39;49mskipna, \u001b[39m*\u001b[39;49m\u001b[39m*\u001b[39;49mkwds)\n\u001b[1;32m    160\u001b[0m \u001b[39mreturn\u001b[39;00m result\n",
      "File \u001b[0;32m/Library/Frameworks/Python.framework/Versions/3.11/lib/python3.11/site-packages/pandas/core/nanops.py:421\u001b[0m, in \u001b[0;36m_datetimelike_compat.<locals>.new_func\u001b[0;34m(values, axis, skipna, mask, **kwargs)\u001b[0m\n\u001b[1;32m    418\u001b[0m \u001b[39mif\u001b[39;00m datetimelike \u001b[39mand\u001b[39;00m mask \u001b[39mis\u001b[39;00m \u001b[39mNone\u001b[39;00m:\n\u001b[1;32m    419\u001b[0m     mask \u001b[39m=\u001b[39m isna(values)\n\u001b[0;32m--> 421\u001b[0m result \u001b[39m=\u001b[39m func(values, axis\u001b[39m=\u001b[39;49maxis, skipna\u001b[39m=\u001b[39;49mskipna, mask\u001b[39m=\u001b[39;49mmask, \u001b[39m*\u001b[39;49m\u001b[39m*\u001b[39;49mkwargs)\n\u001b[1;32m    423\u001b[0m \u001b[39mif\u001b[39;00m datetimelike:\n\u001b[1;32m    424\u001b[0m     result \u001b[39m=\u001b[39m _wrap_results(result, orig_values\u001b[39m.\u001b[39mdtype, fill_value\u001b[39m=\u001b[39miNaT)\n",
      "File \u001b[0;32m/Library/Frameworks/Python.framework/Versions/3.11/lib/python3.11/site-packages/pandas/core/nanops.py:727\u001b[0m, in \u001b[0;36mnanmean\u001b[0;34m(values, axis, skipna, mask)\u001b[0m\n\u001b[1;32m    724\u001b[0m     dtype_count \u001b[39m=\u001b[39m dtype\n\u001b[1;32m    726\u001b[0m count \u001b[39m=\u001b[39m _get_counts(values\u001b[39m.\u001b[39mshape, mask, axis, dtype\u001b[39m=\u001b[39mdtype_count)\n\u001b[0;32m--> 727\u001b[0m the_sum \u001b[39m=\u001b[39m _ensure_numeric(values\u001b[39m.\u001b[39;49msum(axis, dtype\u001b[39m=\u001b[39;49mdtype_sum))\n\u001b[1;32m    729\u001b[0m \u001b[39mif\u001b[39;00m axis \u001b[39mis\u001b[39;00m \u001b[39mnot\u001b[39;00m \u001b[39mNone\u001b[39;00m \u001b[39mand\u001b[39;00m \u001b[39mgetattr\u001b[39m(the_sum, \u001b[39m\"\u001b[39m\u001b[39mndim\u001b[39m\u001b[39m\"\u001b[39m, \u001b[39mFalse\u001b[39;00m):\n\u001b[1;32m    730\u001b[0m     count \u001b[39m=\u001b[39m cast(np\u001b[39m.\u001b[39mndarray, count)\n",
      "File \u001b[0;32m/Library/Frameworks/Python.framework/Versions/3.11/lib/python3.11/site-packages/pandas/core/nanops.py:1699\u001b[0m, in \u001b[0;36m_ensure_numeric\u001b[0;34m(x)\u001b[0m\n\u001b[1;32m   1696\u001b[0m             x \u001b[39m=\u001b[39m \u001b[39mcomplex\u001b[39m(x)\n\u001b[1;32m   1697\u001b[0m         \u001b[39mexcept\u001b[39;00m \u001b[39mValueError\u001b[39;00m \u001b[39mas\u001b[39;00m err:\n\u001b[1;32m   1698\u001b[0m             \u001b[39m# e.g. \"foo\"\u001b[39;00m\n\u001b[0;32m-> 1699\u001b[0m             \u001b[39mraise\u001b[39;00m \u001b[39mTypeError\u001b[39;00m(\u001b[39mf\u001b[39m\u001b[39m\"\u001b[39m\u001b[39mCould not convert \u001b[39m\u001b[39m{\u001b[39;00mx\u001b[39m}\u001b[39;00m\u001b[39m to numeric\u001b[39m\u001b[39m\"\u001b[39m) \u001b[39mfrom\u001b[39;00m \u001b[39merr\u001b[39;00m\n\u001b[1;32m   1700\u001b[0m \u001b[39mreturn\u001b[39;00m x\n",
      "\u001b[0;31mTypeError\u001b[0m: Could not convert JanuaryFebruaryMarchAprilMayJuneJulyAugustSeptemberOctoberNovemberDecemberJanuaryFebruaryMarchAprilMayJuneJulyAugustSeptemberOctoberNovemberDecemberJanuaryFebruaryMarchAprilMayJuneJulyAugustSeptemberOctoberNovemberDecemberJanuaryFebruaryMarchAprilMayJuneJulyAugustSeptemberOctoberNovemberDecemberJanuaryFebruaryMarchAprilMayJuneJulyAugustSeptemberOctoberNovemberDecemberJanuaryFebruaryMarchAprilMayJuneJulyAugustSeptemberOctoberNovemberDecemberJanuaryFebruaryMarchAprilMayJuneJulyAugustSeptemberOctoberNovemberDecemberJanuaryFebruaryMarchAprilMayJuneJulyAugustSeptemberOctoberNovemberDecemberJanuaryFebruaryMarchAprilMayJuneJulyAugustSeptemberOctoberNovemberDecemberJanuaryFebruaryMarchAprilMayJuneJulyAugustSeptemberOctoberNovemberDecemberJanuaryFebruaryMarchAprilMayJuneJulyAugustSeptemberOctoberNovemberDecemberJanuaryFebruaryMarchAprilMayJuneJulyAugustSeptemberOctoberNovemberDecemberJanuaryFebruaryMarchAprilMayJuneJulyAugustSeptemberOctoberNovemberDecemberJanuaryFebruaryMarchAprilMayJuneJulyAugustSeptemberOctoberNovemberDecemberJanuaryFebruaryMarchAprilMayJuneJulyAugustSeptemberOctoberNovemberDecemberJanuaryFebruaryMarchAprilMayJuneJulyAugustSeptemberOctoberNovemberDecemberJanuaryFebruaryMarchAprilMayJuneJulyAugustSeptemberOctoberNovemberDecember to numeric"
     ]
    }
   ],
   "source": [
    "\n",
    "adelphi = adelphi_df\n",
    "adelphi['AVG_Dry_Spell']=  adelphi['AVG_Dry_Spell'].mean()\n",
    "adelphi['AVG_Frost_Days'] = adelphi['AVG_Frost_Days'].mean()\n",
    "adelphi['AVG_Precip_Percentile'] = adelphi['AVG_Precip_Percentile'].mean()\n",
    "adelphi['AVG_Max_High_Temp'] = adelphi['AVG_Max_High_Temp'].mean()\n",
    "adelphi['AVG_Min_Low_Temp'] = adelphi['AVG_Min_Low_Temp'].mean()\n",
    "adelphi = adelphi.groupby('City').mean()\n",
    "adelphi = adelphi.T\n",
    "adelphi = adelphi.reset_index()\n",
    "adelphi = adelphi.rename(columns={'index': 'Indicator'})\n",
    "adelphi = adelphi.drop(0)\n",
    "adelphi"
   ]
  },
  {
   "cell_type": "code",
   "execution_count": null,
   "id": "570594aa-890d-44d9-9b31-a0b007e5ca63",
   "metadata": {
    "collapsed": true,
    "jupyter": {
     "outputs_hidden": true
    },
    "tags": []
   },
   "outputs": [
    {
     "name": "stderr",
     "output_type": "stream",
     "text": [
      "/var/folders/t3/bbl6z5pd2cvfxdw4rs22y9wm0000gn/T/ipykernel_1120/2400978807.py:2: SettingWithCopyWarning: \n",
      "A value is trying to be set on a copy of a slice from a DataFrame.\n",
      "Try using .loc[row_indexer,col_indexer] = value instead\n",
      "\n",
      "See the caveats in the documentation: https://pandas.pydata.org/pandas-docs/stable/user_guide/indexing.html#returning-a-view-versus-a-copy\n",
      "  albany['AVG_Dry_Spell'] = albany['AVG_Dry_Spell'].mean()\n",
      "/var/folders/t3/bbl6z5pd2cvfxdw4rs22y9wm0000gn/T/ipykernel_1120/2400978807.py:3: SettingWithCopyWarning: \n",
      "A value is trying to be set on a copy of a slice from a DataFrame.\n",
      "Try using .loc[row_indexer,col_indexer] = value instead\n",
      "\n",
      "See the caveats in the documentation: https://pandas.pydata.org/pandas-docs/stable/user_guide/indexing.html#returning-a-view-versus-a-copy\n",
      "  albany['AVG_Frost_Days'] = albany['AVG_Frost_Days'].mean()\n",
      "/var/folders/t3/bbl6z5pd2cvfxdw4rs22y9wm0000gn/T/ipykernel_1120/2400978807.py:4: SettingWithCopyWarning: \n",
      "A value is trying to be set on a copy of a slice from a DataFrame.\n",
      "Try using .loc[row_indexer,col_indexer] = value instead\n",
      "\n",
      "See the caveats in the documentation: https://pandas.pydata.org/pandas-docs/stable/user_guide/indexing.html#returning-a-view-versus-a-copy\n",
      "  albany['AVG_Precip_Percentile'] = albany['AVG_Precip_Percentile'].mean()\n",
      "/var/folders/t3/bbl6z5pd2cvfxdw4rs22y9wm0000gn/T/ipykernel_1120/2400978807.py:5: SettingWithCopyWarning: \n",
      "A value is trying to be set on a copy of a slice from a DataFrame.\n",
      "Try using .loc[row_indexer,col_indexer] = value instead\n",
      "\n",
      "See the caveats in the documentation: https://pandas.pydata.org/pandas-docs/stable/user_guide/indexing.html#returning-a-view-versus-a-copy\n",
      "  albany['AVG_Max_High_Temp'] = albany['AVG_Max_High_Temp'].mean()\n",
      "/var/folders/t3/bbl6z5pd2cvfxdw4rs22y9wm0000gn/T/ipykernel_1120/2400978807.py:6: SettingWithCopyWarning: \n",
      "A value is trying to be set on a copy of a slice from a DataFrame.\n",
      "Try using .loc[row_indexer,col_indexer] = value instead\n",
      "\n",
      "See the caveats in the documentation: https://pandas.pydata.org/pandas-docs/stable/user_guide/indexing.html#returning-a-view-versus-a-copy\n",
      "  albany['AVG_Min_Low_Temp'] = albany['AVG_Min_Low_Temp'].mean()\n"
     ]
    },
    {
     "data": {
      "text/html": [
       "<div>\n",
       "<style scoped>\n",
       "    .dataframe tbody tr th:only-of-type {\n",
       "        vertical-align: middle;\n",
       "    }\n",
       "\n",
       "    .dataframe tbody tr th {\n",
       "        vertical-align: top;\n",
       "    }\n",
       "\n",
       "    .dataframe thead th {\n",
       "        text-align: right;\n",
       "    }\n",
       "</style>\n",
       "<table border=\"1\" class=\"dataframe\">\n",
       "  <thead>\n",
       "    <tr style=\"text-align: right;\">\n",
       "      <th>City</th>\n",
       "      <th>Indicator</th>\n",
       "      <th>Albany</th>\n",
       "    </tr>\n",
       "  </thead>\n",
       "  <tbody>\n",
       "    <tr>\n",
       "      <th>1</th>\n",
       "      <td>AVG_Dry_Spell</td>\n",
       "      <td>1.128852</td>\n",
       "    </tr>\n",
       "    <tr>\n",
       "      <th>2</th>\n",
       "      <td>AVG_Frost_Days</td>\n",
       "      <td>0.059057</td>\n",
       "    </tr>\n",
       "    <tr>\n",
       "      <th>3</th>\n",
       "      <td>AVG_Precip_Percentile</td>\n",
       "      <td>0.012934</td>\n",
       "    </tr>\n",
       "    <tr>\n",
       "      <th>4</th>\n",
       "      <td>AVG_Max_High_Temp</td>\n",
       "      <td>75.931415</td>\n",
       "    </tr>\n",
       "    <tr>\n",
       "      <th>5</th>\n",
       "      <td>AVG_Min_Low_Temp</td>\n",
       "      <td>44.827531</td>\n",
       "    </tr>\n",
       "  </tbody>\n",
       "</table>\n",
       "</div>"
      ],
      "text/plain": [
       "City              Indicator     Albany\n",
       "1             AVG_Dry_Spell   1.128852\n",
       "2            AVG_Frost_Days   0.059057\n",
       "3     AVG_Precip_Percentile   0.012934\n",
       "4         AVG_Max_High_Temp  75.931415\n",
       "5          AVG_Min_Low_Temp  44.827531"
      ]
     },
     "execution_count": 28,
     "metadata": {},
     "output_type": "execute_result"
    }
   ],
   "source": [
    "albany = albany_df\n",
    "albany['AVG_Dry_Spell'] = albany['AVG_Dry_Spell'].mean()\n",
    "albany['AVG_Frost_Days'] = albany['AVG_Frost_Days'].mean()\n",
    "albany['AVG_Precip_Percentile'] = albany['AVG_Precip_Percentile'].mean()\n",
    "albany['AVG_Max_High_Temp'] = albany['AVG_Max_High_Temp'].mean()\n",
    "albany['AVG_Min_Low_Temp'] = albany['AVG_Min_Low_Temp'].mean()\n",
    "albany = albany.groupby('City').mean()\n",
    "albany = albany.T\n",
    "albany = albany.reset_index()\n",
    "albany = albany.rename(columns={'index': 'Indicator'})\n",
    "albany = albany.drop(0)\n",
    "albany"
   ]
  },
  {
   "cell_type": "code",
   "execution_count": null,
   "id": "925a256f-9f56-4ed6-b0d4-ab03ed47f04f",
   "metadata": {
    "collapsed": true,
    "jupyter": {
     "outputs_hidden": true
    },
    "tags": []
   },
   "outputs": [
    {
     "name": "stderr",
     "output_type": "stream",
     "text": [
      "/var/folders/t3/bbl6z5pd2cvfxdw4rs22y9wm0000gn/T/ipykernel_1120/30843777.py:2: SettingWithCopyWarning: \n",
      "A value is trying to be set on a copy of a slice from a DataFrame.\n",
      "Try using .loc[row_indexer,col_indexer] = value instead\n",
      "\n",
      "See the caveats in the documentation: https://pandas.pydata.org/pandas-docs/stable/user_guide/indexing.html#returning-a-view-versus-a-copy\n",
      "  alachua['AVG_Dry_Spell'] = alachua['AVG_Dry_Spell'].mean()\n",
      "/var/folders/t3/bbl6z5pd2cvfxdw4rs22y9wm0000gn/T/ipykernel_1120/30843777.py:3: SettingWithCopyWarning: \n",
      "A value is trying to be set on a copy of a slice from a DataFrame.\n",
      "Try using .loc[row_indexer,col_indexer] = value instead\n",
      "\n",
      "See the caveats in the documentation: https://pandas.pydata.org/pandas-docs/stable/user_guide/indexing.html#returning-a-view-versus-a-copy\n",
      "  alachua['AVG_Frost_Days'] = alachua['AVG_Frost_Days'].mean()\n",
      "/var/folders/t3/bbl6z5pd2cvfxdw4rs22y9wm0000gn/T/ipykernel_1120/30843777.py:4: SettingWithCopyWarning: \n",
      "A value is trying to be set on a copy of a slice from a DataFrame.\n",
      "Try using .loc[row_indexer,col_indexer] = value instead\n",
      "\n",
      "See the caveats in the documentation: https://pandas.pydata.org/pandas-docs/stable/user_guide/indexing.html#returning-a-view-versus-a-copy\n",
      "  alachua['AVG_Precip_Percentile'] = alachua['AVG_Precip_Percentile'].mean()\n",
      "/var/folders/t3/bbl6z5pd2cvfxdw4rs22y9wm0000gn/T/ipykernel_1120/30843777.py:5: SettingWithCopyWarning: \n",
      "A value is trying to be set on a copy of a slice from a DataFrame.\n",
      "Try using .loc[row_indexer,col_indexer] = value instead\n",
      "\n",
      "See the caveats in the documentation: https://pandas.pydata.org/pandas-docs/stable/user_guide/indexing.html#returning-a-view-versus-a-copy\n",
      "  alachua['AVG_Max_High_Temp'] = alachua['AVG_Max_High_Temp'].mean()\n",
      "/var/folders/t3/bbl6z5pd2cvfxdw4rs22y9wm0000gn/T/ipykernel_1120/30843777.py:6: SettingWithCopyWarning: \n",
      "A value is trying to be set on a copy of a slice from a DataFrame.\n",
      "Try using .loc[row_indexer,col_indexer] = value instead\n",
      "\n",
      "See the caveats in the documentation: https://pandas.pydata.org/pandas-docs/stable/user_guide/indexing.html#returning-a-view-versus-a-copy\n",
      "  alachua['AVG_Min_Low_Temp'] = alachua['AVG_Min_Low_Temp'].mean()\n"
     ]
    },
    {
     "data": {
      "text/html": [
       "<div>\n",
       "<style scoped>\n",
       "    .dataframe tbody tr th:only-of-type {\n",
       "        vertical-align: middle;\n",
       "    }\n",
       "\n",
       "    .dataframe tbody tr th {\n",
       "        vertical-align: top;\n",
       "    }\n",
       "\n",
       "    .dataframe thead th {\n",
       "        text-align: right;\n",
       "    }\n",
       "</style>\n",
       "<table border=\"1\" class=\"dataframe\">\n",
       "  <thead>\n",
       "    <tr style=\"text-align: right;\">\n",
       "      <th>City</th>\n",
       "      <th>Indicator</th>\n",
       "      <th>Alachua</th>\n",
       "    </tr>\n",
       "  </thead>\n",
       "  <tbody>\n",
       "    <tr>\n",
       "      <th>1</th>\n",
       "      <td>AVG_Dry_Spell</td>\n",
       "      <td>0.591503</td>\n",
       "    </tr>\n",
       "    <tr>\n",
       "      <th>2</th>\n",
       "      <td>AVG_Frost_Days</td>\n",
       "      <td>0.386321</td>\n",
       "    </tr>\n",
       "    <tr>\n",
       "      <th>3</th>\n",
       "      <td>AVG_Precip_Percentile</td>\n",
       "      <td>0.041853</td>\n",
       "    </tr>\n",
       "    <tr>\n",
       "      <th>4</th>\n",
       "      <td>AVG_Max_High_Temp</td>\n",
       "      <td>90.342350</td>\n",
       "    </tr>\n",
       "    <tr>\n",
       "      <th>5</th>\n",
       "      <td>AVG_Min_Low_Temp</td>\n",
       "      <td>48.833371</td>\n",
       "    </tr>\n",
       "  </tbody>\n",
       "</table>\n",
       "</div>"
      ],
      "text/plain": [
       "City              Indicator    Alachua\n",
       "1             AVG_Dry_Spell   0.591503\n",
       "2            AVG_Frost_Days   0.386321\n",
       "3     AVG_Precip_Percentile   0.041853\n",
       "4         AVG_Max_High_Temp  90.342350\n",
       "5          AVG_Min_Low_Temp  48.833371"
      ]
     },
     "execution_count": 29,
     "metadata": {},
     "output_type": "execute_result"
    }
   ],
   "source": [
    "alachua = alachua_df\n",
    "alachua['AVG_Dry_Spell'] = alachua['AVG_Dry_Spell'].mean()\n",
    "alachua['AVG_Frost_Days'] = alachua['AVG_Frost_Days'].mean()\n",
    "alachua['AVG_Precip_Percentile'] = alachua['AVG_Precip_Percentile'].mean()\n",
    "alachua['AVG_Max_High_Temp'] = alachua['AVG_Max_High_Temp'].mean()\n",
    "alachua['AVG_Min_Low_Temp'] = alachua['AVG_Min_Low_Temp'].mean()\n",
    "alachua = alachua.groupby('City').mean()\n",
    "alachua = alachua.T\n",
    "alachua = alachua.reset_index()\n",
    "alachua = alachua.rename(columns={'index': 'Indicator'})\n",
    "alachua = alachua.drop(0)\n",
    "alachua"
   ]
  },
  {
   "cell_type": "code",
   "execution_count": null,
   "id": "7ef5ce5f-65e7-46e8-841c-fbe706279cdb",
   "metadata": {
    "collapsed": true,
    "jupyter": {
     "outputs_hidden": true
    },
    "tags": []
   },
   "outputs": [
    {
     "name": "stderr",
     "output_type": "stream",
     "text": [
      "/var/folders/t3/bbl6z5pd2cvfxdw4rs22y9wm0000gn/T/ipykernel_1120/3560263789.py:2: SettingWithCopyWarning: \n",
      "A value is trying to be set on a copy of a slice from a DataFrame.\n",
      "Try using .loc[row_indexer,col_indexer] = value instead\n",
      "\n",
      "See the caveats in the documentation: https://pandas.pydata.org/pandas-docs/stable/user_guide/indexing.html#returning-a-view-versus-a-copy\n",
      "  ackerman['AVG_Dry_Spell'] = ackerman['AVG_Dry_Spell']\n",
      "/var/folders/t3/bbl6z5pd2cvfxdw4rs22y9wm0000gn/T/ipykernel_1120/3560263789.py:3: SettingWithCopyWarning: \n",
      "A value is trying to be set on a copy of a slice from a DataFrame.\n",
      "Try using .loc[row_indexer,col_indexer] = value instead\n",
      "\n",
      "See the caveats in the documentation: https://pandas.pydata.org/pandas-docs/stable/user_guide/indexing.html#returning-a-view-versus-a-copy\n",
      "  ackerman['AVG_Frost_Days'] = ackerman['AVG_Frost_Days'].mean()\n",
      "/var/folders/t3/bbl6z5pd2cvfxdw4rs22y9wm0000gn/T/ipykernel_1120/3560263789.py:4: SettingWithCopyWarning: \n",
      "A value is trying to be set on a copy of a slice from a DataFrame.\n",
      "Try using .loc[row_indexer,col_indexer] = value instead\n",
      "\n",
      "See the caveats in the documentation: https://pandas.pydata.org/pandas-docs/stable/user_guide/indexing.html#returning-a-view-versus-a-copy\n",
      "  ackerman['AVG_Precip_Percentile'] = ackerman['AVG_Precip_Percentile'].mean()\n",
      "/var/folders/t3/bbl6z5pd2cvfxdw4rs22y9wm0000gn/T/ipykernel_1120/3560263789.py:5: SettingWithCopyWarning: \n",
      "A value is trying to be set on a copy of a slice from a DataFrame.\n",
      "Try using .loc[row_indexer,col_indexer] = value instead\n",
      "\n",
      "See the caveats in the documentation: https://pandas.pydata.org/pandas-docs/stable/user_guide/indexing.html#returning-a-view-versus-a-copy\n",
      "  ackerman['AVG_Max_High_Temp'] = ackerman['AVG_Max_High_Temp'].mean()\n",
      "/var/folders/t3/bbl6z5pd2cvfxdw4rs22y9wm0000gn/T/ipykernel_1120/3560263789.py:6: SettingWithCopyWarning: \n",
      "A value is trying to be set on a copy of a slice from a DataFrame.\n",
      "Try using .loc[row_indexer,col_indexer] = value instead\n",
      "\n",
      "See the caveats in the documentation: https://pandas.pydata.org/pandas-docs/stable/user_guide/indexing.html#returning-a-view-versus-a-copy\n",
      "  ackerman['AVG_Min_Low_Temp'] = ackerman['AVG_Min_Low_Temp'].mean()\n"
     ]
    },
    {
     "data": {
      "text/html": [
       "<div>\n",
       "<style scoped>\n",
       "    .dataframe tbody tr th:only-of-type {\n",
       "        vertical-align: middle;\n",
       "    }\n",
       "\n",
       "    .dataframe tbody tr th {\n",
       "        vertical-align: top;\n",
       "    }\n",
       "\n",
       "    .dataframe thead th {\n",
       "        text-align: right;\n",
       "    }\n",
       "</style>\n",
       "<table border=\"1\" class=\"dataframe\">\n",
       "  <thead>\n",
       "    <tr style=\"text-align: right;\">\n",
       "      <th>City</th>\n",
       "      <th>Indicator</th>\n",
       "      <th>Ackerman</th>\n",
       "    </tr>\n",
       "  </thead>\n",
       "  <tbody>\n",
       "    <tr>\n",
       "      <th>1</th>\n",
       "      <td>AVG_Dry_Spell</td>\n",
       "      <td>0.674136</td>\n",
       "    </tr>\n",
       "    <tr>\n",
       "      <th>2</th>\n",
       "      <td>AVG_Frost_Days</td>\n",
       "      <td>3.572829</td>\n",
       "    </tr>\n",
       "    <tr>\n",
       "      <th>3</th>\n",
       "      <td>AVG_Precip_Percentile</td>\n",
       "      <td>0.030152</td>\n",
       "    </tr>\n",
       "    <tr>\n",
       "      <th>4</th>\n",
       "      <td>AVG_Max_High_Temp</td>\n",
       "      <td>85.349569</td>\n",
       "    </tr>\n",
       "    <tr>\n",
       "      <th>5</th>\n",
       "      <td>AVG_Min_Low_Temp</td>\n",
       "      <td>38.680463</td>\n",
       "    </tr>\n",
       "  </tbody>\n",
       "</table>\n",
       "</div>"
      ],
      "text/plain": [
       "City              Indicator   Ackerman\n",
       "1             AVG_Dry_Spell   0.674136\n",
       "2            AVG_Frost_Days   3.572829\n",
       "3     AVG_Precip_Percentile   0.030152\n",
       "4         AVG_Max_High_Temp  85.349569\n",
       "5          AVG_Min_Low_Temp  38.680463"
      ]
     },
     "execution_count": 30,
     "metadata": {},
     "output_type": "execute_result"
    }
   ],
   "source": [
    "ackerman = ackerman_df\n",
    "ackerman['AVG_Dry_Spell'] = ackerman['AVG_Dry_Spell']\n",
    "ackerman['AVG_Frost_Days'] = ackerman['AVG_Frost_Days'].mean()\n",
    "ackerman['AVG_Precip_Percentile'] = ackerman['AVG_Precip_Percentile'].mean()\n",
    "ackerman['AVG_Max_High_Temp'] = ackerman['AVG_Max_High_Temp'].mean()\n",
    "ackerman['AVG_Min_Low_Temp'] = ackerman['AVG_Min_Low_Temp'].mean()\n",
    "ackerman = ackerman.groupby('City').mean()\n",
    "ackerman = ackerman.T\n",
    "ackerman = ackerman.reset_index()\n",
    "ackerman = ackerman.rename(columns={'index': 'Indicator'})\n",
    "ackerman = ackerman.drop(0)\n",
    "ackerman"
   ]
  },
  {
   "attachments": {},
   "cell_type": "markdown",
   "id": "d7a59a9f",
   "metadata": {},
   "source": [
    "AVG for each indicator for each city for all years"
   ]
  },
  {
   "cell_type": "code",
   "execution_count": null,
   "id": "4edfd4e0-87b2-4867-8164-012f4e6b4ad4",
   "metadata": {
    "scrolled": true
   },
   "outputs": [
    {
     "data": {
      "text/html": [
       "<div>\n",
       "<style scoped>\n",
       "    .dataframe tbody tr th:only-of-type {\n",
       "        vertical-align: middle;\n",
       "    }\n",
       "\n",
       "    .dataframe tbody tr th {\n",
       "        vertical-align: top;\n",
       "    }\n",
       "\n",
       "    .dataframe thead th {\n",
       "        text-align: right;\n",
       "    }\n",
       "</style>\n",
       "<table border=\"1\" class=\"dataframe\">\n",
       "  <thead>\n",
       "    <tr style=\"text-align: right;\">\n",
       "      <th>City</th>\n",
       "      <th>Indicator</th>\n",
       "      <th>Adelphi</th>\n",
       "      <th>Albany</th>\n",
       "      <th>Alachua</th>\n",
       "      <th>Ackerman</th>\n",
       "    </tr>\n",
       "  </thead>\n",
       "  <tbody>\n",
       "    <tr>\n",
       "      <th>0</th>\n",
       "      <td>AVG_Dry_Spell</td>\n",
       "      <td>0.493697</td>\n",
       "      <td>1.128852</td>\n",
       "      <td>0.591503</td>\n",
       "      <td>0.674136</td>\n",
       "    </tr>\n",
       "    <tr>\n",
       "      <th>1</th>\n",
       "      <td>AVG_Frost_Days</td>\n",
       "      <td>6.416433</td>\n",
       "      <td>0.059057</td>\n",
       "      <td>0.386321</td>\n",
       "      <td>3.572829</td>\n",
       "    </tr>\n",
       "    <tr>\n",
       "      <th>2</th>\n",
       "      <td>AVG_Precip_Percentile</td>\n",
       "      <td>0.024349</td>\n",
       "      <td>0.012934</td>\n",
       "      <td>0.041853</td>\n",
       "      <td>0.030152</td>\n",
       "    </tr>\n",
       "    <tr>\n",
       "      <th>3</th>\n",
       "      <td>AVG_Max_High_Temp</td>\n",
       "      <td>80.783223</td>\n",
       "      <td>75.931415</td>\n",
       "      <td>90.342350</td>\n",
       "      <td>85.349569</td>\n",
       "    </tr>\n",
       "    <tr>\n",
       "      <th>4</th>\n",
       "      <td>AVG_Min_Low_Temp</td>\n",
       "      <td>33.109694</td>\n",
       "      <td>44.827531</td>\n",
       "      <td>48.833371</td>\n",
       "      <td>38.680463</td>\n",
       "    </tr>\n",
       "  </tbody>\n",
       "</table>\n",
       "</div>"
      ],
      "text/plain": [
       "City              Indicator    Adelphi     Albany    Alachua   Ackerman\n",
       "0             AVG_Dry_Spell   0.493697   1.128852   0.591503   0.674136\n",
       "1            AVG_Frost_Days   6.416433   0.059057   0.386321   3.572829\n",
       "2     AVG_Precip_Percentile   0.024349   0.012934   0.041853   0.030152\n",
       "3         AVG_Max_High_Temp  80.783223  75.931415  90.342350  85.349569\n",
       "4          AVG_Min_Low_Temp  33.109694  44.827531  48.833371  38.680463"
      ]
     },
     "execution_count": 31,
     "metadata": {},
     "output_type": "execute_result"
    }
   ],
   "source": [
    "cities_avg_df = pd.merge(pd.merge(adelphi, albany, on='Indicator'), alachua, on = 'Indicator').merge(ackerman, on = 'Indicator')\n",
    "cities_avg_df"
   ]
  },
  {
   "attachments": {},
   "cell_type": "markdown",
   "id": "d504ed19",
   "metadata": {},
   "source": [
    "All data merged by year"
   ]
  },
  {
   "cell_type": "code",
   "execution_count": null,
   "id": "5e74b89e-9747-43e2-bd0a-9428d3bd74fd",
   "metadata": {},
   "outputs": [
    {
     "data": {
      "text/html": [
       "<div>\n",
       "<style scoped>\n",
       "    .dataframe tbody tr th:only-of-type {\n",
       "        vertical-align: middle;\n",
       "    }\n",
       "\n",
       "    .dataframe tbody tr th {\n",
       "        vertical-align: top;\n",
       "    }\n",
       "\n",
       "    .dataframe thead th {\n",
       "        text-align: right;\n",
       "    }\n",
       "</style>\n",
       "<table border=\"1\" class=\"dataframe\">\n",
       "  <thead>\n",
       "    <tr style=\"text-align: right;\">\n",
       "      <th></th>\n",
       "      <th>AVG_Dry_Spell</th>\n",
       "      <th>AVG_Frost_Days</th>\n",
       "      <th>AVG_Precip_Percentile</th>\n",
       "      <th>AVG_Max_High_Temp</th>\n",
       "      <th>AVG_Min_Low_Temp</th>\n",
       "    </tr>\n",
       "    <tr>\n",
       "      <th>Year</th>\n",
       "      <th></th>\n",
       "      <th></th>\n",
       "      <th></th>\n",
       "      <th></th>\n",
       "      <th></th>\n",
       "    </tr>\n",
       "  </thead>\n",
       "  <tbody>\n",
       "    <tr>\n",
       "      <th>2006</th>\n",
       "      <td>0.718254</td>\n",
       "      <td>2.767857</td>\n",
       "      <td>0.026418</td>\n",
       "      <td>82.633903</td>\n",
       "      <td>40.817403</td>\n",
       "    </tr>\n",
       "    <tr>\n",
       "      <th>2007</th>\n",
       "      <td>0.740079</td>\n",
       "      <td>2.614087</td>\n",
       "      <td>0.025849</td>\n",
       "      <td>82.901075</td>\n",
       "      <td>41.108601</td>\n",
       "    </tr>\n",
       "    <tr>\n",
       "      <th>2008</th>\n",
       "      <td>0.681548</td>\n",
       "      <td>2.503968</td>\n",
       "      <td>0.027856</td>\n",
       "      <td>82.815949</td>\n",
       "      <td>41.264503</td>\n",
       "    </tr>\n",
       "    <tr>\n",
       "      <th>2009</th>\n",
       "      <td>0.693452</td>\n",
       "      <td>2.709325</td>\n",
       "      <td>0.027737</td>\n",
       "      <td>82.248094</td>\n",
       "      <td>40.931496</td>\n",
       "    </tr>\n",
       "    <tr>\n",
       "      <th>2010</th>\n",
       "      <td>0.718254</td>\n",
       "      <td>2.667659</td>\n",
       "      <td>0.027766</td>\n",
       "      <td>82.911855</td>\n",
       "      <td>41.090235</td>\n",
       "    </tr>\n",
       "  </tbody>\n",
       "</table>\n",
       "</div>"
      ],
      "text/plain": [
       "      AVG_Dry_Spell  AVG_Frost_Days  AVG_Precip_Percentile  AVG_Max_High_Temp  \\\n",
       "Year                                                                            \n",
       "2006       0.718254        2.767857               0.026418          82.633903   \n",
       "2007       0.740079        2.614087               0.025849          82.901075   \n",
       "2008       0.681548        2.503968               0.027856          82.815949   \n",
       "2009       0.693452        2.709325               0.027737          82.248094   \n",
       "2010       0.718254        2.667659               0.027766          82.911855   \n",
       "\n",
       "      AVG_Min_Low_Temp  \n",
       "Year                    \n",
       "2006         40.817403  \n",
       "2007         41.108601  \n",
       "2008         41.264503  \n",
       "2009         40.931496  \n",
       "2010         41.090235  "
      ]
     },
     "execution_count": 36,
     "metadata": {},
     "output_type": "execute_result"
    }
   ],
   "source": [
    "merge_df2 = merge_df.groupby(['Year']).mean()\n",
    "merge_df2.head()"
   ]
  },
  {
   "cell_type": "code",
   "execution_count": null,
   "id": "e772cdaf",
   "metadata": {},
   "outputs": [],
   "source": []
  }
 ],
 "metadata": {
  "kernelspec": {
   "display_name": "Python 3 (ipykernel)",
   "language": "python",
   "name": "python3"
  },
  "language_info": {
   "codemirror_mode": {
    "name": "ipython",
    "version": 3
   },
   "file_extension": ".py",
   "mimetype": "text/x-python",
   "name": "python",
   "nbconvert_exporter": "python",
   "pygments_lexer": "ipython3",
   "version": "3.11.3"
  }
 },
 "nbformat": 4,
 "nbformat_minor": 5
}
