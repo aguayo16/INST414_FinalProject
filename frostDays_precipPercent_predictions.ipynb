{
 "cells": [
  {
   "attachments": {},
   "cell_type": "markdown",
   "metadata": {},
   "source": [
    "# Predicting Frost Days and Precipitation Percentile for the Next Month of Each City"
   ]
  },
  {
   "cell_type": "code",
   "execution_count": 2,
   "metadata": {},
   "outputs": [],
   "source": [
    "import pandas as pd\n",
    "import matplotlib.pyplot as plt\n",
    "import datetime\n",
    "from sklearn.linear_model import Ridge\n",
    "from sklearn.metrics import mean_absolute_error, mean_squared_error, r2_score"
   ]
  },
  {
   "cell_type": "code",
   "execution_count": 87,
   "metadata": {},
   "outputs": [],
   "source": [
    "# Reading the dataframes\n",
    "adelphi_df = pd.read_csv('adelphi_df').set_index('Date')\n",
    "ack_df = pd.read_csv('ack_df').set_index('Date')\n",
    "albany_df = pd.read_csv('albany_df').set_index('Date')\n",
    "alachua_df = pd.read_csv('alachua_df').set_index('Date')\n",
    "\n",
    "# Setting index as Date and making it into a datetime object\n",
    "adelphi_df.index = pd.to_datetime(adelphi_df.index)\n",
    "ack_df.index = pd.to_datetime(ack_df.index)\n",
    "albany_df.index = pd.to_datetime(albany_df.index)\n",
    "alachua_df.index = pd.to_datetime(alachua_df.index)"
   ]
  },
  {
   "attachments": {},
   "cell_type": "markdown",
   "metadata": {},
   "source": [
    "## Creating function for making predictions"
   ]
  },
  {
   "cell_type": "code",
   "execution_count": 47,
   "metadata": {},
   "outputs": [],
   "source": [
    "## Setting the model \n",
    "reg = Ridge(alpha=.1)\n",
    "## Identifying our predictors\n",
    "predictors = ['AVG_Dry_Spell', 'AVG_Frost_Days', 'AVG_Max_High_Temp','AVG_Min_Low_Temp', 'AVG_Precip_Percentile']\n",
    "## Creating a function for training and prediction\n",
    "def predict(predictors, df, reg):\n",
    "    train = df.loc[:'2019-10-01']\n",
    "    test = df.loc['2019-11-01':]\n",
    "    reg.fit(train[predictors],  train['Target']) \n",
    "    predictions = reg.predict(test[predictors])\n",
    "    error = print('Error: ', mean_absolute_error(test['Target'], predictions))\n",
    "    r_square = print('r^2: ', r2_score(test['Target'], predictions))\n",
    "    combined = pd.concat([test['Target'], pd.Series(predictions, index=test.index)], axis=1)\n",
    "    combined.columns = ['Actual', 'Prediction']\n",
    "    return error, r_square, combined"
   ]
  },
  {
   "attachments": {},
   "cell_type": "markdown",
   "metadata": {},
   "source": [
    "## Frost Days Prediction in Adelphi"
   ]
  },
  {
   "cell_type": "code",
   "execution_count": 48,
   "metadata": {},
   "outputs": [
    {
     "data": {
      "text/html": [
       "<div>\n",
       "<style scoped>\n",
       "    .dataframe tbody tr th:only-of-type {\n",
       "        vertical-align: middle;\n",
       "    }\n",
       "\n",
       "    .dataframe tbody tr th {\n",
       "        vertical-align: top;\n",
       "    }\n",
       "\n",
       "    .dataframe thead th {\n",
       "        text-align: right;\n",
       "    }\n",
       "</style>\n",
       "<table border=\"1\" class=\"dataframe\">\n",
       "  <thead>\n",
       "    <tr style=\"text-align: right;\">\n",
       "      <th></th>\n",
       "      <th>AVG_Dry_Spell</th>\n",
       "      <th>AVG_Frost_Days</th>\n",
       "      <th>AVG_Max_High_Temp</th>\n",
       "      <th>AVG_Min_Low_Temp</th>\n",
       "      <th>AVG_Precip_Percentile</th>\n",
       "      <th>Target</th>\n",
       "    </tr>\n",
       "    <tr>\n",
       "      <th>Date</th>\n",
       "      <th></th>\n",
       "      <th></th>\n",
       "      <th></th>\n",
       "      <th></th>\n",
       "      <th></th>\n",
       "      <th></th>\n",
       "    </tr>\n",
       "  </thead>\n",
       "  <tbody>\n",
       "    <tr>\n",
       "      <th>2006-01-01</th>\n",
       "      <td>0.666667</td>\n",
       "      <td>23.333333</td>\n",
       "      <td>58.380462</td>\n",
       "      <td>6.651906</td>\n",
       "      <td>0.008978</td>\n",
       "      <td>16.000000</td>\n",
       "    </tr>\n",
       "    <tr>\n",
       "      <th>2006-02-01</th>\n",
       "      <td>0.523810</td>\n",
       "      <td>16.000000</td>\n",
       "      <td>64.210977</td>\n",
       "      <td>12.375184</td>\n",
       "      <td>0.011565</td>\n",
       "      <td>12.809524</td>\n",
       "    </tr>\n",
       "    <tr>\n",
       "      <th>2006-03-01</th>\n",
       "      <td>0.619048</td>\n",
       "      <td>12.809524</td>\n",
       "      <td>71.779725</td>\n",
       "      <td>18.881910</td>\n",
       "      <td>0.010393</td>\n",
       "      <td>2.619048</td>\n",
       "    </tr>\n",
       "    <tr>\n",
       "      <th>2006-04-01</th>\n",
       "      <td>0.428571</td>\n",
       "      <td>2.619048</td>\n",
       "      <td>81.003826</td>\n",
       "      <td>29.565725</td>\n",
       "      <td>0.019990</td>\n",
       "      <td>0.095238</td>\n",
       "    </tr>\n",
       "    <tr>\n",
       "      <th>2006-05-01</th>\n",
       "      <td>0.380952</td>\n",
       "      <td>0.095238</td>\n",
       "      <td>88.391318</td>\n",
       "      <td>39.327334</td>\n",
       "      <td>0.044866</td>\n",
       "      <td>0.000000</td>\n",
       "    </tr>\n",
       "    <tr>\n",
       "      <th>...</th>\n",
       "      <td>...</td>\n",
       "      <td>...</td>\n",
       "      <td>...</td>\n",
       "      <td>...</td>\n",
       "      <td>...</td>\n",
       "      <td>...</td>\n",
       "    </tr>\n",
       "    <tr>\n",
       "      <th>2022-11-01</th>\n",
       "      <td>0.380952</td>\n",
       "      <td>5.809524</td>\n",
       "      <td>72.442504</td>\n",
       "      <td>25.883503</td>\n",
       "      <td>0.016771</td>\n",
       "      <td>16.952381</td>\n",
       "    </tr>\n",
       "    <tr>\n",
       "      <th>2022-12-01</th>\n",
       "      <td>0.476190</td>\n",
       "      <td>16.952381</td>\n",
       "      <td>66.392951</td>\n",
       "      <td>17.665203</td>\n",
       "      <td>0.020295</td>\n",
       "      <td>21.761905</td>\n",
       "    </tr>\n",
       "    <tr>\n",
       "      <th>2023-01-01</th>\n",
       "      <td>0.714286</td>\n",
       "      <td>21.761905</td>\n",
       "      <td>62.688411</td>\n",
       "      <td>8.430347</td>\n",
       "      <td>0.011336</td>\n",
       "      <td>17.571429</td>\n",
       "    </tr>\n",
       "    <tr>\n",
       "      <th>2023-02-01</th>\n",
       "      <td>0.904762</td>\n",
       "      <td>17.571429</td>\n",
       "      <td>64.619907</td>\n",
       "      <td>11.754573</td>\n",
       "      <td>0.009181</td>\n",
       "      <td>10.476190</td>\n",
       "    </tr>\n",
       "    <tr>\n",
       "      <th>2023-03-01</th>\n",
       "      <td>0.619048</td>\n",
       "      <td>10.476190</td>\n",
       "      <td>70.848644</td>\n",
       "      <td>21.150477</td>\n",
       "      <td>0.018177</td>\n",
       "      <td>1.333333</td>\n",
       "    </tr>\n",
       "  </tbody>\n",
       "</table>\n",
       "<p>207 rows × 6 columns</p>\n",
       "</div>"
      ],
      "text/plain": [
       "            AVG_Dry_Spell  AVG_Frost_Days  AVG_Max_High_Temp  \\\n",
       "Date                                                           \n",
       "2006-01-01       0.666667       23.333333          58.380462   \n",
       "2006-02-01       0.523810       16.000000          64.210977   \n",
       "2006-03-01       0.619048       12.809524          71.779725   \n",
       "2006-04-01       0.428571        2.619048          81.003826   \n",
       "2006-05-01       0.380952        0.095238          88.391318   \n",
       "...                   ...             ...                ...   \n",
       "2022-11-01       0.380952        5.809524          72.442504   \n",
       "2022-12-01       0.476190       16.952381          66.392951   \n",
       "2023-01-01       0.714286       21.761905          62.688411   \n",
       "2023-02-01       0.904762       17.571429          64.619907   \n",
       "2023-03-01       0.619048       10.476190          70.848644   \n",
       "\n",
       "            AVG_Min_Low_Temp  AVG_Precip_Percentile     Target  \n",
       "Date                                                            \n",
       "2006-01-01          6.651906               0.008978  16.000000  \n",
       "2006-02-01         12.375184               0.011565  12.809524  \n",
       "2006-03-01         18.881910               0.010393   2.619048  \n",
       "2006-04-01         29.565725               0.019990   0.095238  \n",
       "2006-05-01         39.327334               0.044866   0.000000  \n",
       "...                      ...                    ...        ...  \n",
       "2022-11-01         25.883503               0.016771  16.952381  \n",
       "2022-12-01         17.665203               0.020295  21.761905  \n",
       "2023-01-01          8.430347               0.011336  17.571429  \n",
       "2023-02-01         11.754573               0.009181  10.476190  \n",
       "2023-03-01         21.150477               0.018177   1.333333  \n",
       "\n",
       "[207 rows x 6 columns]"
      ]
     },
     "execution_count": 48,
     "metadata": {},
     "output_type": "execute_result"
    }
   ],
   "source": [
    "adelphi_df['Target'] = adelphi_df.shift(-1)['AVG_Frost_Days']\n",
    "adelphi_df = adelphi_df.iloc[:-3,:].copy()\n",
    "adelphi_df"
   ]
  },
  {
   "cell_type": "code",
   "execution_count": 49,
   "metadata": {},
   "outputs": [
    {
     "name": "stdout",
     "output_type": "stream",
     "text": [
      "Error:  3.7394529440747135\n",
      "r^2:  0.6921859126830302\n"
     ]
    }
   ],
   "source": [
    "error, r_square, adelphi_combined = predict(predictors, adelphi_df, reg)"
   ]
  },
  {
   "cell_type": "code",
   "execution_count": 11,
   "metadata": {},
   "outputs": [
    {
     "name": "stdout",
     "output_type": "stream",
     "text": [
      "Intercepts:  [-0.28677145 -0.0726385  -1.70164282  0.96227254  0.26132003]\n",
      "               Actual  Prediction\n",
      "Date                             \n",
      "2019-11-01  17.571429   11.153594\n",
      "2019-12-01  20.761905   14.816450\n",
      "2020-01-01  16.333333   13.691023\n",
      "2020-02-01  11.428571   16.297128\n",
      "2020-03-01   1.380952   12.743135\n"
     ]
    },
    {
     "data": {
      "text/plain": [
       "<AxesSubplot:xlabel='Date'>"
      ]
     },
     "execution_count": 11,
     "metadata": {},
     "output_type": "execute_result"
    },
    {
     "data": {
      "image/png": "[encoded data removed]",
      "text/plain": [
       "<Figure size 432x288 with 1 Axes>"
      ]
     },
     "metadata": {
      "needs_background": "light"
     },
     "output_type": "display_data"
    }
   ],
   "source": [
    "print('Intercepts: ', reg.coef_)\n",
    "print(adelphi_combined.head())\n",
    "adelphi_combined.plot()"
   ]
  },
  {
   "attachments": {},
   "cell_type": "markdown",
   "metadata": {},
   "source": [
    "## Precipitation  Percentile Prediction in Adelphi"
   ]
  },
  {
   "cell_type": "code",
   "execution_count": 59,
   "metadata": {},
   "outputs": [
    {
     "data": {
      "text/html": [
       "<div>\n",
       "<style scoped>\n",
       "    .dataframe tbody tr th:only-of-type {\n",
       "        vertical-align: middle;\n",
       "    }\n",
       "\n",
       "    .dataframe tbody tr th {\n",
       "        vertical-align: top;\n",
       "    }\n",
       "\n",
       "    .dataframe thead th {\n",
       "        text-align: right;\n",
       "    }\n",
       "</style>\n",
       "<table border=\"1\" class=\"dataframe\">\n",
       "  <thead>\n",
       "    <tr style=\"text-align: right;\">\n",
       "      <th></th>\n",
       "      <th>AVG_Dry_Spell</th>\n",
       "      <th>AVG_Frost_Days</th>\n",
       "      <th>AVG_Max_High_Temp</th>\n",
       "      <th>AVG_Min_Low_Temp</th>\n",
       "      <th>AVG_Precip_Percentile</th>\n",
       "      <th>Target</th>\n",
       "    </tr>\n",
       "    <tr>\n",
       "      <th>Date</th>\n",
       "      <th></th>\n",
       "      <th></th>\n",
       "      <th></th>\n",
       "      <th></th>\n",
       "      <th></th>\n",
       "      <th></th>\n",
       "    </tr>\n",
       "  </thead>\n",
       "  <tbody>\n",
       "    <tr>\n",
       "      <th>2006-01-01</th>\n",
       "      <td>0.666667</td>\n",
       "      <td>23.333333</td>\n",
       "      <td>58.380462</td>\n",
       "      <td>6.651906</td>\n",
       "      <td>0.008978</td>\n",
       "      <td>0.011565</td>\n",
       "    </tr>\n",
       "    <tr>\n",
       "      <th>2006-02-01</th>\n",
       "      <td>0.523810</td>\n",
       "      <td>16.000000</td>\n",
       "      <td>64.210977</td>\n",
       "      <td>12.375184</td>\n",
       "      <td>0.011565</td>\n",
       "      <td>0.010393</td>\n",
       "    </tr>\n",
       "    <tr>\n",
       "      <th>2006-03-01</th>\n",
       "      <td>0.619048</td>\n",
       "      <td>12.809524</td>\n",
       "      <td>71.779725</td>\n",
       "      <td>18.881910</td>\n",
       "      <td>0.010393</td>\n",
       "      <td>0.019990</td>\n",
       "    </tr>\n",
       "    <tr>\n",
       "      <th>2006-04-01</th>\n",
       "      <td>0.428571</td>\n",
       "      <td>2.619048</td>\n",
       "      <td>81.003826</td>\n",
       "      <td>29.565725</td>\n",
       "      <td>0.019990</td>\n",
       "      <td>0.044866</td>\n",
       "    </tr>\n",
       "    <tr>\n",
       "      <th>2006-05-01</th>\n",
       "      <td>0.380952</td>\n",
       "      <td>0.095238</td>\n",
       "      <td>88.391318</td>\n",
       "      <td>39.327334</td>\n",
       "      <td>0.044866</td>\n",
       "      <td>0.040358</td>\n",
       "    </tr>\n",
       "    <tr>\n",
       "      <th>...</th>\n",
       "      <td>...</td>\n",
       "      <td>...</td>\n",
       "      <td>...</td>\n",
       "      <td>...</td>\n",
       "      <td>...</td>\n",
       "      <td>...</td>\n",
       "    </tr>\n",
       "    <tr>\n",
       "      <th>2022-11-01</th>\n",
       "      <td>0.380952</td>\n",
       "      <td>5.809524</td>\n",
       "      <td>72.442504</td>\n",
       "      <td>25.883503</td>\n",
       "      <td>0.016771</td>\n",
       "      <td>0.020295</td>\n",
       "    </tr>\n",
       "    <tr>\n",
       "      <th>2022-12-01</th>\n",
       "      <td>0.476190</td>\n",
       "      <td>16.952381</td>\n",
       "      <td>66.392951</td>\n",
       "      <td>17.665203</td>\n",
       "      <td>0.020295</td>\n",
       "      <td>0.011336</td>\n",
       "    </tr>\n",
       "    <tr>\n",
       "      <th>2023-01-01</th>\n",
       "      <td>0.714286</td>\n",
       "      <td>21.761905</td>\n",
       "      <td>62.688411</td>\n",
       "      <td>8.430347</td>\n",
       "      <td>0.011336</td>\n",
       "      <td>0.009181</td>\n",
       "    </tr>\n",
       "    <tr>\n",
       "      <th>2023-02-01</th>\n",
       "      <td>0.904762</td>\n",
       "      <td>17.571429</td>\n",
       "      <td>64.619907</td>\n",
       "      <td>11.754573</td>\n",
       "      <td>0.009181</td>\n",
       "      <td>0.018177</td>\n",
       "    </tr>\n",
       "    <tr>\n",
       "      <th>2023-03-01</th>\n",
       "      <td>0.619048</td>\n",
       "      <td>10.476190</td>\n",
       "      <td>70.848644</td>\n",
       "      <td>21.150477</td>\n",
       "      <td>0.018177</td>\n",
       "      <td>0.018859</td>\n",
       "    </tr>\n",
       "  </tbody>\n",
       "</table>\n",
       "<p>207 rows × 6 columns</p>\n",
       "</div>"
      ],
      "text/plain": [
       "            AVG_Dry_Spell  AVG_Frost_Days  AVG_Max_High_Temp  \\\n",
       "Date                                                           \n",
       "2006-01-01       0.666667       23.333333          58.380462   \n",
       "2006-02-01       0.523810       16.000000          64.210977   \n",
       "2006-03-01       0.619048       12.809524          71.779725   \n",
       "2006-04-01       0.428571        2.619048          81.003826   \n",
       "2006-05-01       0.380952        0.095238          88.391318   \n",
       "...                   ...             ...                ...   \n",
       "2022-11-01       0.380952        5.809524          72.442504   \n",
       "2022-12-01       0.476190       16.952381          66.392951   \n",
       "2023-01-01       0.714286       21.761905          62.688411   \n",
       "2023-02-01       0.904762       17.571429          64.619907   \n",
       "2023-03-01       0.619048       10.476190          70.848644   \n",
       "\n",
       "            AVG_Min_Low_Temp  AVG_Precip_Percentile    Target  \n",
       "Date                                                           \n",
       "2006-01-01          6.651906               0.008978  0.011565  \n",
       "2006-02-01         12.375184               0.011565  0.010393  \n",
       "2006-03-01         18.881910               0.010393  0.019990  \n",
       "2006-04-01         29.565725               0.019990  0.044866  \n",
       "2006-05-01         39.327334               0.044866  0.040358  \n",
       "...                      ...                    ...       ...  \n",
       "2022-11-01         25.883503               0.016771  0.020295  \n",
       "2022-12-01         17.665203               0.020295  0.011336  \n",
       "2023-01-01          8.430347               0.011336  0.009181  \n",
       "2023-02-01         11.754573               0.009181  0.018177  \n",
       "2023-03-01         21.150477               0.018177  0.018859  \n",
       "\n",
       "[207 rows x 6 columns]"
      ]
     },
     "execution_count": 59,
     "metadata": {},
     "output_type": "execute_result"
    }
   ],
   "source": [
    "adelphi_df['Target'] = adelphi_df.shift(-1)['AVG_Precip_Percentile']\n",
    "adelphi_df = adelphi_df.iloc[:-3,:].copy()\n",
    "adelphi_df"
   ]
  },
  {
   "cell_type": "code",
   "execution_count": 60,
   "metadata": {},
   "outputs": [
    {
     "name": "stdout",
     "output_type": "stream",
     "text": [
      "Error:  0.007400526980399039\n",
      "r^2:  0.5858397635181571\n"
     ]
    }
   ],
   "source": [
    "error, r_square, adelphi_combined = predict(predictors, adelphi_df, reg)"
   ]
  },
  {
   "cell_type": "code",
   "execution_count": 29,
   "metadata": {},
   "outputs": [
    {
     "name": "stdout",
     "output_type": "stream",
     "text": [
      "Intercepts:  [-2.27633919e-02  6.19570670e-05  2.49714912e-03 -1.68157310e-03\n",
      "  1.65411945e-02]\n",
      "              Actual  Prediction\n",
      "Date                            \n",
      "2019-11-01  0.017370    0.015854\n",
      "2019-12-01  0.006806    0.018035\n",
      "2020-01-01  0.009761    0.016053\n",
      "2020-02-01  0.014421    0.003015\n",
      "2020-03-01  0.023337    0.017930\n"
     ]
    },
    {
     "data": {
      "text/plain": [
       "<AxesSubplot:xlabel='Date'>"
      ]
     },
     "execution_count": 29,
     "metadata": {},
     "output_type": "execute_result"
    },
    {
     "data": {
      "image/png": "[encoded data removed]",
      "text/plain": [
       "<Figure size 432x288 with 1 Axes>"
      ]
     },
     "metadata": {
      "needs_background": "light"
     },
     "output_type": "display_data"
    }
   ],
   "source": [
    "print('Intercepts: ', reg.coef_)\n",
    "print(adelphi_combined.head())\n",
    "adelphi_combined.plot()"
   ]
  },
  {
   "attachments": {},
   "cell_type": "markdown",
   "metadata": {},
   "source": [
    "## Frost Days Prediction in Akerman"
   ]
  },
  {
   "cell_type": "code",
   "execution_count": 63,
   "metadata": {
    "scrolled": true
   },
   "outputs": [
    {
     "data": {
      "text/html": [
       "<div>\n",
       "<style scoped>\n",
       "    .dataframe tbody tr th:only-of-type {\n",
       "        vertical-align: middle;\n",
       "    }\n",
       "\n",
       "    .dataframe tbody tr th {\n",
       "        vertical-align: top;\n",
       "    }\n",
       "\n",
       "    .dataframe thead th {\n",
       "        text-align: right;\n",
       "    }\n",
       "</style>\n",
       "<table border=\"1\" class=\"dataframe\">\n",
       "  <thead>\n",
       "    <tr style=\"text-align: right;\">\n",
       "      <th></th>\n",
       "      <th>AVG_Dry_Spell</th>\n",
       "      <th>AVG_Frost_Days</th>\n",
       "      <th>AVG_Max_High_Temp</th>\n",
       "      <th>AVG_Min_Low_Temp</th>\n",
       "      <th>AVG_Precip_Percentile</th>\n",
       "      <th>Target</th>\n",
       "    </tr>\n",
       "    <tr>\n",
       "      <th>Date</th>\n",
       "      <th></th>\n",
       "      <th></th>\n",
       "      <th></th>\n",
       "      <th></th>\n",
       "      <th></th>\n",
       "      <th></th>\n",
       "    </tr>\n",
       "  </thead>\n",
       "  <tbody>\n",
       "    <tr>\n",
       "      <th>2006-01-01</th>\n",
       "      <td>0.761905</td>\n",
       "      <td>15.761905</td>\n",
       "      <td>68.284760</td>\n",
       "      <td>16.643736</td>\n",
       "      <td>0.020218</td>\n",
       "      <td>8.619048</td>\n",
       "    </tr>\n",
       "    <tr>\n",
       "      <th>2006-02-01</th>\n",
       "      <td>0.285714</td>\n",
       "      <td>8.619048</td>\n",
       "      <td>71.710266</td>\n",
       "      <td>18.613628</td>\n",
       "      <td>0.035508</td>\n",
       "      <td>4.238095</td>\n",
       "    </tr>\n",
       "    <tr>\n",
       "      <th>2006-03-01</th>\n",
       "      <td>0.571429</td>\n",
       "      <td>4.238095</td>\n",
       "      <td>77.423640</td>\n",
       "      <td>25.492232</td>\n",
       "      <td>0.025910</td>\n",
       "      <td>0.190476</td>\n",
       "    </tr>\n",
       "    <tr>\n",
       "      <th>2006-04-01</th>\n",
       "      <td>0.714286</td>\n",
       "      <td>0.190476</td>\n",
       "      <td>83.610128</td>\n",
       "      <td>36.425706</td>\n",
       "      <td>0.050267</td>\n",
       "      <td>0.000000</td>\n",
       "    </tr>\n",
       "    <tr>\n",
       "      <th>2006-05-01</th>\n",
       "      <td>0.619048</td>\n",
       "      <td>0.000000</td>\n",
       "      <td>89.570718</td>\n",
       "      <td>48.237222</td>\n",
       "      <td>0.068791</td>\n",
       "      <td>0.000000</td>\n",
       "    </tr>\n",
       "    <tr>\n",
       "      <th>...</th>\n",
       "      <td>...</td>\n",
       "      <td>...</td>\n",
       "      <td>...</td>\n",
       "      <td>...</td>\n",
       "      <td>...</td>\n",
       "      <td>...</td>\n",
       "    </tr>\n",
       "    <tr>\n",
       "      <th>2022-11-01</th>\n",
       "      <td>0.761905</td>\n",
       "      <td>3.142857</td>\n",
       "      <td>79.125849</td>\n",
       "      <td>25.516478</td>\n",
       "      <td>0.020426</td>\n",
       "      <td>9.380952</td>\n",
       "    </tr>\n",
       "    <tr>\n",
       "      <th>2022-12-01</th>\n",
       "      <td>0.714286</td>\n",
       "      <td>9.380952</td>\n",
       "      <td>72.749863</td>\n",
       "      <td>20.284564</td>\n",
       "      <td>0.017431</td>\n",
       "      <td>13.904762</td>\n",
       "    </tr>\n",
       "    <tr>\n",
       "      <th>2023-01-01</th>\n",
       "      <td>0.619048</td>\n",
       "      <td>13.904762</td>\n",
       "      <td>70.633234</td>\n",
       "      <td>17.770612</td>\n",
       "      <td>0.024915</td>\n",
       "      <td>9.571429</td>\n",
       "    </tr>\n",
       "    <tr>\n",
       "      <th>2023-02-01</th>\n",
       "      <td>0.380952</td>\n",
       "      <td>9.571429</td>\n",
       "      <td>72.482806</td>\n",
       "      <td>20.911195</td>\n",
       "      <td>0.024384</td>\n",
       "      <td>3.523810</td>\n",
       "    </tr>\n",
       "    <tr>\n",
       "      <th>2023-03-01</th>\n",
       "      <td>0.523810</td>\n",
       "      <td>3.523810</td>\n",
       "      <td>78.052354</td>\n",
       "      <td>26.843988</td>\n",
       "      <td>0.041880</td>\n",
       "      <td>0.238095</td>\n",
       "    </tr>\n",
       "  </tbody>\n",
       "</table>\n",
       "<p>207 rows × 6 columns</p>\n",
       "</div>"
      ],
      "text/plain": [
       "            AVG_Dry_Spell  AVG_Frost_Days  AVG_Max_High_Temp  \\\n",
       "Date                                                           \n",
       "2006-01-01       0.761905       15.761905          68.284760   \n",
       "2006-02-01       0.285714        8.619048          71.710266   \n",
       "2006-03-01       0.571429        4.238095          77.423640   \n",
       "2006-04-01       0.714286        0.190476          83.610128   \n",
       "2006-05-01       0.619048        0.000000          89.570718   \n",
       "...                   ...             ...                ...   \n",
       "2022-11-01       0.761905        3.142857          79.125849   \n",
       "2022-12-01       0.714286        9.380952          72.749863   \n",
       "2023-01-01       0.619048       13.904762          70.633234   \n",
       "2023-02-01       0.380952        9.571429          72.482806   \n",
       "2023-03-01       0.523810        3.523810          78.052354   \n",
       "\n",
       "            AVG_Min_Low_Temp  AVG_Precip_Percentile     Target  \n",
       "Date                                                            \n",
       "2006-01-01         16.643736               0.020218   8.619048  \n",
       "2006-02-01         18.613628               0.035508   4.238095  \n",
       "2006-03-01         25.492232               0.025910   0.190476  \n",
       "2006-04-01         36.425706               0.050267   0.000000  \n",
       "2006-05-01         48.237222               0.068791   0.000000  \n",
       "...                      ...                    ...        ...  \n",
       "2022-11-01         25.516478               0.020426   9.380952  \n",
       "2022-12-01         20.284564               0.017431  13.904762  \n",
       "2023-01-01         17.770612               0.024915   9.571429  \n",
       "2023-02-01         20.911195               0.024384   3.523810  \n",
       "2023-03-01         26.843988               0.041880   0.238095  \n",
       "\n",
       "[207 rows x 6 columns]"
      ]
     },
     "execution_count": 63,
     "metadata": {},
     "output_type": "execute_result"
    }
   ],
   "source": [
    "ack_df['Target'] = ack_df.shift(-1)['AVG_Frost_Days']\n",
    "ack_df = ack_df.iloc[:-3,:].copy()\n",
    "ack_df"
   ]
  },
  {
   "cell_type": "code",
   "execution_count": 64,
   "metadata": {},
   "outputs": [
    {
     "name": "stdout",
     "output_type": "stream",
     "text": [
      "Error:  2.463164714478297\n",
      "r^2:  0.6107966785429433\n"
     ]
    }
   ],
   "source": [
    "error, r_square, akerman_combined = predict(predictors, ack_df, reg)"
   ]
  },
  {
   "cell_type": "code",
   "execution_count": 65,
   "metadata": {},
   "outputs": [
    {
     "name": "stdout",
     "output_type": "stream",
     "text": [
      "Intercepts:  [ 4.37569003  0.59830914  0.1241224  -0.12707567 -4.17042667]\n",
      "               Actual  Prediction\n",
      "Date                             \n",
      "2019-11-01  11.761905    3.647129\n",
      "2019-12-01  15.095238    9.827974\n",
      "2020-01-01   8.333333   10.223383\n",
      "2020-02-01   3.095238    7.688861\n",
      "2020-03-01   0.285714    3.074129\n"
     ]
    },
    {
     "data": {
      "text/plain": [
       "<AxesSubplot:xlabel='Date'>"
      ]
     },
     "execution_count": 65,
     "metadata": {},
     "output_type": "execute_result"
    },
    {
     "data": {
      "image/png": "[encoded data removed]",
      "text/plain": [
       "<Figure size 432x288 with 1 Axes>"
      ]
     },
     "metadata": {
      "needs_background": "light"
     },
     "output_type": "display_data"
    }
   ],
   "source": [
    "print('Intercepts: ', reg.coef_)\n",
    "print(akerman_combined.head())\n",
    "akerman_combined.plot()"
   ]
  },
  {
   "attachments": {},
   "cell_type": "markdown",
   "metadata": {},
   "source": [
    "## Precipitation  Percentile in Akerman"
   ]
  },
  {
   "cell_type": "code",
   "execution_count": 68,
   "metadata": {},
   "outputs": [
    {
     "data": {
      "text/html": [
       "<div>\n",
       "<style scoped>\n",
       "    .dataframe tbody tr th:only-of-type {\n",
       "        vertical-align: middle;\n",
       "    }\n",
       "\n",
       "    .dataframe tbody tr th {\n",
       "        vertical-align: top;\n",
       "    }\n",
       "\n",
       "    .dataframe thead th {\n",
       "        text-align: right;\n",
       "    }\n",
       "</style>\n",
       "<table border=\"1\" class=\"dataframe\">\n",
       "  <thead>\n",
       "    <tr style=\"text-align: right;\">\n",
       "      <th></th>\n",
       "      <th>AVG_Dry_Spell</th>\n",
       "      <th>AVG_Frost_Days</th>\n",
       "      <th>AVG_Max_High_Temp</th>\n",
       "      <th>AVG_Min_Low_Temp</th>\n",
       "      <th>AVG_Precip_Percentile</th>\n",
       "      <th>Target</th>\n",
       "    </tr>\n",
       "    <tr>\n",
       "      <th>Date</th>\n",
       "      <th></th>\n",
       "      <th></th>\n",
       "      <th></th>\n",
       "      <th></th>\n",
       "      <th></th>\n",
       "      <th></th>\n",
       "    </tr>\n",
       "  </thead>\n",
       "  <tbody>\n",
       "    <tr>\n",
       "      <th>2006-01-01</th>\n",
       "      <td>0.761905</td>\n",
       "      <td>15.761905</td>\n",
       "      <td>68.284760</td>\n",
       "      <td>16.643736</td>\n",
       "      <td>0.020218</td>\n",
       "      <td>0.035508</td>\n",
       "    </tr>\n",
       "    <tr>\n",
       "      <th>2006-02-01</th>\n",
       "      <td>0.285714</td>\n",
       "      <td>8.619048</td>\n",
       "      <td>71.710266</td>\n",
       "      <td>18.613628</td>\n",
       "      <td>0.035508</td>\n",
       "      <td>0.025910</td>\n",
       "    </tr>\n",
       "    <tr>\n",
       "      <th>2006-03-01</th>\n",
       "      <td>0.571429</td>\n",
       "      <td>4.238095</td>\n",
       "      <td>77.423640</td>\n",
       "      <td>25.492232</td>\n",
       "      <td>0.025910</td>\n",
       "      <td>0.050267</td>\n",
       "    </tr>\n",
       "    <tr>\n",
       "      <th>2006-04-01</th>\n",
       "      <td>0.714286</td>\n",
       "      <td>0.190476</td>\n",
       "      <td>83.610128</td>\n",
       "      <td>36.425706</td>\n",
       "      <td>0.050267</td>\n",
       "      <td>0.068791</td>\n",
       "    </tr>\n",
       "    <tr>\n",
       "      <th>2006-05-01</th>\n",
       "      <td>0.619048</td>\n",
       "      <td>0.000000</td>\n",
       "      <td>89.570718</td>\n",
       "      <td>48.237222</td>\n",
       "      <td>0.068791</td>\n",
       "      <td>0.036965</td>\n",
       "    </tr>\n",
       "    <tr>\n",
       "      <th>...</th>\n",
       "      <td>...</td>\n",
       "      <td>...</td>\n",
       "      <td>...</td>\n",
       "      <td>...</td>\n",
       "      <td>...</td>\n",
       "      <td>...</td>\n",
       "    </tr>\n",
       "    <tr>\n",
       "      <th>2022-11-01</th>\n",
       "      <td>0.761905</td>\n",
       "      <td>3.142857</td>\n",
       "      <td>79.125849</td>\n",
       "      <td>25.516478</td>\n",
       "      <td>0.020426</td>\n",
       "      <td>0.017431</td>\n",
       "    </tr>\n",
       "    <tr>\n",
       "      <th>2022-12-01</th>\n",
       "      <td>0.714286</td>\n",
       "      <td>9.380952</td>\n",
       "      <td>72.749863</td>\n",
       "      <td>20.284564</td>\n",
       "      <td>0.017431</td>\n",
       "      <td>0.024915</td>\n",
       "    </tr>\n",
       "    <tr>\n",
       "      <th>2023-01-01</th>\n",
       "      <td>0.619048</td>\n",
       "      <td>13.904762</td>\n",
       "      <td>70.633234</td>\n",
       "      <td>17.770612</td>\n",
       "      <td>0.024915</td>\n",
       "      <td>0.024384</td>\n",
       "    </tr>\n",
       "    <tr>\n",
       "      <th>2023-02-01</th>\n",
       "      <td>0.380952</td>\n",
       "      <td>9.571429</td>\n",
       "      <td>72.482806</td>\n",
       "      <td>20.911195</td>\n",
       "      <td>0.024384</td>\n",
       "      <td>0.041880</td>\n",
       "    </tr>\n",
       "    <tr>\n",
       "      <th>2023-03-01</th>\n",
       "      <td>0.523810</td>\n",
       "      <td>3.523810</td>\n",
       "      <td>78.052354</td>\n",
       "      <td>26.843988</td>\n",
       "      <td>0.041880</td>\n",
       "      <td>0.032186</td>\n",
       "    </tr>\n",
       "  </tbody>\n",
       "</table>\n",
       "<p>207 rows × 6 columns</p>\n",
       "</div>"
      ],
      "text/plain": [
       "            AVG_Dry_Spell  AVG_Frost_Days  AVG_Max_High_Temp  \\\n",
       "Date                                                           \n",
       "2006-01-01       0.761905       15.761905          68.284760   \n",
       "2006-02-01       0.285714        8.619048          71.710266   \n",
       "2006-03-01       0.571429        4.238095          77.423640   \n",
       "2006-04-01       0.714286        0.190476          83.610128   \n",
       "2006-05-01       0.619048        0.000000          89.570718   \n",
       "...                   ...             ...                ...   \n",
       "2022-11-01       0.761905        3.142857          79.125849   \n",
       "2022-12-01       0.714286        9.380952          72.749863   \n",
       "2023-01-01       0.619048       13.904762          70.633234   \n",
       "2023-02-01       0.380952        9.571429          72.482806   \n",
       "2023-03-01       0.523810        3.523810          78.052354   \n",
       "\n",
       "            AVG_Min_Low_Temp  AVG_Precip_Percentile    Target  \n",
       "Date                                                           \n",
       "2006-01-01         16.643736               0.020218  0.035508  \n",
       "2006-02-01         18.613628               0.035508  0.025910  \n",
       "2006-03-01         25.492232               0.025910  0.050267  \n",
       "2006-04-01         36.425706               0.050267  0.068791  \n",
       "2006-05-01         48.237222               0.068791  0.036965  \n",
       "...                      ...                    ...       ...  \n",
       "2022-11-01         25.516478               0.020426  0.017431  \n",
       "2022-12-01         20.284564               0.017431  0.024915  \n",
       "2023-01-01         17.770612               0.024915  0.024384  \n",
       "2023-02-01         20.911195               0.024384  0.041880  \n",
       "2023-03-01         26.843988               0.041880  0.032186  \n",
       "\n",
       "[207 rows x 6 columns]"
      ]
     },
     "execution_count": 68,
     "metadata": {},
     "output_type": "execute_result"
    }
   ],
   "source": [
    "ack_df['Target'] = ack_df.shift(-1)['AVG_Precip_Percentile']\n",
    "ack_df = ack_df.iloc[:-3,:].copy()\n",
    "ack_df"
   ]
  },
  {
   "cell_type": "code",
   "execution_count": 69,
   "metadata": {},
   "outputs": [
    {
     "name": "stdout",
     "output_type": "stream",
     "text": [
      "Error:  0.011301574628479845\n",
      "r^2:  0.0056865946201482\n"
     ]
    }
   ],
   "source": [
    "error, r_square, akerman_combined = predict(predictors, ack_df, reg)"
   ]
  },
  {
   "cell_type": "code",
   "execution_count": 32,
   "metadata": {},
   "outputs": [
    {
     "name": "stdout",
     "output_type": "stream",
     "text": [
      "Intercepts:  [-0.00972896 -0.00114378 -0.00176282  0.00083755  0.03766707]\n",
      "              Actual  Prediction\n",
      "Date                            \n",
      "2019-11-01  0.008758    0.033150\n",
      "2019-12-01  0.023799    0.026084\n",
      "2020-01-01  0.015791    0.029949\n",
      "2020-02-01  0.037540    0.029844\n",
      "2020-03-01  0.027960    0.035625\n"
     ]
    },
    {
     "data": {
      "text/plain": [
       "<AxesSubplot:xlabel='Date'>"
      ]
     },
     "execution_count": 32,
     "metadata": {},
     "output_type": "execute_result"
    },
    {
     "data": {
      "image/png": "[encoded data removed]",
      "text/plain": [
       "<Figure size 432x288 with 1 Axes>"
      ]
     },
     "metadata": {
      "needs_background": "light"
     },
     "output_type": "display_data"
    }
   ],
   "source": [
    "print('Intercepts: ', reg.coef_)\n",
    "print(akerman_combined.head())\n",
    "akerman_combined.plot()"
   ]
  },
  {
   "attachments": {},
   "cell_type": "markdown",
   "metadata": {},
   "source": [
    "## Frost Days Prediction in Albany"
   ]
  },
  {
   "cell_type": "code",
   "execution_count": 72,
   "metadata": {},
   "outputs": [
    {
     "data": {
      "text/html": [
       "<div>\n",
       "<style scoped>\n",
       "    .dataframe tbody tr th:only-of-type {\n",
       "        vertical-align: middle;\n",
       "    }\n",
       "\n",
       "    .dataframe tbody tr th {\n",
       "        vertical-align: top;\n",
       "    }\n",
       "\n",
       "    .dataframe thead th {\n",
       "        text-align: right;\n",
       "    }\n",
       "</style>\n",
       "<table border=\"1\" class=\"dataframe\">\n",
       "  <thead>\n",
       "    <tr style=\"text-align: right;\">\n",
       "      <th></th>\n",
       "      <th>AVG_Dry_Spell</th>\n",
       "      <th>AVG_Frost_Days</th>\n",
       "      <th>AVG_Max_High_Temp</th>\n",
       "      <th>AVG_Min_Low_Temp</th>\n",
       "      <th>AVG_Precip_Percentile</th>\n",
       "      <th>Target</th>\n",
       "    </tr>\n",
       "    <tr>\n",
       "      <th>Date</th>\n",
       "      <th></th>\n",
       "      <th></th>\n",
       "      <th></th>\n",
       "      <th></th>\n",
       "      <th></th>\n",
       "      <th></th>\n",
       "    </tr>\n",
       "  </thead>\n",
       "  <tbody>\n",
       "    <tr>\n",
       "      <th>2006-01-01</th>\n",
       "      <td>1.000000</td>\n",
       "      <td>0.476190</td>\n",
       "      <td>65.503689</td>\n",
       "      <td>36.699087</td>\n",
       "      <td>0.024288</td>\n",
       "      <td>0.619048</td>\n",
       "    </tr>\n",
       "    <tr>\n",
       "      <th>2006-02-01</th>\n",
       "      <td>0.380952</td>\n",
       "      <td>0.619048</td>\n",
       "      <td>68.575741</td>\n",
       "      <td>37.137335</td>\n",
       "      <td>0.054996</td>\n",
       "      <td>0.000000</td>\n",
       "    </tr>\n",
       "    <tr>\n",
       "      <th>2006-03-01</th>\n",
       "      <td>0.761905</td>\n",
       "      <td>0.000000</td>\n",
       "      <td>72.179500</td>\n",
       "      <td>42.088860</td>\n",
       "      <td>0.016353</td>\n",
       "      <td>0.000000</td>\n",
       "    </tr>\n",
       "    <tr>\n",
       "      <th>2006-04-01</th>\n",
       "      <td>1.190476</td>\n",
       "      <td>0.000000</td>\n",
       "      <td>74.968146</td>\n",
       "      <td>43.077417</td>\n",
       "      <td>0.008492</td>\n",
       "      <td>0.000000</td>\n",
       "    </tr>\n",
       "    <tr>\n",
       "      <th>2006-05-01</th>\n",
       "      <td>1.714286</td>\n",
       "      <td>0.000000</td>\n",
       "      <td>77.666171</td>\n",
       "      <td>45.992517</td>\n",
       "      <td>0.000690</td>\n",
       "      <td>0.000000</td>\n",
       "    </tr>\n",
       "    <tr>\n",
       "      <th>...</th>\n",
       "      <td>...</td>\n",
       "      <td>...</td>\n",
       "      <td>...</td>\n",
       "      <td>...</td>\n",
       "      <td>...</td>\n",
       "      <td>...</td>\n",
       "    </tr>\n",
       "    <tr>\n",
       "      <th>2022-11-01</th>\n",
       "      <td>1.047619</td>\n",
       "      <td>0.190476</td>\n",
       "      <td>75.137506</td>\n",
       "      <td>40.119746</td>\n",
       "      <td>0.016749</td>\n",
       "      <td>0.333333</td>\n",
       "    </tr>\n",
       "    <tr>\n",
       "      <th>2022-12-01</th>\n",
       "      <td>0.761905</td>\n",
       "      <td>0.333333</td>\n",
       "      <td>66.630203</td>\n",
       "      <td>36.781461</td>\n",
       "      <td>0.049533</td>\n",
       "      <td>0.095238</td>\n",
       "    </tr>\n",
       "    <tr>\n",
       "      <th>2023-01-01</th>\n",
       "      <td>0.809524</td>\n",
       "      <td>0.095238</td>\n",
       "      <td>66.625767</td>\n",
       "      <td>38.080262</td>\n",
       "      <td>0.078666</td>\n",
       "      <td>0.095238</td>\n",
       "    </tr>\n",
       "    <tr>\n",
       "      <th>2023-02-01</th>\n",
       "      <td>0.857143</td>\n",
       "      <td>0.095238</td>\n",
       "      <td>70.169875</td>\n",
       "      <td>40.199439</td>\n",
       "      <td>0.030323</td>\n",
       "      <td>0.000000</td>\n",
       "    </tr>\n",
       "    <tr>\n",
       "      <th>2023-03-01</th>\n",
       "      <td>1.047619</td>\n",
       "      <td>0.000000</td>\n",
       "      <td>72.034770</td>\n",
       "      <td>41.586994</td>\n",
       "      <td>0.011267</td>\n",
       "      <td>0.000000</td>\n",
       "    </tr>\n",
       "  </tbody>\n",
       "</table>\n",
       "<p>207 rows × 6 columns</p>\n",
       "</div>"
      ],
      "text/plain": [
       "            AVG_Dry_Spell  AVG_Frost_Days  AVG_Max_High_Temp  \\\n",
       "Date                                                           \n",
       "2006-01-01       1.000000        0.476190          65.503689   \n",
       "2006-02-01       0.380952        0.619048          68.575741   \n",
       "2006-03-01       0.761905        0.000000          72.179500   \n",
       "2006-04-01       1.190476        0.000000          74.968146   \n",
       "2006-05-01       1.714286        0.000000          77.666171   \n",
       "...                   ...             ...                ...   \n",
       "2022-11-01       1.047619        0.190476          75.137506   \n",
       "2022-12-01       0.761905        0.333333          66.630203   \n",
       "2023-01-01       0.809524        0.095238          66.625767   \n",
       "2023-02-01       0.857143        0.095238          70.169875   \n",
       "2023-03-01       1.047619        0.000000          72.034770   \n",
       "\n",
       "            AVG_Min_Low_Temp  AVG_Precip_Percentile    Target  \n",
       "Date                                                           \n",
       "2006-01-01         36.699087               0.024288  0.619048  \n",
       "2006-02-01         37.137335               0.054996  0.000000  \n",
       "2006-03-01         42.088860               0.016353  0.000000  \n",
       "2006-04-01         43.077417               0.008492  0.000000  \n",
       "2006-05-01         45.992517               0.000690  0.000000  \n",
       "...                      ...                    ...       ...  \n",
       "2022-11-01         40.119746               0.016749  0.333333  \n",
       "2022-12-01         36.781461               0.049533  0.095238  \n",
       "2023-01-01         38.080262               0.078666  0.095238  \n",
       "2023-02-01         40.199439               0.030323  0.000000  \n",
       "2023-03-01         41.586994               0.011267  0.000000  \n",
       "\n",
       "[207 rows x 6 columns]"
      ]
     },
     "execution_count": 72,
     "metadata": {},
     "output_type": "execute_result"
    }
   ],
   "source": [
    "albany_df['Target'] = albany_df.shift(-1)['AVG_Frost_Days']\n",
    "albany_df = albany_df.iloc[:-3,:].copy()\n",
    "albany_df"
   ]
  },
  {
   "cell_type": "code",
   "execution_count": 73,
   "metadata": {},
   "outputs": [
    {
     "name": "stdout",
     "output_type": "stream",
     "text": [
      "Error:  0.066839271241332\n",
      "r^2:  0.33051078442405846\n"
     ]
    }
   ],
   "source": [
    "error, r_square, albany_combined = predict(predictors, albany_df, reg)"
   ]
  },
  {
   "cell_type": "code",
   "execution_count": 22,
   "metadata": {},
   "outputs": [
    {
     "name": "stdout",
     "output_type": "stream",
     "text": [
      "Intercepts:  [ 0.01802534  0.27710369 -0.00134875 -0.00560657 -0.20690187]\n",
      "              Actual  Prediction\n",
      "Date                            \n",
      "2019-11-01  0.047619    0.086385\n",
      "2019-12-01  0.095238    0.101883\n",
      "2020-01-01  0.047619    0.110137\n",
      "2020-02-01  0.190476    0.066595\n",
      "2020-03-01  0.000000    0.115587\n"
     ]
    },
    {
     "data": {
      "text/plain": [
       "<AxesSubplot:xlabel='Date'>"
      ]
     },
     "execution_count": 22,
     "metadata": {},
     "output_type": "execute_result"
    },
    {
     "data": {
      "image/png": "[encoded data removed]",
      "text/plain": [
       "<Figure size 432x288 with 1 Axes>"
      ]
     },
     "metadata": {
      "needs_background": "light"
     },
     "output_type": "display_data"
    }
   ],
   "source": [
    "print('Intercepts: ', reg.coef_)\n",
    "print(albany_combined.head())\n",
    "albany_combined.plot()"
   ]
  },
  {
   "attachments": {},
   "cell_type": "markdown",
   "metadata": {},
   "source": [
    "## Precipitation  Percentile Prediction in Albany"
   ]
  },
  {
   "cell_type": "code",
   "execution_count": 79,
   "metadata": {},
   "outputs": [
    {
     "data": {
      "text/html": [
       "<div>\n",
       "<style scoped>\n",
       "    .dataframe tbody tr th:only-of-type {\n",
       "        vertical-align: middle;\n",
       "    }\n",
       "\n",
       "    .dataframe tbody tr th {\n",
       "        vertical-align: top;\n",
       "    }\n",
       "\n",
       "    .dataframe thead th {\n",
       "        text-align: right;\n",
       "    }\n",
       "</style>\n",
       "<table border=\"1\" class=\"dataframe\">\n",
       "  <thead>\n",
       "    <tr style=\"text-align: right;\">\n",
       "      <th></th>\n",
       "      <th>AVG_Dry_Spell</th>\n",
       "      <th>AVG_Frost_Days</th>\n",
       "      <th>AVG_Max_High_Temp</th>\n",
       "      <th>AVG_Min_Low_Temp</th>\n",
       "      <th>AVG_Precip_Percentile</th>\n",
       "      <th>Target</th>\n",
       "    </tr>\n",
       "    <tr>\n",
       "      <th>Date</th>\n",
       "      <th></th>\n",
       "      <th></th>\n",
       "      <th></th>\n",
       "      <th></th>\n",
       "      <th></th>\n",
       "      <th></th>\n",
       "    </tr>\n",
       "  </thead>\n",
       "  <tbody>\n",
       "    <tr>\n",
       "      <th>2006-01-01</th>\n",
       "      <td>1.000000</td>\n",
       "      <td>0.476190</td>\n",
       "      <td>65.503689</td>\n",
       "      <td>36.699087</td>\n",
       "      <td>0.024288</td>\n",
       "      <td>0.054996</td>\n",
       "    </tr>\n",
       "    <tr>\n",
       "      <th>2006-02-01</th>\n",
       "      <td>0.380952</td>\n",
       "      <td>0.619048</td>\n",
       "      <td>68.575741</td>\n",
       "      <td>37.137335</td>\n",
       "      <td>0.054996</td>\n",
       "      <td>0.016353</td>\n",
       "    </tr>\n",
       "    <tr>\n",
       "      <th>2006-03-01</th>\n",
       "      <td>0.761905</td>\n",
       "      <td>0.000000</td>\n",
       "      <td>72.179500</td>\n",
       "      <td>42.088860</td>\n",
       "      <td>0.016353</td>\n",
       "      <td>0.008492</td>\n",
       "    </tr>\n",
       "    <tr>\n",
       "      <th>2006-04-01</th>\n",
       "      <td>1.190476</td>\n",
       "      <td>0.000000</td>\n",
       "      <td>74.968146</td>\n",
       "      <td>43.077417</td>\n",
       "      <td>0.008492</td>\n",
       "      <td>0.000690</td>\n",
       "    </tr>\n",
       "    <tr>\n",
       "      <th>2006-05-01</th>\n",
       "      <td>1.714286</td>\n",
       "      <td>0.000000</td>\n",
       "      <td>77.666171</td>\n",
       "      <td>45.992517</td>\n",
       "      <td>0.000690</td>\n",
       "      <td>0.000000</td>\n",
       "    </tr>\n",
       "    <tr>\n",
       "      <th>...</th>\n",
       "      <td>...</td>\n",
       "      <td>...</td>\n",
       "      <td>...</td>\n",
       "      <td>...</td>\n",
       "      <td>...</td>\n",
       "      <td>...</td>\n",
       "    </tr>\n",
       "    <tr>\n",
       "      <th>2022-11-01</th>\n",
       "      <td>1.047619</td>\n",
       "      <td>0.190476</td>\n",
       "      <td>75.137506</td>\n",
       "      <td>40.119746</td>\n",
       "      <td>0.016749</td>\n",
       "      <td>0.049533</td>\n",
       "    </tr>\n",
       "    <tr>\n",
       "      <th>2022-12-01</th>\n",
       "      <td>0.761905</td>\n",
       "      <td>0.333333</td>\n",
       "      <td>66.630203</td>\n",
       "      <td>36.781461</td>\n",
       "      <td>0.049533</td>\n",
       "      <td>0.078666</td>\n",
       "    </tr>\n",
       "    <tr>\n",
       "      <th>2023-01-01</th>\n",
       "      <td>0.809524</td>\n",
       "      <td>0.095238</td>\n",
       "      <td>66.625767</td>\n",
       "      <td>38.080262</td>\n",
       "      <td>0.078666</td>\n",
       "      <td>0.030323</td>\n",
       "    </tr>\n",
       "    <tr>\n",
       "      <th>2023-02-01</th>\n",
       "      <td>0.857143</td>\n",
       "      <td>0.095238</td>\n",
       "      <td>70.169875</td>\n",
       "      <td>40.199439</td>\n",
       "      <td>0.030323</td>\n",
       "      <td>0.011267</td>\n",
       "    </tr>\n",
       "    <tr>\n",
       "      <th>2023-03-01</th>\n",
       "      <td>1.047619</td>\n",
       "      <td>0.000000</td>\n",
       "      <td>72.034770</td>\n",
       "      <td>41.586994</td>\n",
       "      <td>0.011267</td>\n",
       "      <td>0.004574</td>\n",
       "    </tr>\n",
       "  </tbody>\n",
       "</table>\n",
       "<p>207 rows × 6 columns</p>\n",
       "</div>"
      ],
      "text/plain": [
       "            AVG_Dry_Spell  AVG_Frost_Days  AVG_Max_High_Temp  \\\n",
       "Date                                                           \n",
       "2006-01-01       1.000000        0.476190          65.503689   \n",
       "2006-02-01       0.380952        0.619048          68.575741   \n",
       "2006-03-01       0.761905        0.000000          72.179500   \n",
       "2006-04-01       1.190476        0.000000          74.968146   \n",
       "2006-05-01       1.714286        0.000000          77.666171   \n",
       "...                   ...             ...                ...   \n",
       "2022-11-01       1.047619        0.190476          75.137506   \n",
       "2022-12-01       0.761905        0.333333          66.630203   \n",
       "2023-01-01       0.809524        0.095238          66.625767   \n",
       "2023-02-01       0.857143        0.095238          70.169875   \n",
       "2023-03-01       1.047619        0.000000          72.034770   \n",
       "\n",
       "            AVG_Min_Low_Temp  AVG_Precip_Percentile    Target  \n",
       "Date                                                           \n",
       "2006-01-01         36.699087               0.024288  0.054996  \n",
       "2006-02-01         37.137335               0.054996  0.016353  \n",
       "2006-03-01         42.088860               0.016353  0.008492  \n",
       "2006-04-01         43.077417               0.008492  0.000690  \n",
       "2006-05-01         45.992517               0.000690  0.000000  \n",
       "...                      ...                    ...       ...  \n",
       "2022-11-01         40.119746               0.016749  0.049533  \n",
       "2022-12-01         36.781461               0.049533  0.078666  \n",
       "2023-01-01         38.080262               0.078666  0.030323  \n",
       "2023-02-01         40.199439               0.030323  0.011267  \n",
       "2023-03-01         41.586994               0.011267  0.004574  \n",
       "\n",
       "[207 rows x 6 columns]"
      ]
     },
     "execution_count": 79,
     "metadata": {},
     "output_type": "execute_result"
    }
   ],
   "source": [
    "albany_df['Target'] = albany_df.shift(-1)['AVG_Precip_Percentile']\n",
    "albany_df = albany_df.iloc[:-3,:].copy()\n",
    "albany_df"
   ]
  },
  {
   "cell_type": "code",
   "execution_count": 80,
   "metadata": {},
   "outputs": [
    {
     "name": "stdout",
     "output_type": "stream",
     "text": [
      "Error:  0.010488244916233916\n",
      "r^2:  0.42697381378764454\n"
     ]
    }
   ],
   "source": [
    "error, r_square, albany_combined = predict(predictors, albany_df, reg)"
   ]
  },
  {
   "cell_type": "code",
   "execution_count": 81,
   "metadata": {},
   "outputs": [
    {
     "name": "stdout",
     "output_type": "stream",
     "text": [
      "Intercepts:  [-0.00094447  0.01523375 -0.00129279 -0.00050978  0.02520089]\n",
      "              Actual  Prediction\n",
      "Date                            \n",
      "2019-11-01  0.014858    0.017661\n",
      "2019-12-01  0.021350    0.029614\n",
      "2020-01-01  0.054410    0.030921\n",
      "2020-02-01  0.016609    0.023579\n",
      "2020-03-01  0.002640    0.020151\n"
     ]
    },
    {
     "data": {
      "text/plain": [
       "<AxesSubplot:xlabel='Date'>"
      ]
     },
     "execution_count": 81,
     "metadata": {},
     "output_type": "execute_result"
    },
    {
     "data": {
      "image/png": "[encoded data removed]",
      "text/plain": [
       "<Figure size 432x288 with 1 Axes>"
      ]
     },
     "metadata": {
      "needs_background": "light"
     },
     "output_type": "display_data"
    }
   ],
   "source": [
    "print('Intercepts: ', reg.coef_)\n",
    "print(albany_combined.head())\n",
    "albany_combined.plot()"
   ]
  },
  {
   "attachments": {},
   "cell_type": "markdown",
   "metadata": {},
   "source": [
    "## Frost Days Prediction in Alachua"
   ]
  },
  {
   "cell_type": "code",
   "execution_count": 74,
   "metadata": {},
   "outputs": [
    {
     "data": {
      "text/html": [
       "<div>\n",
       "<style scoped>\n",
       "    .dataframe tbody tr th:only-of-type {\n",
       "        vertical-align: middle;\n",
       "    }\n",
       "\n",
       "    .dataframe tbody tr th {\n",
       "        vertical-align: top;\n",
       "    }\n",
       "\n",
       "    .dataframe thead th {\n",
       "        text-align: right;\n",
       "    }\n",
       "</style>\n",
       "<table border=\"1\" class=\"dataframe\">\n",
       "  <thead>\n",
       "    <tr style=\"text-align: right;\">\n",
       "      <th></th>\n",
       "      <th>AVG_Dry_Spell</th>\n",
       "      <th>AVG_Frost_Days</th>\n",
       "      <th>AVG_Max_High_Temp</th>\n",
       "      <th>AVG_Min_Low_Temp</th>\n",
       "      <th>AVG_Precip_Percentile</th>\n",
       "      <th>Target</th>\n",
       "    </tr>\n",
       "    <tr>\n",
       "      <th>Date</th>\n",
       "      <th></th>\n",
       "      <th></th>\n",
       "      <th></th>\n",
       "      <th></th>\n",
       "      <th></th>\n",
       "      <th></th>\n",
       "    </tr>\n",
       "  </thead>\n",
       "  <tbody>\n",
       "    <tr>\n",
       "      <th>2006-01-01</th>\n",
       "      <td>0.714286</td>\n",
       "      <td>2.714286</td>\n",
       "      <td>78.249658</td>\n",
       "      <td>27.608118</td>\n",
       "      <td>0.025237</td>\n",
       "      <td>0.029095</td>\n",
       "    </tr>\n",
       "    <tr>\n",
       "      <th>2006-02-01</th>\n",
       "      <td>0.428571</td>\n",
       "      <td>0.952381</td>\n",
       "      <td>81.318539</td>\n",
       "      <td>32.829384</td>\n",
       "      <td>0.029095</td>\n",
       "      <td>0.008301</td>\n",
       "    </tr>\n",
       "    <tr>\n",
       "      <th>2006-03-01</th>\n",
       "      <td>0.952381</td>\n",
       "      <td>0.476190</td>\n",
       "      <td>84.662147</td>\n",
       "      <td>35.377309</td>\n",
       "      <td>0.008301</td>\n",
       "      <td>0.016765</td>\n",
       "    </tr>\n",
       "    <tr>\n",
       "      <th>2006-04-01</th>\n",
       "      <td>0.857143</td>\n",
       "      <td>0.000000</td>\n",
       "      <td>90.444171</td>\n",
       "      <td>45.618184</td>\n",
       "      <td>0.016765</td>\n",
       "      <td>0.040942</td>\n",
       "    </tr>\n",
       "    <tr>\n",
       "      <th>2006-05-01</th>\n",
       "      <td>0.761905</td>\n",
       "      <td>0.000000</td>\n",
       "      <td>95.701762</td>\n",
       "      <td>55.105053</td>\n",
       "      <td>0.040942</td>\n",
       "      <td>0.080165</td>\n",
       "    </tr>\n",
       "    <tr>\n",
       "      <th>...</th>\n",
       "      <td>...</td>\n",
       "      <td>...</td>\n",
       "      <td>...</td>\n",
       "      <td>...</td>\n",
       "      <td>...</td>\n",
       "      <td>...</td>\n",
       "    </tr>\n",
       "    <tr>\n",
       "      <th>2022-11-01</th>\n",
       "      <td>0.952381</td>\n",
       "      <td>0.142857</td>\n",
       "      <td>86.245411</td>\n",
       "      <td>39.871050</td>\n",
       "      <td>0.006682</td>\n",
       "      <td>0.013194</td>\n",
       "    </tr>\n",
       "    <tr>\n",
       "      <th>2022-12-01</th>\n",
       "      <td>1.095238</td>\n",
       "      <td>1.238095</td>\n",
       "      <td>81.418748</td>\n",
       "      <td>31.882749</td>\n",
       "      <td>0.013194</td>\n",
       "      <td>0.020701</td>\n",
       "    </tr>\n",
       "    <tr>\n",
       "      <th>2023-01-01</th>\n",
       "      <td>0.809524</td>\n",
       "      <td>1.285714</td>\n",
       "      <td>79.538338</td>\n",
       "      <td>29.248816</td>\n",
       "      <td>0.020701</td>\n",
       "      <td>0.014978</td>\n",
       "    </tr>\n",
       "    <tr>\n",
       "      <th>2023-02-01</th>\n",
       "      <td>0.666667</td>\n",
       "      <td>0.952381</td>\n",
       "      <td>81.193504</td>\n",
       "      <td>32.853444</td>\n",
       "      <td>0.014978</td>\n",
       "      <td>0.015862</td>\n",
       "    </tr>\n",
       "    <tr>\n",
       "      <th>2023-03-01</th>\n",
       "      <td>0.809524</td>\n",
       "      <td>0.285714</td>\n",
       "      <td>85.630516</td>\n",
       "      <td>38.346064</td>\n",
       "      <td>0.015862</td>\n",
       "      <td>0.012846</td>\n",
       "    </tr>\n",
       "  </tbody>\n",
       "</table>\n",
       "<p>207 rows × 6 columns</p>\n",
       "</div>"
      ],
      "text/plain": [
       "            AVG_Dry_Spell  AVG_Frost_Days  AVG_Max_High_Temp  \\\n",
       "Date                                                           \n",
       "2006-01-01       0.714286        2.714286          78.249658   \n",
       "2006-02-01       0.428571        0.952381          81.318539   \n",
       "2006-03-01       0.952381        0.476190          84.662147   \n",
       "2006-04-01       0.857143        0.000000          90.444171   \n",
       "2006-05-01       0.761905        0.000000          95.701762   \n",
       "...                   ...             ...                ...   \n",
       "2022-11-01       0.952381        0.142857          86.245411   \n",
       "2022-12-01       1.095238        1.238095          81.418748   \n",
       "2023-01-01       0.809524        1.285714          79.538338   \n",
       "2023-02-01       0.666667        0.952381          81.193504   \n",
       "2023-03-01       0.809524        0.285714          85.630516   \n",
       "\n",
       "            AVG_Min_Low_Temp  AVG_Precip_Percentile    Target  \n",
       "Date                                                           \n",
       "2006-01-01         27.608118               0.025237  0.029095  \n",
       "2006-02-01         32.829384               0.029095  0.008301  \n",
       "2006-03-01         35.377309               0.008301  0.016765  \n",
       "2006-04-01         45.618184               0.016765  0.040942  \n",
       "2006-05-01         55.105053               0.040942  0.080165  \n",
       "...                      ...                    ...       ...  \n",
       "2022-11-01         39.871050               0.006682  0.013194  \n",
       "2022-12-01         31.882749               0.013194  0.020701  \n",
       "2023-01-01         29.248816               0.020701  0.014978  \n",
       "2023-02-01         32.853444               0.014978  0.015862  \n",
       "2023-03-01         38.346064               0.015862  0.012846  \n",
       "\n",
       "[207 rows x 6 columns]"
      ]
     },
     "execution_count": 74,
     "metadata": {},
     "output_type": "execute_result"
    }
   ],
   "source": [
    "alachua_df['Target'] = alachua_df.shift(-1)['AVG_Precip_Percentile']\n",
    "alachua_df = alachua_df.iloc[:-3,:].copy()\n",
    "alachua_df"
   ]
  },
  {
   "cell_type": "code",
   "execution_count": 75,
   "metadata": {},
   "outputs": [
    {
     "name": "stdout",
     "output_type": "stream",
     "text": [
      "Error:  0.01758760753779788\n",
      "r^2:  0.6648131187003211\n"
     ]
    }
   ],
   "source": [
    "error, r_square, alachua_combined = predict(predictors, alachua_df, reg)"
   ]
  },
  {
   "cell_type": "code",
   "execution_count": 25,
   "metadata": {},
   "outputs": [
    {
     "name": "stdout",
     "output_type": "stream",
     "text": [
      "Intercepts:  [-0.03081729  0.02129047  0.00944872 -0.00286186  0.09805056]\n",
      "              Actual  Prediction\n",
      "Date                            \n",
      "2019-11-01  0.017071    0.019470\n",
      "2019-12-01  0.014121   -0.001227\n",
      "2020-01-01  0.023515    0.023048\n",
      "2020-02-01  0.009832    0.011792\n",
      "2020-03-01  0.013203    0.024820\n"
     ]
    },
    {
     "data": {
      "text/plain": [
       "<AxesSubplot:xlabel='Date'>"
      ]
     },
     "execution_count": 25,
     "metadata": {},
     "output_type": "execute_result"
    },
    {
     "data": {
      "image/png": "[encoded data removed]",
      "text/plain": [
       "<Figure size 432x288 with 1 Axes>"
      ]
     },
     "metadata": {
      "needs_background": "light"
     },
     "output_type": "display_data"
    }
   ],
   "source": [
    "print('Intercepts: ', reg.coef_)\n",
    "print(alachua_combined.head())\n",
    "alachua_combined.plot()"
   ]
  },
  {
   "attachments": {},
   "cell_type": "markdown",
   "metadata": {},
   "source": [
    "## Precipitation  Percentile Prediction in Alachua"
   ]
  },
  {
   "cell_type": "code",
   "execution_count": 82,
   "metadata": {},
   "outputs": [
    {
     "data": {
      "text/html": [
       "<div>\n",
       "<style scoped>\n",
       "    .dataframe tbody tr th:only-of-type {\n",
       "        vertical-align: middle;\n",
       "    }\n",
       "\n",
       "    .dataframe tbody tr th {\n",
       "        vertical-align: top;\n",
       "    }\n",
       "\n",
       "    .dataframe thead th {\n",
       "        text-align: right;\n",
       "    }\n",
       "</style>\n",
       "<table border=\"1\" class=\"dataframe\">\n",
       "  <thead>\n",
       "    <tr style=\"text-align: right;\">\n",
       "      <th></th>\n",
       "      <th>AVG_Dry_Spell</th>\n",
       "      <th>AVG_Frost_Days</th>\n",
       "      <th>AVG_Max_High_Temp</th>\n",
       "      <th>AVG_Min_Low_Temp</th>\n",
       "      <th>AVG_Precip_Percentile</th>\n",
       "      <th>Target</th>\n",
       "    </tr>\n",
       "    <tr>\n",
       "      <th>Date</th>\n",
       "      <th></th>\n",
       "      <th></th>\n",
       "      <th></th>\n",
       "      <th></th>\n",
       "      <th></th>\n",
       "      <th></th>\n",
       "    </tr>\n",
       "  </thead>\n",
       "  <tbody>\n",
       "    <tr>\n",
       "      <th>2006-01-01</th>\n",
       "      <td>0.714286</td>\n",
       "      <td>2.714286</td>\n",
       "      <td>78.249658</td>\n",
       "      <td>27.608118</td>\n",
       "      <td>0.025237</td>\n",
       "      <td>0.029095</td>\n",
       "    </tr>\n",
       "    <tr>\n",
       "      <th>2006-02-01</th>\n",
       "      <td>0.428571</td>\n",
       "      <td>0.952381</td>\n",
       "      <td>81.318539</td>\n",
       "      <td>32.829384</td>\n",
       "      <td>0.029095</td>\n",
       "      <td>0.008301</td>\n",
       "    </tr>\n",
       "    <tr>\n",
       "      <th>2006-03-01</th>\n",
       "      <td>0.952381</td>\n",
       "      <td>0.476190</td>\n",
       "      <td>84.662147</td>\n",
       "      <td>35.377309</td>\n",
       "      <td>0.008301</td>\n",
       "      <td>0.016765</td>\n",
       "    </tr>\n",
       "    <tr>\n",
       "      <th>2006-04-01</th>\n",
       "      <td>0.857143</td>\n",
       "      <td>0.000000</td>\n",
       "      <td>90.444171</td>\n",
       "      <td>45.618184</td>\n",
       "      <td>0.016765</td>\n",
       "      <td>0.040942</td>\n",
       "    </tr>\n",
       "    <tr>\n",
       "      <th>2006-05-01</th>\n",
       "      <td>0.761905</td>\n",
       "      <td>0.000000</td>\n",
       "      <td>95.701762</td>\n",
       "      <td>55.105053</td>\n",
       "      <td>0.040942</td>\n",
       "      <td>0.080165</td>\n",
       "    </tr>\n",
       "    <tr>\n",
       "      <th>...</th>\n",
       "      <td>...</td>\n",
       "      <td>...</td>\n",
       "      <td>...</td>\n",
       "      <td>...</td>\n",
       "      <td>...</td>\n",
       "      <td>...</td>\n",
       "    </tr>\n",
       "    <tr>\n",
       "      <th>2022-11-01</th>\n",
       "      <td>0.952381</td>\n",
       "      <td>0.142857</td>\n",
       "      <td>86.245411</td>\n",
       "      <td>39.871050</td>\n",
       "      <td>0.006682</td>\n",
       "      <td>0.013194</td>\n",
       "    </tr>\n",
       "    <tr>\n",
       "      <th>2022-12-01</th>\n",
       "      <td>1.095238</td>\n",
       "      <td>1.238095</td>\n",
       "      <td>81.418748</td>\n",
       "      <td>31.882749</td>\n",
       "      <td>0.013194</td>\n",
       "      <td>0.020701</td>\n",
       "    </tr>\n",
       "    <tr>\n",
       "      <th>2023-01-01</th>\n",
       "      <td>0.809524</td>\n",
       "      <td>1.285714</td>\n",
       "      <td>79.538338</td>\n",
       "      <td>29.248816</td>\n",
       "      <td>0.020701</td>\n",
       "      <td>0.014978</td>\n",
       "    </tr>\n",
       "    <tr>\n",
       "      <th>2023-02-01</th>\n",
       "      <td>0.666667</td>\n",
       "      <td>0.952381</td>\n",
       "      <td>81.193504</td>\n",
       "      <td>32.853444</td>\n",
       "      <td>0.014978</td>\n",
       "      <td>0.015862</td>\n",
       "    </tr>\n",
       "    <tr>\n",
       "      <th>2023-03-01</th>\n",
       "      <td>0.809524</td>\n",
       "      <td>0.285714</td>\n",
       "      <td>85.630516</td>\n",
       "      <td>38.346064</td>\n",
       "      <td>0.015862</td>\n",
       "      <td>0.012846</td>\n",
       "    </tr>\n",
       "  </tbody>\n",
       "</table>\n",
       "<p>207 rows × 6 columns</p>\n",
       "</div>"
      ],
      "text/plain": [
       "            AVG_Dry_Spell  AVG_Frost_Days  AVG_Max_High_Temp  \\\n",
       "Date                                                           \n",
       "2006-01-01       0.714286        2.714286          78.249658   \n",
       "2006-02-01       0.428571        0.952381          81.318539   \n",
       "2006-03-01       0.952381        0.476190          84.662147   \n",
       "2006-04-01       0.857143        0.000000          90.444171   \n",
       "2006-05-01       0.761905        0.000000          95.701762   \n",
       "...                   ...             ...                ...   \n",
       "2022-11-01       0.952381        0.142857          86.245411   \n",
       "2022-12-01       1.095238        1.238095          81.418748   \n",
       "2023-01-01       0.809524        1.285714          79.538338   \n",
       "2023-02-01       0.666667        0.952381          81.193504   \n",
       "2023-03-01       0.809524        0.285714          85.630516   \n",
       "\n",
       "            AVG_Min_Low_Temp  AVG_Precip_Percentile    Target  \n",
       "Date                                                           \n",
       "2006-01-01         27.608118               0.025237  0.029095  \n",
       "2006-02-01         32.829384               0.029095  0.008301  \n",
       "2006-03-01         35.377309               0.008301  0.016765  \n",
       "2006-04-01         45.618184               0.016765  0.040942  \n",
       "2006-05-01         55.105053               0.040942  0.080165  \n",
       "...                      ...                    ...       ...  \n",
       "2022-11-01         39.871050               0.006682  0.013194  \n",
       "2022-12-01         31.882749               0.013194  0.020701  \n",
       "2023-01-01         29.248816               0.020701  0.014978  \n",
       "2023-02-01         32.853444               0.014978  0.015862  \n",
       "2023-03-01         38.346064               0.015862  0.012846  \n",
       "\n",
       "[207 rows x 6 columns]"
      ]
     },
     "execution_count": 82,
     "metadata": {},
     "output_type": "execute_result"
    }
   ],
   "source": [
    "alachua_df['Target'] = alachua_df.shift(-1)['AVG_Precip_Percentile']\n",
    "alachua_df = alachua_df.iloc[:-3,:].copy()\n",
    "alachua_df"
   ]
  },
  {
   "cell_type": "code",
   "execution_count": 83,
   "metadata": {},
   "outputs": [
    {
     "name": "stdout",
     "output_type": "stream",
     "text": [
      "Error:  0.01758760753779788\n",
      "r^2:  0.6648131187003211\n"
     ]
    }
   ],
   "source": [
    "error, r_square, alachua_combined = predict(predictors, alachua_df, reg)"
   ]
  },
  {
   "cell_type": "code",
   "execution_count": 84,
   "metadata": {},
   "outputs": [
    {
     "name": "stdout",
     "output_type": "stream",
     "text": [
      "Intercepts:  [-0.03081729  0.02129047  0.00944872 -0.00286186  0.09805056]\n",
      "              Actual  Prediction\n",
      "Date                            \n",
      "2019-11-01  0.017071    0.019470\n",
      "2019-12-01  0.014121   -0.001227\n",
      "2020-01-01  0.023515    0.023048\n",
      "2020-02-01  0.009832    0.011792\n",
      "2020-03-01  0.013203    0.024820\n"
     ]
    },
    {
     "data": {
      "text/plain": [
       "<AxesSubplot:xlabel='Date'>"
      ]
     },
     "execution_count": 84,
     "metadata": {},
     "output_type": "execute_result"
    },
    {
     "data": {
      "image/png": "[encoded data removed]",
      "text/plain": [
       "<Figure size 432x288 with 1 Axes>"
      ]
     },
     "metadata": {
      "needs_background": "light"
     },
     "output_type": "display_data"
    }
   ],
   "source": [
    "print('Intercepts: ', reg.coef_)\n",
    "print(alachua_combined.head())\n",
    "alachua_combined.plot()"
   ]
  },
  {
   "attachments": {},
   "cell_type": "markdown",
   "metadata": {},
   "source": [
    "# Predictions"
   ]
  },
  {
   "cell_type": "code",
   "execution_count": 55,
   "metadata": {},
   "outputs": [],
   "source": [
    "#Getting this months data for each city\n",
    "adelphi_april = adelphi_df.iloc[207:208][predictors]\n",
    "ack_april = ack_df.iloc[207:208][predictors]\n",
    "albany_april = albany_df.iloc[207:208][predictors]\n",
    "alachua_april = alachua_df.iloc[207:208][predictors]"
   ]
  },
  {
   "cell_type": "code",
   "execution_count": 56,
   "metadata": {},
   "outputs": [
    {
     "data": {
      "text/html": [
       "<div>\n",
       "<style scoped>\n",
       "    .dataframe tbody tr th:only-of-type {\n",
       "        vertical-align: middle;\n",
       "    }\n",
       "\n",
       "    .dataframe tbody tr th {\n",
       "        vertical-align: top;\n",
       "    }\n",
       "\n",
       "    .dataframe thead th {\n",
       "        text-align: right;\n",
       "    }\n",
       "</style>\n",
       "<table border=\"1\" class=\"dataframe\">\n",
       "  <thead>\n",
       "    <tr style=\"text-align: right;\">\n",
       "      <th></th>\n",
       "      <th>AVG_Dry_Spell</th>\n",
       "      <th>AVG_Frost_Days</th>\n",
       "      <th>AVG_Max_High_Temp</th>\n",
       "      <th>AVG_Min_Low_Temp</th>\n",
       "      <th>AVG_Precip_Percentile</th>\n",
       "    </tr>\n",
       "    <tr>\n",
       "      <th>Date</th>\n",
       "      <th></th>\n",
       "      <th></th>\n",
       "      <th></th>\n",
       "      <th></th>\n",
       "      <th></th>\n",
       "    </tr>\n",
       "  </thead>\n",
       "  <tbody>\n",
       "    <tr>\n",
       "      <th>2023-04-01</th>\n",
       "      <td>0.238095</td>\n",
       "      <td>1.333333</td>\n",
       "      <td>83.160816</td>\n",
       "      <td>31.140722</td>\n",
       "      <td>0.018859</td>\n",
       "    </tr>\n",
       "  </tbody>\n",
       "</table>\n",
       "</div>"
      ],
      "text/plain": [
       "            AVG_Dry_Spell  AVG_Frost_Days  AVG_Max_High_Temp  \\\n",
       "Date                                                           \n",
       "2023-04-01       0.238095        1.333333          83.160816   \n",
       "\n",
       "            AVG_Min_Low_Temp  AVG_Precip_Percentile  \n",
       "Date                                                 \n",
       "2023-04-01         31.140722               0.018859  "
      ]
     },
     "execution_count": 56,
     "metadata": {},
     "output_type": "execute_result"
    }
   ],
   "source": [
    "adelphi_april"
   ]
  },
  {
   "cell_type": "code",
   "execution_count": 57,
   "metadata": {},
   "outputs": [
    {
     "name": "stdout",
     "output_type": "stream",
     "text": [
      "Avg Frost Days for May in Adelphi:  [0.87786056]\n"
     ]
    }
   ],
   "source": [
    "print(\"Avg Frost Days for May in Adelphi: \", reg.predict(adelphi_april))"
   ]
  },
  {
   "cell_type": "code",
   "execution_count": 61,
   "metadata": {},
   "outputs": [
    {
     "name": "stdout",
     "output_type": "stream",
     "text": [
      "Avg Precipitation Percentile for May in Adelphi:  [0.03866022]\n"
     ]
    }
   ],
   "source": [
    "print(\"Avg Precipitation Percentile for May in Adelphi: \", reg.predict(adelphi_april))"
   ]
  },
  {
   "cell_type": "code",
   "execution_count": 66,
   "metadata": {},
   "outputs": [
    {
     "name": "stdout",
     "output_type": "stream",
     "text": [
      "Avg Frost Days for May in Akerman:  [0.61548694]\n"
     ]
    }
   ],
   "source": [
    "print(\"Avg Frost Days for May in Akerman: \", reg.predict(ack_april))"
   ]
  },
  {
   "cell_type": "code",
   "execution_count": 70,
   "metadata": {},
   "outputs": [
    {
     "name": "stdout",
     "output_type": "stream",
     "text": [
      "Avg Precipitation Percentile for May in Akerman:  [0.03368333]\n"
     ]
    }
   ],
   "source": [
    "print(\"Avg Precipitation Percentile for May in Akerman: \", reg.predict(ack_april))"
   ]
  },
  {
   "cell_type": "code",
   "execution_count": 76,
   "metadata": {},
   "outputs": [
    {
     "name": "stdout",
     "output_type": "stream",
     "text": [
      "Avg Frost Days for May in Albany:  [-0.11946896]\n"
     ]
    }
   ],
   "source": [
    "print(\"Avg Frost Days for May in Albany: \", reg.predict(albany_april))"
   ]
  },
  {
   "cell_type": "code",
   "execution_count": 85,
   "metadata": {},
   "outputs": [
    {
     "name": "stdout",
     "output_type": "stream",
     "text": [
      "Avg Precipitation Percentile for May in Albany:  [-0.11946896]\n"
     ]
    }
   ],
   "source": [
    "print(\"Avg Precipitation Percentile for May in Albany: \", reg.predict(albany_april))"
   ]
  },
  {
   "cell_type": "code",
   "execution_count": 77,
   "metadata": {},
   "outputs": [
    {
     "name": "stdout",
     "output_type": "stream",
     "text": [
      "Avg Frost Days for May in Alachua:  [0.0480071]\n"
     ]
    }
   ],
   "source": [
    "print(\"Avg Frost Days for May in Alachua: \", reg.predict(alachua_april))"
   ]
  },
  {
   "cell_type": "code",
   "execution_count": 86,
   "metadata": {
    "scrolled": true
   },
   "outputs": [
    {
     "name": "stdout",
     "output_type": "stream",
     "text": [
      "Avg Precipitation Percentile for May in Alachua:  [0.0480071]\n"
     ]
    }
   ],
   "source": [
    "print(\"Avg Precipitation Percentile for May in Alachua: \", reg.predict(alachua_april))"
   ]
  },
  {
   "cell_type": "code",
   "execution_count": 88,
   "metadata": {},
   "outputs": [
    {
     "data": {
      "text/html": [
       "<div>\n",
       "<style scoped>\n",
       "    .dataframe tbody tr th:only-of-type {\n",
       "        vertical-align: middle;\n",
       "    }\n",
       "\n",
       "    .dataframe tbody tr th {\n",
       "        vertical-align: top;\n",
       "    }\n",
       "\n",
       "    .dataframe thead th {\n",
       "        text-align: right;\n",
       "    }\n",
       "</style>\n",
       "<table border=\"1\" class=\"dataframe\">\n",
       "  <thead>\n",
       "    <tr style=\"text-align: right;\">\n",
       "      <th></th>\n",
       "      <th>AVG_Dry_Spell</th>\n",
       "      <th>AVG_Frost_Days</th>\n",
       "      <th>AVG_Max_High_Temp</th>\n",
       "      <th>AVG_Min_Low_Temp</th>\n",
       "      <th>AVG_Precip_Percentile</th>\n",
       "    </tr>\n",
       "    <tr>\n",
       "      <th>Date</th>\n",
       "      <th></th>\n",
       "      <th></th>\n",
       "      <th></th>\n",
       "      <th></th>\n",
       "      <th></th>\n",
       "    </tr>\n",
       "  </thead>\n",
       "  <tbody>\n",
       "    <tr>\n",
       "      <th>2023-04-01</th>\n",
       "      <td>0.238095</td>\n",
       "      <td>1.333333</td>\n",
       "      <td>83.160816</td>\n",
       "      <td>31.140722</td>\n",
       "      <td>0.018859</td>\n",
       "    </tr>\n",
       "    <tr>\n",
       "      <th>2023-05-01</th>\n",
       "      <td>0.333333</td>\n",
       "      <td>0.047619</td>\n",
       "      <td>89.866470</td>\n",
       "      <td>39.988250</td>\n",
       "      <td>0.041457</td>\n",
       "    </tr>\n",
       "    <tr>\n",
       "      <th>2023-06-01</th>\n",
       "      <td>0.285714</td>\n",
       "      <td>0.000000</td>\n",
       "      <td>96.664023</td>\n",
       "      <td>51.888881</td>\n",
       "      <td>0.041154</td>\n",
       "    </tr>\n",
       "  </tbody>\n",
       "</table>\n",
       "</div>"
      ],
      "text/plain": [
       "            AVG_Dry_Spell  AVG_Frost_Days  AVG_Max_High_Temp  \\\n",
       "Date                                                           \n",
       "2023-04-01       0.238095        1.333333          83.160816   \n",
       "2023-05-01       0.333333        0.047619          89.866470   \n",
       "2023-06-01       0.285714        0.000000          96.664023   \n",
       "\n",
       "            AVG_Min_Low_Temp  AVG_Precip_Percentile  \n",
       "Date                                                 \n",
       "2023-04-01         31.140722               0.018859  \n",
       "2023-05-01         39.988250               0.041457  \n",
       "2023-06-01         51.888881               0.041154  "
      ]
     },
     "execution_count": 88,
     "metadata": {},
     "output_type": "execute_result"
    }
   ],
   "source": [
    "adelphi_df.iloc[207:][predictors]"
   ]
  },
  {
   "cell_type": "code",
   "execution_count": null,
   "metadata": {},
   "outputs": [],
   "source": []
  }
 ],
 "metadata": {
  "kernelspec": {
   "display_name": "Python 3 (ipykernel)",
   "language": "python",
   "name": "python3"
  },
  "language_info": {
   "codemirror_mode": {
    "name": "ipython",
    "version": 3
   },
   "file_extension": ".py",
   "mimetype": "text/x-python",
   "name": "python",
   "nbconvert_exporter": "python",
   "pygments_lexer": "ipython3",
   "version": "3.9.12"
  }
 },
 "nbformat": 4,
 "nbformat_minor": 2
}
